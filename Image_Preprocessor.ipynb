{
 "cells": [
  {
   "cell_type": "markdown",
   "id": "225478b2-d006-4376-92d8-abc31e35802a",
   "metadata": {},
   "source": [
    "## Parallel image downloader function"
   ]
  },
  {
   "cell_type": "code",
   "execution_count": 2,
   "id": "cefff75e-5696-4cf6-a189-2838fa49d5a4",
   "metadata": {
    "scrolled": true
   },
   "outputs": [
    {
     "name": "stderr",
     "output_type": "stream",
     "text": [
      "Downloading images:   0%|                                                              | 1/936 [00:03<56:29,  3.62s/it]"
     ]
    },
    {
     "name": "stdout",
     "output_type": "stream",
     "text": [
      "Downloaded: image_12.jpg\n"
     ]
    },
    {
     "name": "stderr",
     "output_type": "stream",
     "text": [
      "Downloading images:   0%|▏                                                             | 2/936 [00:04<27:21,  1.76s/it]"
     ]
    },
    {
     "name": "stdout",
     "output_type": "stream",
     "text": [
      "Downloaded: image_7.jpeg\n"
     ]
    },
    {
     "name": "stderr",
     "output_type": "stream",
     "text": [
      "Downloading images:   0%|▏                                                             | 3/936 [00:06<29:26,  1.89s/it]"
     ]
    },
    {
     "name": "stdout",
     "output_type": "stream",
     "text": [
      "Downloaded: image_4.jpg\n",
      "Downloaded: image_13.jpg\n"
     ]
    },
    {
     "name": "stderr",
     "output_type": "stream",
     "text": [
      "Downloading images:   1%|▎                                                             | 5/936 [00:06<14:59,  1.04it/s]"
     ]
    },
    {
     "name": "stdout",
     "output_type": "stream",
     "text": [
      "Downloaded: image_19.jpg\n"
     ]
    },
    {
     "name": "stderr",
     "output_type": "stream",
     "text": [
      "Downloading images:   1%|▍                                                             | 6/936 [00:10<28:35,  1.84s/it]"
     ]
    },
    {
     "name": "stdout",
     "output_type": "stream",
     "text": [
      "Downloaded: image_10.jpeg\n"
     ]
    },
    {
     "name": "stderr",
     "output_type": "stream",
     "text": [
      "Downloading images:   1%|▌                                                             | 8/936 [00:13<22:14,  1.44s/it]"
     ]
    },
    {
     "name": "stdout",
     "output_type": "stream",
     "text": [
      "Downloaded: image_15.jpg\n",
      "Downloaded: image_17.jpg\n"
     ]
    },
    {
     "name": "stderr",
     "output_type": "stream",
     "text": [
      "Downloading images:   1%|▌                                                             | 9/936 [00:13<19:45,  1.28s/it]"
     ]
    },
    {
     "name": "stdout",
     "output_type": "stream",
     "text": [
      "Downloaded: image_9.jpg\n"
     ]
    },
    {
     "name": "stderr",
     "output_type": "stream",
     "text": [
      "Downloading images:   1%|▋                                                            | 10/936 [00:14<15:19,  1.01it/s]"
     ]
    },
    {
     "name": "stdout",
     "output_type": "stream",
     "text": [
      "Downloaded: image_2.jpg\n",
      "Downloaded: image_14.jpg\n",
      "Downloaded: image_11.jpg\n"
     ]
    },
    {
     "name": "stderr",
     "output_type": "stream",
     "text": [
      "Downloading images:   1%|▊                                                            | 13/936 [00:16<13:59,  1.10it/s]"
     ]
    },
    {
     "name": "stdout",
     "output_type": "stream",
     "text": [
      "Downloaded: image_18.jpg\n"
     ]
    },
    {
     "name": "stderr",
     "output_type": "stream",
     "text": [
      "Downloading images:   1%|▉                                                            | 14/936 [00:17<13:58,  1.10it/s]"
     ]
    },
    {
     "name": "stdout",
     "output_type": "stream",
     "text": [
      "Downloaded: image_5.jpg\n"
     ]
    },
    {
     "name": "stderr",
     "output_type": "stream",
     "text": [
      "Downloading images:   2%|▉                                                            | 15/936 [00:18<11:42,  1.31it/s]"
     ]
    },
    {
     "name": "stdout",
     "output_type": "stream",
     "text": [
      "Downloaded: image_6.jpg\n"
     ]
    },
    {
     "name": "stderr",
     "output_type": "stream",
     "text": [
      "Downloading images:   2%|█                                                            | 16/936 [00:21<21:01,  1.37s/it]"
     ]
    },
    {
     "name": "stdout",
     "output_type": "stream",
     "text": [
      "Downloaded: image_20.jpg\n"
     ]
    },
    {
     "name": "stderr",
     "output_type": "stream",
     "text": [
      "Downloading images:   2%|█▏                                                           | 18/936 [00:22<14:46,  1.04it/s]"
     ]
    },
    {
     "name": "stdout",
     "output_type": "stream",
     "text": [
      "Downloaded: image_23.jpeg\n",
      "Downloaded: image_24.jpeg\n"
     ]
    },
    {
     "name": "stderr",
     "output_type": "stream",
     "text": [
      "Downloading images:   2%|█▏                                                           | 19/936 [00:22<11:58,  1.28it/s]"
     ]
    },
    {
     "name": "stdout",
     "output_type": "stream",
     "text": [
      "Downloaded: image_16.jpg\n"
     ]
    },
    {
     "name": "stderr",
     "output_type": "stream",
     "text": [
      "Downloading images:   2%|█▎                                                           | 20/936 [00:24<18:12,  1.19s/it]"
     ]
    },
    {
     "name": "stdout",
     "output_type": "stream",
     "text": [
      "Downloaded: image_8.jpeg\n"
     ]
    },
    {
     "name": "stderr",
     "output_type": "stream",
     "text": [
      "Downloading images:   2%|█▎                                                           | 21/936 [00:25<15:08,  1.01it/s]"
     ]
    },
    {
     "name": "stdout",
     "output_type": "stream",
     "text": [
      "Downloaded: image_28.jpg\n"
     ]
    },
    {
     "name": "stderr",
     "output_type": "stream",
     "text": [
      "Downloading images:   2%|█▍                                                           | 22/936 [00:25<12:32,  1.21it/s]"
     ]
    },
    {
     "name": "stdout",
     "output_type": "stream",
     "text": [
      "Downloaded: image_27.jpg\n",
      "Downloaded: image_32.jpg\n"
     ]
    },
    {
     "name": "stderr",
     "output_type": "stream",
     "text": [
      "Downloading images:   3%|█▌                                                           | 24/936 [00:26<07:46,  1.95it/s]"
     ]
    },
    {
     "name": "stdout",
     "output_type": "stream",
     "text": [
      "Downloaded: image_29.jpeg\n"
     ]
    },
    {
     "name": "stderr",
     "output_type": "stream",
     "text": [
      "Downloading images:   3%|█▋                                                           | 25/936 [00:26<07:51,  1.93it/s]"
     ]
    },
    {
     "name": "stdout",
     "output_type": "stream",
     "text": [
      "Downloaded: image_3.png\n"
     ]
    },
    {
     "name": "stderr",
     "output_type": "stream",
     "text": [
      "Downloading images:   3%|█▋                                                           | 26/936 [00:27<08:42,  1.74it/s]"
     ]
    },
    {
     "name": "stdout",
     "output_type": "stream",
     "text": [
      "Downloaded: image_21.png\n"
     ]
    },
    {
     "name": "stderr",
     "output_type": "stream",
     "text": [
      "Downloading images:   3%|█▊                                                           | 27/936 [00:28<09:56,  1.52it/s]"
     ]
    },
    {
     "name": "stdout",
     "output_type": "stream",
     "text": [
      "Downloaded: image_1.png\n"
     ]
    },
    {
     "name": "stderr",
     "output_type": "stream",
     "text": [
      "Downloading images:   3%|█▉                                                           | 29/936 [00:30<10:53,  1.39it/s]"
     ]
    },
    {
     "name": "stdout",
     "output_type": "stream",
     "text": [
      "Downloaded: image_38.jpg\n",
      "Downloaded: image_35.jpg\n",
      "Downloaded: image_34.jpg\n"
     ]
    },
    {
     "name": "stderr",
     "output_type": "stream",
     "text": [
      "Downloading images:   3%|██                                                           | 32/936 [00:31<07:12,  2.09it/s]"
     ]
    },
    {
     "name": "stdout",
     "output_type": "stream",
     "text": [
      "Downloaded: image_22.png\n",
      "Downloaded: image_26.jpg\n"
     ]
    },
    {
     "name": "stderr",
     "output_type": "stream",
     "text": [
      "Downloading images:   4%|██▏                                                          | 33/936 [00:31<07:43,  1.95it/s]"
     ]
    },
    {
     "name": "stdout",
     "output_type": "stream",
     "text": [
      "Downloaded: image_41.jpg\n"
     ]
    },
    {
     "name": "stderr",
     "output_type": "stream",
     "text": [
      "Downloading images:   4%|██▏                                                          | 34/936 [00:32<09:17,  1.62it/s]"
     ]
    },
    {
     "name": "stdout",
     "output_type": "stream",
     "text": [
      "Downloaded: image_36.jpg\n",
      "Downloaded: image_33.jpg\n",
      "Downloaded: image_43.jpg\n"
     ]
    },
    {
     "name": "stderr",
     "output_type": "stream",
     "text": [
      "Downloading images:   4%|██▌                                                          | 39/936 [00:33<04:09,  3.60it/s]"
     ]
    },
    {
     "name": "stdout",
     "output_type": "stream",
     "text": [
      "Downloaded: image_31.jpg\n",
      "Downloaded: image_39.jpg\n",
      "Downloaded: image_30.png\n"
     ]
    },
    {
     "name": "stderr",
     "output_type": "stream",
     "text": [
      "Downloading images:   4%|██▌                                                          | 40/936 [00:33<04:53,  3.06it/s]"
     ]
    },
    {
     "name": "stdout",
     "output_type": "stream",
     "text": [
      "Downloaded: image_37.jpg\n"
     ]
    },
    {
     "name": "stderr",
     "output_type": "stream",
     "text": [
      "Downloading images:   4%|██▋                                                          | 41/936 [00:34<04:55,  3.03it/s]"
     ]
    },
    {
     "name": "stdout",
     "output_type": "stream",
     "text": [
      "Downloaded: image_40.jpg\n"
     ]
    },
    {
     "name": "stderr",
     "output_type": "stream",
     "text": [
      "Downloading images:   4%|██▋                                                          | 42/936 [00:35<09:22,  1.59it/s]"
     ]
    },
    {
     "name": "stdout",
     "output_type": "stream",
     "text": [
      "Downloaded: image_42.jpg\n"
     ]
    },
    {
     "name": "stderr",
     "output_type": "stream",
     "text": [
      "Downloading images:   5%|██▊                                                          | 43/936 [00:36<10:40,  1.39it/s]"
     ]
    },
    {
     "name": "stdout",
     "output_type": "stream",
     "text": [
      "Downloaded: image_48.jpg\n",
      "Downloaded: image_45.jpg\n"
     ]
    },
    {
     "name": "stderr",
     "output_type": "stream",
     "text": [
      "Downloading images:   5%|██▉                                                          | 45/936 [00:37<08:33,  1.73it/s]"
     ]
    },
    {
     "name": "stdout",
     "output_type": "stream",
     "text": [
      "Downloaded: image_50.png\n"
     ]
    },
    {
     "name": "stderr",
     "output_type": "stream",
     "text": [
      "Downloading images:   5%|███                                                          | 47/936 [00:39<09:30,  1.56it/s]"
     ]
    },
    {
     "name": "stdout",
     "output_type": "stream",
     "text": [
      "Downloaded: image_44.jpg\n",
      "Downloaded: image_46.jpg\n",
      "Downloaded: image_54.jpeg\n"
     ]
    },
    {
     "name": "stderr",
     "output_type": "stream",
     "text": [
      "Downloading images:   5%|███▏                                                         | 49/936 [00:39<05:36,  2.64it/s]"
     ]
    },
    {
     "name": "stdout",
     "output_type": "stream",
     "text": [
      "Downloaded: image_51.jpg\n"
     ]
    },
    {
     "name": "stderr",
     "output_type": "stream",
     "text": [
      "Downloading images:   5%|███▎                                                         | 50/936 [00:39<05:27,  2.70it/s]"
     ]
    },
    {
     "name": "stdout",
     "output_type": "stream",
     "text": [
      "Downloaded: image_49.jpg\n",
      "Downloaded: image_47.jpg\n",
      "Downloaded: image_53.jpeg\n"
     ]
    },
    {
     "name": "stderr",
     "output_type": "stream",
     "text": [
      "Downloading images:   6%|███▍                                                         | 53/936 [00:40<05:06,  2.88it/s]"
     ]
    },
    {
     "name": "stdout",
     "output_type": "stream",
     "text": [
      "Downloaded: image_52.jpg\n"
     ]
    },
    {
     "name": "stderr",
     "output_type": "stream",
     "text": [
      "Downloading images:   6%|███▌                                                         | 54/936 [00:41<05:57,  2.46it/s]"
     ]
    },
    {
     "name": "stdout",
     "output_type": "stream",
     "text": [
      "Downloaded: image_61.png\n",
      "Downloaded: image_58.jpg\n"
     ]
    },
    {
     "name": "stderr",
     "output_type": "stream",
     "text": [
      "Downloading images:   6%|███▋                                                         | 56/936 [00:41<04:46,  3.07it/s]"
     ]
    },
    {
     "name": "stdout",
     "output_type": "stream",
     "text": [
      "Downloaded: image_60.jpg\n",
      "Downloaded: image_55.jpg\n"
     ]
    },
    {
     "name": "stderr",
     "output_type": "stream",
     "text": [
      "Downloading images:   6%|███▊                                                         | 58/936 [00:42<04:08,  3.53it/s]"
     ]
    },
    {
     "name": "stdout",
     "output_type": "stream",
     "text": [
      "Downloaded: image_64.jpg\n"
     ]
    },
    {
     "name": "stderr",
     "output_type": "stream",
     "text": [
      "Downloading images:   6%|███▊                                                         | 59/936 [00:42<06:07,  2.39it/s]"
     ]
    },
    {
     "name": "stdout",
     "output_type": "stream",
     "text": [
      "Downloaded: image_72.jpeg\n"
     ]
    },
    {
     "name": "stderr",
     "output_type": "stream",
     "text": [
      "Downloading images:   6%|███▉                                                         | 60/936 [00:43<06:41,  2.18it/s]"
     ]
    },
    {
     "name": "stdout",
     "output_type": "stream",
     "text": [
      "Downloaded: image_56.jpg\n"
     ]
    },
    {
     "name": "stderr",
     "output_type": "stream",
     "text": [
      "Downloading images:   7%|████                                                         | 62/936 [00:44<06:35,  2.21it/s]"
     ]
    },
    {
     "name": "stdout",
     "output_type": "stream",
     "text": [
      "Downloaded: image_69.jpg\n",
      "Downloaded: image_59.jpg\n"
     ]
    },
    {
     "name": "stderr",
     "output_type": "stream",
     "text": [
      "Downloading images:   7%|████                                                         | 63/936 [00:44<06:19,  2.30it/s]"
     ]
    },
    {
     "name": "stdout",
     "output_type": "stream",
     "text": [
      "Downloaded: image_63.jpg\n",
      "Downloaded: image_67.jpg\n"
     ]
    },
    {
     "name": "stderr",
     "output_type": "stream",
     "text": [
      "Downloading images:   7%|████▏                                                        | 65/936 [00:45<05:27,  2.66it/s]"
     ]
    },
    {
     "name": "stdout",
     "output_type": "stream",
     "text": [
      "Downloaded: image_68.jpeg\n"
     ]
    },
    {
     "name": "stderr",
     "output_type": "stream",
     "text": [
      "Downloading images:   7%|████▎                                                        | 66/936 [00:46<05:36,  2.58it/s]"
     ]
    },
    {
     "name": "stdout",
     "output_type": "stream",
     "text": [
      "Downloaded: image_76.jpg\n",
      "Downloaded: image_57.jpg\n"
     ]
    },
    {
     "name": "stderr",
     "output_type": "stream",
     "text": [
      "Downloading images:   7%|████▌                                                        | 70/936 [00:46<03:55,  3.67it/s]"
     ]
    },
    {
     "name": "stdout",
     "output_type": "stream",
     "text": [
      "Downloaded: image_66.jpg\n",
      "Downloaded: image_71.jpg\n",
      "Downloaded: image_75.jpg\n",
      "Downloaded: image_73.jpg\n"
     ]
    },
    {
     "name": "stderr",
     "output_type": "stream",
     "text": [
      "Downloading images:   8%|████▋                                                        | 72/936 [00:47<03:50,  3.75it/s]"
     ]
    },
    {
     "name": "stdout",
     "output_type": "stream",
     "text": [
      "Downloaded: image_77.jpeg\n"
     ]
    },
    {
     "name": "stderr",
     "output_type": "stream",
     "text": [
      "Downloading images:   8%|████▉                                                        | 75/936 [00:48<04:01,  3.56it/s]"
     ]
    },
    {
     "name": "stdout",
     "output_type": "stream",
     "text": [
      "Downloaded: image_74.jpg\n",
      "Downloaded: image_78.png\n",
      "Downloaded: image_25.png\n"
     ]
    },
    {
     "name": "stderr",
     "output_type": "stream",
     "text": [
      "Downloading images:   8%|████▉                                                        | 76/936 [00:48<04:37,  3.09it/s]"
     ]
    },
    {
     "name": "stdout",
     "output_type": "stream",
     "text": [
      "Downloaded: image_83.jpg\n"
     ]
    },
    {
     "name": "stderr",
     "output_type": "stream",
     "text": [
      "Downloading images:   8%|█████                                                        | 77/936 [00:50<06:54,  2.07it/s]"
     ]
    },
    {
     "name": "stdout",
     "output_type": "stream",
     "text": [
      "Downloaded: image_85.jpg\n"
     ]
    },
    {
     "name": "stderr",
     "output_type": "stream",
     "text": [
      "Downloading images:   8%|█████                                                        | 78/936 [00:50<06:01,  2.38it/s]"
     ]
    },
    {
     "name": "stdout",
     "output_type": "stream",
     "text": [
      "Downloaded: image_81.jpg\n"
     ]
    },
    {
     "name": "stderr",
     "output_type": "stream",
     "text": [
      "Downloading images:   9%|█████▏                                                       | 80/936 [00:50<04:36,  3.09it/s]"
     ]
    },
    {
     "name": "stdout",
     "output_type": "stream",
     "text": [
      "Downloaded: image_80.jpeg\n",
      "Downloaded: image_65.jpg\n"
     ]
    },
    {
     "name": "stderr",
     "output_type": "stream",
     "text": [
      "Downloading images:   9%|█████▎                                                       | 82/936 [00:52<06:59,  2.04it/s]"
     ]
    },
    {
     "name": "stdout",
     "output_type": "stream",
     "text": [
      "Downloaded: image_91.jpg\n",
      "Downloaded: image_62.jpg\n",
      "Downloaded: image_84.jpg\n"
     ]
    },
    {
     "name": "stderr",
     "output_type": "stream",
     "text": [
      "Downloading images:   9%|█████▍                                                       | 84/936 [00:52<05:17,  2.69it/s]"
     ]
    },
    {
     "name": "stdout",
     "output_type": "stream",
     "text": [
      "Downloaded: image_70.jpg\n"
     ]
    },
    {
     "name": "stderr",
     "output_type": "stream",
     "text": [
      "Downloading images:   9%|█████▌                                                       | 85/936 [00:53<06:11,  2.29it/s]"
     ]
    },
    {
     "name": "stdout",
     "output_type": "stream",
     "text": [
      "Downloaded: image_94.jpg\n",
      "Downloaded: image_89.jpg\n"
     ]
    },
    {
     "name": "stderr",
     "output_type": "stream",
     "text": [
      "Downloading images:   9%|█████▋                                                       | 87/936 [00:54<07:34,  1.87it/s]"
     ]
    },
    {
     "name": "stdout",
     "output_type": "stream",
     "text": [
      "Downloaded: image_88.jpg\n"
     ]
    },
    {
     "name": "stderr",
     "output_type": "stream",
     "text": [
      "Downloading images:   9%|█████▋                                                       | 88/936 [00:55<08:45,  1.61it/s]"
     ]
    },
    {
     "name": "stdout",
     "output_type": "stream",
     "text": [
      "Downloaded: image_92.jpg\n"
     ]
    },
    {
     "name": "stderr",
     "output_type": "stream",
     "text": [
      "Downloading images:  10%|█████▊                                                       | 89/936 [00:56<08:39,  1.63it/s]"
     ]
    },
    {
     "name": "stdout",
     "output_type": "stream",
     "text": [
      "Downloaded: image_86.jpg\n"
     ]
    },
    {
     "name": "stderr",
     "output_type": "stream",
     "text": [
      "Downloading images:  10%|█████▊                                                       | 90/936 [00:58<13:03,  1.08it/s]"
     ]
    },
    {
     "name": "stdout",
     "output_type": "stream",
     "text": [
      "Downloaded: image_82.jpg\n"
     ]
    },
    {
     "name": "stderr",
     "output_type": "stream",
     "text": [
      "Downloading images:  10%|█████▉                                                       | 91/936 [00:58<12:11,  1.16it/s]"
     ]
    },
    {
     "name": "stdout",
     "output_type": "stream",
     "text": [
      "Downloaded: image_95.jpeg\n",
      "Downloaded: image_93.jpg\n"
     ]
    },
    {
     "name": "stderr",
     "output_type": "stream",
     "text": [
      "Downloading images:  10%|██████▏                                                      | 95/936 [01:00<07:15,  1.93it/s]"
     ]
    },
    {
     "name": "stdout",
     "output_type": "stream",
     "text": [
      "Downloaded: image_90.jpeg\n",
      "Downloaded: image_100.jpg\n",
      "Downloaded: image_87.jpeg\n"
     ]
    },
    {
     "name": "stderr",
     "output_type": "stream",
     "text": [
      "Downloading images:  10%|██████▎                                                      | 96/936 [01:00<06:41,  2.09it/s]"
     ]
    },
    {
     "name": "stdout",
     "output_type": "stream",
     "text": [
      "Downloaded: image_101.jpeg\n"
     ]
    },
    {
     "name": "stderr",
     "output_type": "stream",
     "text": [
      "Downloading images:  10%|██████▎                                                      | 97/936 [01:01<07:12,  1.94it/s]"
     ]
    },
    {
     "name": "stdout",
     "output_type": "stream",
     "text": [
      "Downloaded: image_99.jpg\n"
     ]
    },
    {
     "name": "stderr",
     "output_type": "stream",
     "text": [
      "Downloading images:  10%|██████▍                                                      | 98/936 [01:02<10:31,  1.33it/s]"
     ]
    },
    {
     "name": "stdout",
     "output_type": "stream",
     "text": [
      "Downloaded: image_97.jpg\n"
     ]
    },
    {
     "name": "stderr",
     "output_type": "stream",
     "text": [
      "Downloading images:  11%|██████▍                                                      | 99/936 [01:03<11:55,  1.17it/s]"
     ]
    },
    {
     "name": "stdout",
     "output_type": "stream",
     "text": [
      "Downloaded: image_104.jpg\n"
     ]
    },
    {
     "name": "stderr",
     "output_type": "stream",
     "text": [
      "Downloading images:  11%|██████▍                                                     | 100/936 [01:06<17:54,  1.29s/it]"
     ]
    },
    {
     "name": "stdout",
     "output_type": "stream",
     "text": [
      "Downloaded: image_79.png\n"
     ]
    },
    {
     "name": "stderr",
     "output_type": "stream",
     "text": [
      "Downloading images:  11%|██████▍                                                     | 101/936 [01:06<14:06,  1.01s/it]"
     ]
    },
    {
     "name": "stdout",
     "output_type": "stream",
     "text": [
      "Downloaded: image_103.jpg\n",
      "Downloaded: image_108.png\n"
     ]
    },
    {
     "name": "stderr",
     "output_type": "stream",
     "text": [
      "Downloading images:  11%|██████▋                                                     | 104/936 [01:07<07:39,  1.81it/s]"
     ]
    },
    {
     "name": "stdout",
     "output_type": "stream",
     "text": [
      "Downloaded: image_114.jpg\n",
      "Downloaded: image_110.jpg\n",
      "Downloaded: image_106.png\n"
     ]
    },
    {
     "name": "stderr",
     "output_type": "stream",
     "text": [
      "Downloading images:  11%|██████▊                                                     | 106/936 [01:08<07:38,  1.81it/s]"
     ]
    },
    {
     "name": "stdout",
     "output_type": "stream",
     "text": [
      "Downloaded: image_115.jpg\n"
     ]
    },
    {
     "name": "stderr",
     "output_type": "stream",
     "text": [
      "Downloading images:  11%|██████▊                                                     | 107/936 [01:11<15:21,  1.11s/it]"
     ]
    },
    {
     "name": "stdout",
     "output_type": "stream",
     "text": [
      "Downloaded: image_119.jpeg\n"
     ]
    },
    {
     "name": "stderr",
     "output_type": "stream",
     "text": [
      "Downloading images:  12%|██████▉                                                     | 108/936 [01:11<12:40,  1.09it/s]"
     ]
    },
    {
     "name": "stdout",
     "output_type": "stream",
     "text": [
      "Downloaded: image_112.jpg\n"
     ]
    },
    {
     "name": "stderr",
     "output_type": "stream",
     "text": [
      "Downloading images:  12%|███████                                                     | 110/936 [01:12<08:27,  1.63it/s]"
     ]
    },
    {
     "name": "stdout",
     "output_type": "stream",
     "text": [
      "Downloaded: image_96.png\n",
      "Downloaded: image_109.jpg\n"
     ]
    },
    {
     "name": "stderr",
     "output_type": "stream",
     "text": [
      "Downloading images:  12%|███████                                                     | 111/936 [01:12<07:01,  1.96it/s]"
     ]
    },
    {
     "name": "stdout",
     "output_type": "stream",
     "text": [
      "Downloaded: image_113.jpg\n"
     ]
    },
    {
     "name": "stderr",
     "output_type": "stream",
     "text": [
      "Downloading images:  12%|███████▏                                                    | 112/936 [01:12<06:32,  2.10it/s]"
     ]
    },
    {
     "name": "stdout",
     "output_type": "stream",
     "text": [
      "Downloaded: image_102.jpg\n"
     ]
    },
    {
     "name": "stderr",
     "output_type": "stream",
     "text": [
      "Downloading images:  12%|███████▎                                                    | 114/936 [01:13<05:14,  2.61it/s]"
     ]
    },
    {
     "name": "stdout",
     "output_type": "stream",
     "text": [
      "Downloaded: image_124.jpg\n",
      "Downloaded: image_111.jpg\n",
      "Downloaded: image_122.jpg\n",
      "Downloaded: image_123.jpg\n"
     ]
    },
    {
     "name": "stderr",
     "output_type": "stream",
     "text": [
      "Downloading images:  12%|███████▌                                                    | 117/936 [01:13<03:12,  4.25it/s]"
     ]
    },
    {
     "name": "stdout",
     "output_type": "stream",
     "text": [
      "Downloaded: image_126.jpg\n"
     ]
    },
    {
     "name": "stderr",
     "output_type": "stream",
     "text": [
      "Downloading images:  13%|███████▌                                                    | 118/936 [01:16<08:41,  1.57it/s]"
     ]
    },
    {
     "name": "stdout",
     "output_type": "stream",
     "text": [
      "Downloaded: image_128.jpg\n",
      "Downloaded: image_129.jpg\n",
      "Downloaded: image_127.jpg\n",
      "Downloaded: image_105.png\n",
      "Downloaded: image_120.webp\n",
      "Downloaded: image_118.png\n"
     ]
    },
    {
     "name": "stderr",
     "output_type": "stream",
     "text": [
      "Downloading images:  13%|████████                                                    | 125/936 [01:16<03:19,  4.07it/s]"
     ]
    },
    {
     "name": "stdout",
     "output_type": "stream",
     "text": [
      "Downloaded: image_130.jpg\n",
      "Downloaded: image_107.png\n"
     ]
    },
    {
     "name": "stderr",
     "output_type": "stream",
     "text": [
      "Downloading images:  13%|████████                                                    | 126/936 [01:16<03:51,  3.51it/s]"
     ]
    },
    {
     "name": "stdout",
     "output_type": "stream",
     "text": [
      "Downloaded: image_133.jpg\n"
     ]
    },
    {
     "name": "stderr",
     "output_type": "stream",
     "text": [
      "Downloading images:  14%|████████▏                                                   | 127/936 [01:17<03:39,  3.69it/s]"
     ]
    },
    {
     "name": "stdout",
     "output_type": "stream",
     "text": [
      "Downloaded: image_131.jpg\n",
      "Downloaded: image_116.png\n"
     ]
    },
    {
     "name": "stderr",
     "output_type": "stream",
     "text": [
      "Downloading images:  14%|████████▎                                                   | 129/936 [01:17<03:08,  4.29it/s]"
     ]
    },
    {
     "name": "stdout",
     "output_type": "stream",
     "text": [
      "Downloaded: image_125.jpg\n"
     ]
    },
    {
     "name": "stderr",
     "output_type": "stream",
     "text": [
      "Downloading images:  14%|████████▎                                                   | 130/936 [01:18<04:25,  3.04it/s]"
     ]
    },
    {
     "name": "stdout",
     "output_type": "stream",
     "text": [
      "Downloaded: image_136.jpg\n"
     ]
    },
    {
     "name": "stderr",
     "output_type": "stream",
     "text": [
      "Downloading images:  14%|████████▍                                                   | 131/936 [01:18<04:03,  3.31it/s]"
     ]
    },
    {
     "name": "stdout",
     "output_type": "stream",
     "text": [
      "Downloaded: image_132.jpg\n"
     ]
    },
    {
     "name": "stderr",
     "output_type": "stream",
     "text": [
      "Downloading images:  14%|████████▍                                                   | 132/936 [01:19<05:11,  2.58it/s]"
     ]
    },
    {
     "name": "stdout",
     "output_type": "stream",
     "text": [
      "Downloaded: image_140.jpeg\n"
     ]
    },
    {
     "name": "stderr",
     "output_type": "stream",
     "text": [
      "Downloading images:  14%|████████▌                                                   | 133/936 [01:19<05:41,  2.35it/s]"
     ]
    },
    {
     "name": "stdout",
     "output_type": "stream",
     "text": [
      "Downloaded: image_143.jpeg\n",
      "Downloaded: image_142.jpeg\n",
      "Downloaded: image_141.jpg\n"
     ]
    },
    {
     "name": "stderr",
     "output_type": "stream",
     "text": [
      "Downloading images:  15%|████████▋                                                   | 136/936 [01:20<04:32,  2.93it/s]"
     ]
    },
    {
     "name": "stdout",
     "output_type": "stream",
     "text": [
      "Downloaded: image_144.jpg\n"
     ]
    },
    {
     "name": "stderr",
     "output_type": "stream",
     "text": [
      "Downloading images:  15%|████████▉                                                   | 140/936 [01:21<03:04,  4.30it/s]"
     ]
    },
    {
     "name": "stdout",
     "output_type": "stream",
     "text": [
      "Downloaded: image_135.jpeg\n",
      "Downloaded: image_137.png\n",
      "Downloaded: image_121.png\n",
      "Downloaded: image_147.jpg\n"
     ]
    },
    {
     "name": "stderr",
     "output_type": "stream",
     "text": [
      "Downloading images:  15%|█████████                                                   | 141/936 [01:21<03:04,  4.30it/s]"
     ]
    },
    {
     "name": "stdout",
     "output_type": "stream",
     "text": [
      "Downloaded: image_98.jpg\n",
      "Downloaded: image_134.jpg\n"
     ]
    },
    {
     "name": "stderr",
     "output_type": "stream",
     "text": [
      "Downloading images:  15%|█████████▏                                                  | 143/936 [01:22<03:45,  3.52it/s]"
     ]
    },
    {
     "name": "stdout",
     "output_type": "stream",
     "text": [
      "Downloaded: image_139.jpg\n"
     ]
    },
    {
     "name": "stderr",
     "output_type": "stream",
     "text": [
      "Downloading images:  15%|█████████▏                                                  | 144/936 [01:23<07:21,  1.79it/s]"
     ]
    },
    {
     "name": "stdout",
     "output_type": "stream",
     "text": [
      "Downloaded: image_138.png\n"
     ]
    },
    {
     "name": "stderr",
     "output_type": "stream",
     "text": [
      "Downloading images:  15%|█████████▎                                                  | 145/936 [01:24<06:29,  2.03it/s]"
     ]
    },
    {
     "name": "stdout",
     "output_type": "stream",
     "text": [
      "Downloaded: image_158.jpeg\n"
     ]
    },
    {
     "name": "stderr",
     "output_type": "stream",
     "text": [
      "Downloading images:  16%|█████████▎                                                  | 146/936 [01:25<09:22,  1.41it/s]"
     ]
    },
    {
     "name": "stdout",
     "output_type": "stream",
     "text": [
      "Downloaded: image_156.jpg\n"
     ]
    },
    {
     "name": "stderr",
     "output_type": "stream",
     "text": [
      "Downloading images:  16%|█████████▌                                                  | 150/936 [01:26<04:37,  2.83it/s]"
     ]
    },
    {
     "name": "stdout",
     "output_type": "stream",
     "text": [
      "Downloaded: image_163.jpg\n",
      "Downloaded: image_151.jpg\n",
      "Downloaded: image_146.png\n",
      "Downloaded: image_149.png\n"
     ]
    },
    {
     "name": "stderr",
     "output_type": "stream",
     "text": [
      "Downloading images:  16%|█████████▋                                                  | 151/936 [01:26<04:23,  2.98it/s]"
     ]
    },
    {
     "name": "stdout",
     "output_type": "stream",
     "text": [
      "Downloaded: image_154.png\n"
     ]
    },
    {
     "name": "stderr",
     "output_type": "stream",
     "text": [
      "Downloading images:  16%|█████████▋                                                  | 152/936 [01:26<04:12,  3.10it/s]"
     ]
    },
    {
     "name": "stdout",
     "output_type": "stream",
     "text": [
      "Downloaded: image_152.png\n"
     ]
    },
    {
     "name": "stderr",
     "output_type": "stream",
     "text": [
      "Downloading images:  16%|█████████▊                                                  | 153/936 [01:26<03:53,  3.36it/s]"
     ]
    },
    {
     "name": "stdout",
     "output_type": "stream",
     "text": [
      "Downloaded: image_148.png\n"
     ]
    },
    {
     "name": "stderr",
     "output_type": "stream",
     "text": [
      "Downloading images:  17%|█████████▉                                                  | 155/936 [01:27<03:10,  4.10it/s]"
     ]
    },
    {
     "name": "stdout",
     "output_type": "stream",
     "text": [
      "Downloaded: image_161.png\n",
      "Downloaded: image_157.jpeg\n",
      "Downloaded: image_160.jpg\n"
     ]
    },
    {
     "name": "stderr",
     "output_type": "stream",
     "text": [
      "Downloading images:  17%|██████████                                                  | 157/936 [01:27<02:05,  6.20it/s]"
     ]
    },
    {
     "name": "stdout",
     "output_type": "stream",
     "text": [
      "Downloaded: image_162.jpg\n"
     ]
    },
    {
     "name": "stderr",
     "output_type": "stream",
     "text": [
      "Downloading images:  17%|██████████▏                                                 | 158/936 [01:28<04:50,  2.68it/s]"
     ]
    },
    {
     "name": "stdout",
     "output_type": "stream",
     "text": [
      "Downloaded: image_153.png\n"
     ]
    },
    {
     "name": "stderr",
     "output_type": "stream",
     "text": [
      "Downloading images:  17%|██████████▎                                                 | 160/936 [01:29<04:13,  3.06it/s]"
     ]
    },
    {
     "name": "stdout",
     "output_type": "stream",
     "text": [
      "Downloaded: image_167.jpg\n",
      "Downloaded: image_165.jpg\n"
     ]
    },
    {
     "name": "stderr",
     "output_type": "stream",
     "text": [
      "Downloading images:  17%|██████████▎                                                 | 161/936 [01:29<03:34,  3.61it/s]"
     ]
    },
    {
     "name": "stdout",
     "output_type": "stream",
     "text": [
      "Downloaded: image_155.png\n"
     ]
    },
    {
     "name": "stderr",
     "output_type": "stream",
     "text": [
      "Downloading images:  17%|██████████▍                                                 | 162/936 [01:30<07:37,  1.69it/s]"
     ]
    },
    {
     "name": "stdout",
     "output_type": "stream",
     "text": [
      "Downloaded: image_164.jpg\n"
     ]
    },
    {
     "name": "stderr",
     "output_type": "stream",
     "text": [
      "Downloading images:  18%|██████████▌                                                 | 164/936 [01:31<05:39,  2.27it/s]"
     ]
    },
    {
     "name": "stdout",
     "output_type": "stream",
     "text": [
      "Downloaded: image_174.jpg\n",
      "Downloaded: image_170.jpg\n"
     ]
    },
    {
     "name": "stderr",
     "output_type": "stream",
     "text": [
      "Downloading images:  18%|██████████▋                                                 | 167/936 [01:31<02:59,  4.29it/s]"
     ]
    },
    {
     "name": "stdout",
     "output_type": "stream",
     "text": [
      "Downloaded: image_168.jpg\n",
      "Downloaded: image_145.png\n",
      "Downloaded: image_150.png\n",
      "Downloaded: image_159.jpg\n"
     ]
    },
    {
     "name": "stderr",
     "output_type": "stream",
     "text": [
      "Downloading images:  18%|██████████▊                                                 | 169/936 [01:32<04:51,  2.63it/s]"
     ]
    },
    {
     "name": "stdout",
     "output_type": "stream",
     "text": [
      "Downloaded: image_166.png\n"
     ]
    },
    {
     "name": "stderr",
     "output_type": "stream",
     "text": [
      "Downloading images:  18%|██████████▉                                                 | 170/936 [01:33<06:01,  2.12it/s]"
     ]
    },
    {
     "name": "stdout",
     "output_type": "stream",
     "text": [
      "Downloaded: image_169.png\n",
      "Downloaded: image_171.jpg\n"
     ]
    },
    {
     "name": "stderr",
     "output_type": "stream",
     "text": [
      "Downloading images:  18%|███████████                                                 | 172/936 [01:34<05:01,  2.54it/s]"
     ]
    },
    {
     "name": "stdout",
     "output_type": "stream",
     "text": [
      "Downloaded: image_173.jpg\n",
      "Downloaded: image_180.jpg\n"
     ]
    },
    {
     "name": "stderr",
     "output_type": "stream",
     "text": [
      "Downloading images:  18%|███████████                                                 | 173/936 [01:34<04:16,  2.98it/s]"
     ]
    },
    {
     "name": "stdout",
     "output_type": "stream",
     "text": [
      "Downloaded: image_181.jpg\n"
     ]
    },
    {
     "name": "stderr",
     "output_type": "stream",
     "text": [
      "Downloading images:  19%|███████████▏                                                | 175/936 [01:35<04:20,  2.93it/s]"
     ]
    },
    {
     "name": "stdout",
     "output_type": "stream",
     "text": [
      "Downloaded: image_178.jpg\n",
      "Downloaded: image_117.png\n"
     ]
    },
    {
     "name": "stderr",
     "output_type": "stream",
     "text": [
      "Downloading images:  19%|███████████▎                                                | 177/936 [01:35<04:27,  2.84it/s]"
     ]
    },
    {
     "name": "stdout",
     "output_type": "stream",
     "text": [
      "Downloaded: image_175.jpg\n"
     ]
    },
    {
     "name": "stderr",
     "output_type": "stream",
     "text": [
      "Downloading images:  19%|███████████▌                                                | 180/936 [01:36<02:55,  4.30it/s]"
     ]
    },
    {
     "name": "stdout",
     "output_type": "stream",
     "text": [
      "Downloaded: image_177.jpg\n",
      "Downloaded: image_188.jpg\n",
      "Downloaded: image_179.jpg\n"
     ]
    },
    {
     "name": "stderr",
     "output_type": "stream",
     "text": [
      "Downloading images:  19%|███████████▌                                                | 181/936 [01:37<06:29,  1.94it/s]"
     ]
    },
    {
     "name": "stdout",
     "output_type": "stream",
     "text": [
      "Downloaded: image_176.jpg\n"
     ]
    },
    {
     "name": "stderr",
     "output_type": "stream",
     "text": [
      "Downloading images:  19%|███████████▋                                                | 182/936 [01:37<05:42,  2.20it/s]"
     ]
    },
    {
     "name": "stdout",
     "output_type": "stream",
     "text": [
      "Downloaded: image_172.jpg\n"
     ]
    },
    {
     "name": "stderr",
     "output_type": "stream",
     "text": [
      "Downloading images:  20%|███████████▋                                                | 183/936 [01:38<05:43,  2.19it/s]"
     ]
    },
    {
     "name": "stdout",
     "output_type": "stream",
     "text": [
      "Downloaded: image_189.jpg\n"
     ]
    },
    {
     "name": "stderr",
     "output_type": "stream",
     "text": [
      "Downloading images:  20%|███████████▊                                                | 184/936 [01:39<07:19,  1.71it/s]"
     ]
    },
    {
     "name": "stdout",
     "output_type": "stream",
     "text": [
      "Downloaded: image_182.jpg\n",
      "Downloaded: image_191.jpg\n"
     ]
    },
    {
     "name": "stderr",
     "output_type": "stream",
     "text": [
      "Downloading images:  20%|███████████▉                                                | 186/936 [01:40<08:07,  1.54it/s]"
     ]
    },
    {
     "name": "stdout",
     "output_type": "stream",
     "text": [
      "Downloaded: image_184.jpg\n"
     ]
    },
    {
     "name": "stderr",
     "output_type": "stream",
     "text": [
      "Downloading images:  20%|████████████                                                | 188/936 [01:43<11:32,  1.08it/s]"
     ]
    },
    {
     "name": "stdout",
     "output_type": "stream",
     "text": [
      "Downloaded: image_196.jpeg\n",
      "Downloaded: image_193.jpg\n"
     ]
    },
    {
     "name": "stderr",
     "output_type": "stream",
     "text": [
      "Downloading images:  20%|████████████▏                                               | 190/936 [01:44<07:12,  1.73it/s]"
     ]
    },
    {
     "name": "stdout",
     "output_type": "stream",
     "text": [
      "Downloaded: image_183.jpg\n",
      "Downloaded: image_187.jpg\n"
     ]
    },
    {
     "name": "stderr",
     "output_type": "stream",
     "text": [
      "Downloading images:  20%|████████████▏                                               | 191/936 [01:44<05:33,  2.24it/s]"
     ]
    },
    {
     "name": "stdout",
     "output_type": "stream",
     "text": [
      "Downloaded: image_198.jpeg\n",
      "Downloaded: image_194.jpeg\n",
      "Downloaded: image_199.jpeg\n"
     ]
    },
    {
     "name": "stderr",
     "output_type": "stream",
     "text": [
      "Downloading images:  21%|████████████▎                                               | 193/936 [01:44<03:37,  3.42it/s]"
     ]
    },
    {
     "name": "stdout",
     "output_type": "stream",
     "text": [
      "Downloaded: image_185.jpg\n"
     ]
    },
    {
     "name": "stderr",
     "output_type": "stream",
     "text": [
      "Downloading images:  21%|████████████▌                                               | 195/936 [01:45<03:48,  3.24it/s]"
     ]
    },
    {
     "name": "stdout",
     "output_type": "stream",
     "text": [
      "Downloaded: image_190.jpg\n",
      "Downloaded: image_195.jpeg\n"
     ]
    },
    {
     "name": "stderr",
     "output_type": "stream",
     "text": [
      "Downloading images:  21%|████████████▋                                               | 198/936 [01:46<03:36,  3.41it/s]"
     ]
    },
    {
     "name": "stdout",
     "output_type": "stream",
     "text": [
      "Downloaded: image_192.jpg\n",
      "Downloaded: image_186.jpg\n"
     ]
    },
    {
     "name": "stderr",
     "output_type": "stream",
     "text": [
      "Downloading images:  21%|████████████▊                                               | 199/936 [01:47<06:16,  1.96it/s]"
     ]
    },
    {
     "name": "stdout",
     "output_type": "stream",
     "text": [
      "Downloaded: image_200.jpeg\n"
     ]
    },
    {
     "name": "stderr",
     "output_type": "stream",
     "text": [
      "Downloading images:  21%|████████████▊                                               | 200/936 [01:48<06:56,  1.77it/s]"
     ]
    },
    {
     "name": "stdout",
     "output_type": "stream",
     "text": [
      "Downloaded: image_206.jpg\n"
     ]
    },
    {
     "name": "stderr",
     "output_type": "stream",
     "text": [
      "Downloading images:  21%|████████████▉                                               | 201/936 [01:49<07:48,  1.57it/s]"
     ]
    },
    {
     "name": "stdout",
     "output_type": "stream",
     "text": [
      "Downloaded: image_209.jpeg\n",
      "Downloaded: image_204.jpg\n"
     ]
    },
    {
     "name": "stderr",
     "output_type": "stream",
     "text": [
      "Downloading images:  22%|█████████████▎                                              | 207/936 [01:50<03:54,  3.11it/s]"
     ]
    },
    {
     "name": "stdout",
     "output_type": "stream",
     "text": [
      "Downloaded: image_214.jpg\n",
      "Downloaded: image_217.jpeg\n",
      "Downloaded: image_203.jpg\n",
      "Downloaded: image_202.jpeg\n",
      "Downloaded: image_201.jpg\n",
      "Downloaded: image_205.jpg\n"
     ]
    },
    {
     "name": "stderr",
     "output_type": "stream",
     "text": [
      "Downloading images:  22%|█████████████▍                                              | 210/936 [01:52<05:41,  2.13it/s]"
     ]
    },
    {
     "name": "stdout",
     "output_type": "stream",
     "text": [
      "Downloaded: image_207.png\n",
      "Downloaded: image_215.jpg\n"
     ]
    },
    {
     "name": "stderr",
     "output_type": "stream",
     "text": [
      "Downloading images:  23%|█████████████▌                                              | 212/936 [01:53<04:47,  2.52it/s]"
     ]
    },
    {
     "name": "stdout",
     "output_type": "stream",
     "text": [
      "Downloaded: image_213.jpg\n",
      "Downloaded: image_219.png\n",
      "Downloaded: image_197.jpeg\n"
     ]
    },
    {
     "name": "stderr",
     "output_type": "stream",
     "text": [
      "Downloading images:  23%|█████████████▋                                              | 214/936 [01:54<04:24,  2.73it/s]"
     ]
    },
    {
     "name": "stdout",
     "output_type": "stream",
     "text": [
      "Downloaded: image_210.jpeg\n"
     ]
    },
    {
     "name": "stderr",
     "output_type": "stream",
     "text": [
      "Downloading images:  23%|█████████████▊                                              | 215/936 [01:54<04:19,  2.78it/s]"
     ]
    },
    {
     "name": "stdout",
     "output_type": "stream",
     "text": [
      "Downloaded: image_216.jpg\n"
     ]
    },
    {
     "name": "stderr",
     "output_type": "stream",
     "text": [
      "Downloading images:  23%|█████████████▊                                              | 216/936 [01:55<05:15,  2.29it/s]"
     ]
    },
    {
     "name": "stdout",
     "output_type": "stream",
     "text": [
      "Downloaded: image_208.png\n",
      "Downloaded: image_211.png\n",
      "Downloaded: image_212.jpeg\n"
     ]
    },
    {
     "name": "stderr",
     "output_type": "stream",
     "text": [
      "Downloading images:  23%|██████████████                                              | 219/936 [01:56<04:26,  2.69it/s]"
     ]
    },
    {
     "name": "stdout",
     "output_type": "stream",
     "text": [
      "Downloaded: image_226.jpg\n",
      "Downloaded: image_227.jpg\n"
     ]
    },
    {
     "name": "stderr",
     "output_type": "stream",
     "text": [
      "Downloading images:  24%|██████████████▏                                             | 221/936 [01:56<03:34,  3.33it/s]"
     ]
    },
    {
     "name": "stdout",
     "output_type": "stream",
     "text": [
      "Downloaded: image_218.png\n"
     ]
    },
    {
     "name": "stderr",
     "output_type": "stream",
     "text": [
      "Downloading images:  24%|██████████████▏                                             | 222/936 [01:56<03:35,  3.32it/s]"
     ]
    },
    {
     "name": "stdout",
     "output_type": "stream",
     "text": [
      "Downloaded: image_228.jpg\n"
     ]
    },
    {
     "name": "stderr",
     "output_type": "stream",
     "text": [
      "Downloading images:  24%|██████████████▎                                             | 223/936 [01:58<07:22,  1.61it/s]"
     ]
    },
    {
     "name": "stdout",
     "output_type": "stream",
     "text": [
      "Downloaded: image_221.jpg\n"
     ]
    },
    {
     "name": "stderr",
     "output_type": "stream",
     "text": [
      "Downloading images:  24%|██████████████▎                                             | 224/936 [01:58<06:20,  1.87it/s]"
     ]
    },
    {
     "name": "stdout",
     "output_type": "stream",
     "text": [
      "Downloaded: image_233.jpeg\n",
      "Downloaded: image_222.jpg\n"
     ]
    },
    {
     "name": "stderr",
     "output_type": "stream",
     "text": [
      "Downloading images:  24%|██████████████▍                                             | 226/936 [01:59<04:56,  2.39it/s]"
     ]
    },
    {
     "name": "stdout",
     "output_type": "stream",
     "text": [
      "Downloaded: image_220.png\n"
     ]
    },
    {
     "name": "stderr",
     "output_type": "stream",
     "text": [
      "Downloading images:  24%|██████████████▌                                             | 228/936 [02:01<07:17,  1.62it/s]"
     ]
    },
    {
     "name": "stdout",
     "output_type": "stream",
     "text": [
      "Downloaded: image_232.jpeg\n",
      "Downloaded: image_230.jpeg\n"
     ]
    },
    {
     "name": "stderr",
     "output_type": "stream",
     "text": [
      "Downloading images:  24%|██████████████▋                                             | 229/936 [02:02<08:46,  1.34it/s]"
     ]
    },
    {
     "name": "stdout",
     "output_type": "stream",
     "text": [
      "Downloaded: image_238.jpg\n",
      "Downloaded: image_223.jpg\n"
     ]
    },
    {
     "name": "stderr",
     "output_type": "stream",
     "text": [
      "Downloading images:  25%|██████████████▊                                             | 232/936 [02:02<05:07,  2.29it/s]"
     ]
    },
    {
     "name": "stdout",
     "output_type": "stream",
     "text": [
      "Downloaded: image_235.jpg\n",
      "Downloaded: image_237.jpg\n",
      "Downloaded: image_225.png\n",
      "Downloaded: image_236.jpg\n"
     ]
    },
    {
     "name": "stderr",
     "output_type": "stream",
     "text": [
      "Downloading images:  25%|███████████████▏                                            | 236/936 [02:03<03:13,  3.61it/s]"
     ]
    },
    {
     "name": "stdout",
     "output_type": "stream",
     "text": [
      "Downloaded: image_234.jpeg\n",
      "Downloaded: image_231.jpeg\n"
     ]
    },
    {
     "name": "stderr",
     "output_type": "stream",
     "text": [
      "Downloading images:  25%|███████████████▏                                            | 237/936 [02:04<03:24,  3.42it/s]"
     ]
    },
    {
     "name": "stdout",
     "output_type": "stream",
     "text": [
      "Downloaded: image_229.jpeg\n"
     ]
    },
    {
     "name": "stderr",
     "output_type": "stream",
     "text": [
      "Downloading images:  25%|███████████████▎                                            | 238/936 [02:04<04:41,  2.48it/s]"
     ]
    },
    {
     "name": "stdout",
     "output_type": "stream",
     "text": [
      "Downloaded: image_243.jpeg\n"
     ]
    },
    {
     "name": "stderr",
     "output_type": "stream",
     "text": [
      "Downloading images:  26%|███████████████▎                                            | 239/936 [02:06<07:01,  1.65it/s]"
     ]
    },
    {
     "name": "stdout",
     "output_type": "stream",
     "text": [
      "Downloaded: image_250.jpeg\n"
     ]
    },
    {
     "name": "stderr",
     "output_type": "stream",
     "text": [
      "Downloading images:  26%|███████████████▍                                            | 241/936 [02:06<05:28,  2.12it/s]"
     ]
    },
    {
     "name": "stdout",
     "output_type": "stream",
     "text": [
      "Downloaded: image_242.jpeg\n",
      "Downloaded: image_252.jpeg\n",
      "Downloaded: image_249.jpg\n"
     ]
    },
    {
     "name": "stderr",
     "output_type": "stream",
     "text": [
      "Downloading images:  26%|███████████████▌                                            | 243/936 [02:06<03:28,  3.32it/s]"
     ]
    },
    {
     "name": "stdout",
     "output_type": "stream",
     "text": [
      "Downloaded: image_256.jpg\n"
     ]
    },
    {
     "name": "stderr",
     "output_type": "stream",
     "text": [
      "Downloading images:  26%|███████████████▋                                            | 244/936 [02:07<05:36,  2.06it/s]"
     ]
    },
    {
     "name": "stdout",
     "output_type": "stream",
     "text": [
      "Downloaded: image_224.png\n"
     ]
    },
    {
     "name": "stderr",
     "output_type": "stream",
     "text": [
      "Downloading images:  26%|███████████████▋                                            | 245/936 [02:08<05:55,  1.94it/s]"
     ]
    },
    {
     "name": "stdout",
     "output_type": "stream",
     "text": [
      "Downloaded: image_241.jpeg\n"
     ]
    },
    {
     "name": "stderr",
     "output_type": "stream",
     "text": [
      "Downloading images:  26%|███████████████▉                                            | 248/936 [02:09<03:30,  3.28it/s]"
     ]
    },
    {
     "name": "stdout",
     "output_type": "stream",
     "text": [
      "Downloaded: image_251.jpg\n",
      "Downloaded: image_245.jpg\n",
      "Downloaded: image_247.jpg\n",
      "Downloaded: image_239.jpg\n"
     ]
    },
    {
     "name": "stderr",
     "output_type": "stream",
     "text": [
      "Downloading images:  27%|████████████████                                            | 251/936 [02:10<03:36,  3.16it/s]"
     ]
    },
    {
     "name": "stdout",
     "output_type": "stream",
     "text": [
      "Downloaded: image_253.jpg\n",
      "Downloaded: image_248.jpg\n"
     ]
    },
    {
     "name": "stderr",
     "output_type": "stream",
     "text": [
      "Downloading images:  27%|████████████████▏                                           | 252/936 [02:10<03:27,  3.30it/s]"
     ]
    },
    {
     "name": "stdout",
     "output_type": "stream",
     "text": [
      "Downloaded: image_244.jpg\n"
     ]
    },
    {
     "name": "stderr",
     "output_type": "stream",
     "text": [
      "Downloading images:  27%|████████████████▏                                           | 253/936 [02:14<14:29,  1.27s/it]"
     ]
    },
    {
     "name": "stdout",
     "output_type": "stream",
     "text": [
      "Downloaded: image_240.jpeg\n"
     ]
    },
    {
     "name": "stderr",
     "output_type": "stream",
     "text": [
      "Downloading images:  27%|████████████████▎                                           | 254/936 [02:15<15:07,  1.33s/it]"
     ]
    },
    {
     "name": "stdout",
     "output_type": "stream",
     "text": [
      "Downloaded: image_246.jpg\n"
     ]
    },
    {
     "name": "stderr",
     "output_type": "stream",
     "text": [
      "Downloading images:  27%|████████████████▎                                           | 255/936 [02:16<14:48,  1.30s/it]"
     ]
    },
    {
     "name": "stdout",
     "output_type": "stream",
     "text": [
      "Downloaded: image_255.png\n"
     ]
    },
    {
     "name": "stderr",
     "output_type": "stream",
     "text": [
      "Downloading images:  27%|████████████████▍                                           | 256/936 [02:18<16:21,  1.44s/it]"
     ]
    },
    {
     "name": "stdout",
     "output_type": "stream",
     "text": [
      "Downloaded: image_254.png\n"
     ]
    },
    {
     "name": "stderr",
     "output_type": "stream",
     "text": [
      "Downloading images:  27%|████████████████▍                                           | 257/936 [02:19<13:58,  1.24s/it]"
     ]
    },
    {
     "name": "stdout",
     "output_type": "stream",
     "text": [
      "Downloaded: image_269.jpg\n"
     ]
    },
    {
     "name": "stderr",
     "output_type": "stream",
     "text": [
      "Downloading images:  28%|████████████████▌                                           | 258/936 [02:19<11:28,  1.01s/it]"
     ]
    },
    {
     "name": "stdout",
     "output_type": "stream",
     "text": [
      "Downloaded: image_259.jpg\n",
      "Downloaded: image_257.jpg\n"
     ]
    },
    {
     "name": "stderr",
     "output_type": "stream",
     "text": [
      "Downloading images:  28%|████████████████▋                                           | 260/936 [02:20<07:19,  1.54it/s]"
     ]
    },
    {
     "name": "stdout",
     "output_type": "stream",
     "text": [
      "Downloaded: image_258.jpg\n"
     ]
    },
    {
     "name": "stderr",
     "output_type": "stream",
     "text": [
      "Downloading images:  28%|████████████████▋                                           | 261/936 [02:20<07:20,  1.53it/s]"
     ]
    },
    {
     "name": "stdout",
     "output_type": "stream",
     "text": [
      "Downloaded: image_262.jpg\n",
      "Downloaded: image_267.jpg\n"
     ]
    },
    {
     "name": "stderr",
     "output_type": "stream",
     "text": [
      "Downloading images:  28%|████████████████▉                                           | 264/936 [02:21<04:09,  2.70it/s]"
     ]
    },
    {
     "name": "stdout",
     "output_type": "stream",
     "text": [
      "Downloaded: image_273.jpg\n",
      "Downloaded: image_272.jpg\n"
     ]
    },
    {
     "name": "stderr",
     "output_type": "stream",
     "text": [
      "Downloading images:  28%|████████████████▉                                           | 265/936 [02:21<04:48,  2.32it/s]"
     ]
    },
    {
     "name": "stdout",
     "output_type": "stream",
     "text": [
      "Downloaded: image_268.jpg\n"
     ]
    },
    {
     "name": "stderr",
     "output_type": "stream",
     "text": [
      "Downloading images:  29%|█████████████████                                           | 267/936 [02:22<03:56,  2.83it/s]"
     ]
    },
    {
     "name": "stdout",
     "output_type": "stream",
     "text": [
      "Downloaded: image_261.jpg\n",
      "Downloaded: image_270.jpg\n",
      "Downloaded: image_271.jpg\n",
      "Downloaded: image_274.jpg\n"
     ]
    },
    {
     "name": "stderr",
     "output_type": "stream",
     "text": [
      "Downloading images:  29%|█████████████████▎                                          | 270/936 [02:23<03:52,  2.87it/s]"
     ]
    },
    {
     "name": "stdout",
     "output_type": "stream",
     "text": [
      "Downloaded: image_277.jpg\n"
     ]
    },
    {
     "name": "stderr",
     "output_type": "stream",
     "text": [
      "Downloading images:  29%|█████████████████▍                                          | 272/936 [02:25<05:26,  2.03it/s]"
     ]
    },
    {
     "name": "stdout",
     "output_type": "stream",
     "text": [
      "Downloaded: image_275.jpg\n",
      "Downloaded: image_266.png\n",
      "Downloaded: image_260.png\n"
     ]
    },
    {
     "name": "stderr",
     "output_type": "stream",
     "text": [
      "Downloading images:  29%|█████████████████▌                                          | 274/936 [02:25<03:54,  2.82it/s]"
     ]
    },
    {
     "name": "stdout",
     "output_type": "stream",
     "text": [
      "Downloaded: image_285.jpg\n"
     ]
    },
    {
     "name": "stderr",
     "output_type": "stream",
     "text": [
      "Downloading images:  29%|█████████████████▋                                          | 275/936 [02:26<04:55,  2.23it/s]"
     ]
    },
    {
     "name": "stdout",
     "output_type": "stream",
     "text": [
      "Downloaded: image_265.png\n",
      "Downloaded: image_289.jpeg\n"
     ]
    },
    {
     "name": "stderr",
     "output_type": "stream",
     "text": [
      "Downloading images:  30%|█████████████████▊                                          | 277/936 [02:26<04:27,  2.46it/s]"
     ]
    },
    {
     "name": "stdout",
     "output_type": "stream",
     "text": [
      "Downloaded: image_276.jpg\n"
     ]
    },
    {
     "name": "stderr",
     "output_type": "stream",
     "text": [
      "Downloading images:  30%|█████████████████▊                                          | 278/936 [02:27<05:23,  2.04it/s]"
     ]
    },
    {
     "name": "stdout",
     "output_type": "stream",
     "text": [
      "Downloaded: image_264.png\n"
     ]
    },
    {
     "name": "stderr",
     "output_type": "stream",
     "text": [
      "Downloading images:  30%|█████████████████▉                                          | 279/936 [02:28<05:29,  1.99it/s]"
     ]
    },
    {
     "name": "stdout",
     "output_type": "stream",
     "text": [
      "Downloaded: image_282.jpeg\n"
     ]
    },
    {
     "name": "stderr",
     "output_type": "stream",
     "text": [
      "Downloading images:  30%|██████████████████                                          | 281/936 [02:28<03:48,  2.87it/s]"
     ]
    },
    {
     "name": "stdout",
     "output_type": "stream",
     "text": [
      "Downloaded: image_284.jpg\n",
      "Downloaded: image_281.jpg\n",
      "Downloaded: image_288.jpeg\n"
     ]
    },
    {
     "name": "stderr",
     "output_type": "stream",
     "text": [
      "Downloading images:  30%|██████████████████▏                                         | 283/936 [02:28<02:27,  4.43it/s]"
     ]
    },
    {
     "name": "stdout",
     "output_type": "stream",
     "text": [
      "Downloaded: image_287.jpg\n"
     ]
    },
    {
     "name": "stderr",
     "output_type": "stream",
     "text": [
      "Downloading images:  30%|██████████████████▏                                         | 284/936 [02:29<03:25,  3.18it/s]"
     ]
    },
    {
     "name": "stdout",
     "output_type": "stream",
     "text": [
      "Downloaded: image_279.png\n",
      "Downloaded: image_278.jpg\n"
     ]
    },
    {
     "name": "stderr",
     "output_type": "stream",
     "text": [
      "Downloading images:  31%|██████████████████▎                                         | 286/936 [02:30<03:55,  2.76it/s]"
     ]
    },
    {
     "name": "stdout",
     "output_type": "stream",
     "text": [
      "Downloaded: image_283.jpg\n"
     ]
    },
    {
     "name": "stderr",
     "output_type": "stream",
     "text": [
      "Downloading images:  31%|██████████████████▍                                         | 287/936 [02:30<03:59,  2.71it/s]"
     ]
    },
    {
     "name": "stdout",
     "output_type": "stream",
     "text": [
      "Downloaded: image_280.jpg\n"
     ]
    },
    {
     "name": "stderr",
     "output_type": "stream",
     "text": [
      "Downloading images:  31%|██████████████████▍                                         | 288/936 [02:30<04:14,  2.55it/s]"
     ]
    },
    {
     "name": "stdout",
     "output_type": "stream",
     "text": [
      "Downloaded: image_291.jpeg\n",
      "Downloaded: image_286.jpg\n"
     ]
    },
    {
     "name": "stderr",
     "output_type": "stream",
     "text": [
      "Downloading images:  31%|██████████████████▌                                         | 290/936 [02:31<03:42,  2.90it/s]"
     ]
    },
    {
     "name": "stdout",
     "output_type": "stream",
     "text": [
      "Downloaded: image_290.jpeg\n",
      "Downloaded: image_294.jpeg\n"
     ]
    },
    {
     "name": "stderr",
     "output_type": "stream",
     "text": [
      "Downloading images:  31%|██████████████████▋                                         | 292/936 [02:31<02:38,  4.07it/s]"
     ]
    },
    {
     "name": "stdout",
     "output_type": "stream",
     "text": [
      "Downloaded: image_292.jpeg\n"
     ]
    },
    {
     "name": "stderr",
     "output_type": "stream",
     "text": [
      "Downloading images:  31%|██████████████████▊                                         | 293/936 [02:32<02:54,  3.69it/s]"
     ]
    },
    {
     "name": "stdout",
     "output_type": "stream",
     "text": [
      "Downloaded: image_305.jpeg\n",
      "Downloaded: image_298.jpg\n"
     ]
    },
    {
     "name": "stderr",
     "output_type": "stream",
     "text": [
      "Downloading images:  32%|██████████████████▉                                         | 295/936 [02:33<03:43,  2.86it/s]"
     ]
    },
    {
     "name": "stdout",
     "output_type": "stream",
     "text": [
      "Downloaded: image_296.jpg\n"
     ]
    },
    {
     "name": "stderr",
     "output_type": "stream",
     "text": [
      "Downloading images:  32%|███████████████████                                         | 298/936 [02:33<02:34,  4.13it/s]"
     ]
    },
    {
     "name": "stdout",
     "output_type": "stream",
     "text": [
      "Downloaded: image_299.jpeg\n",
      "Downloaded: image_304.jpeg\n",
      "Downloaded: image_293.png\n"
     ]
    },
    {
     "name": "stderr",
     "output_type": "stream",
     "text": [
      "Downloading images:  32%|███████████████████▏                                        | 299/936 [02:33<02:46,  3.82it/s]"
     ]
    },
    {
     "name": "stdout",
     "output_type": "stream",
     "text": [
      "Downloaded: image_307.jpg\n"
     ]
    },
    {
     "name": "stderr",
     "output_type": "stream",
     "text": [
      "Downloading images:  32%|███████████████████▎                                        | 301/936 [02:35<05:28,  1.93it/s]"
     ]
    },
    {
     "name": "stdout",
     "output_type": "stream",
     "text": [
      "Downloaded: image_295.jpg\n",
      "Downloaded: image_297.jpg\n"
     ]
    },
    {
     "name": "stderr",
     "output_type": "stream",
     "text": [
      "Downloading images:  33%|███████████████████▌                                        | 305/936 [02:36<02:51,  3.68it/s]"
     ]
    },
    {
     "name": "stdout",
     "output_type": "stream",
     "text": [
      "Downloaded: image_308.jpg\n",
      "Downloaded: image_310.jpg\n",
      "Downloaded: image_306.png\n",
      "Downloaded: image_314.jpg\n",
      "Downloaded: image_263.png\n"
     ]
    },
    {
     "name": "stderr",
     "output_type": "stream",
     "text": [
      "Downloading images:  33%|███████████████████▋                                        | 308/936 [02:36<02:07,  4.93it/s]"
     ]
    },
    {
     "name": "stdout",
     "output_type": "stream",
     "text": [
      "Downloaded: image_302.jpg\n",
      "Downloaded: image_312.jpg\n",
      "Downloaded: image_300.png\n"
     ]
    },
    {
     "name": "stderr",
     "output_type": "stream",
     "text": [
      "Downloading images:  33%|███████████████████▉                                        | 311/936 [02:37<01:19,  7.85it/s]"
     ]
    },
    {
     "name": "stdout",
     "output_type": "stream",
     "text": [
      "Downloaded: image_301.jpg\n",
      "Downloaded: image_317.jpg\n",
      "Downloaded: image_303.png\n"
     ]
    },
    {
     "name": "stderr",
     "output_type": "stream",
     "text": [
      "Downloading images:  33%|████████████████████                                        | 313/936 [02:37<01:18,  7.96it/s]"
     ]
    },
    {
     "name": "stdout",
     "output_type": "stream",
     "text": [
      "Downloaded: image_319.jpg\n",
      "Downloaded: image_313.jpg\n"
     ]
    },
    {
     "name": "stderr",
     "output_type": "stream",
     "text": [
      "Downloading images:  34%|████████████████████▎                                       | 317/936 [02:38<01:55,  5.37it/s]"
     ]
    },
    {
     "name": "stdout",
     "output_type": "stream",
     "text": [
      "Downloaded: image_329.jpeg\n",
      "Downloaded: image_322.jpg\n",
      "Downloaded: image_323.jpg\n",
      "Downloaded: image_325.jpg\n"
     ]
    },
    {
     "name": "stderr",
     "output_type": "stream",
     "text": [
      "Downloading images:  34%|████████████████████▍                                       | 319/936 [02:38<01:54,  5.41it/s]"
     ]
    },
    {
     "name": "stdout",
     "output_type": "stream",
     "text": [
      "Downloaded: image_311.png\n"
     ]
    },
    {
     "name": "stderr",
     "output_type": "stream",
     "text": [
      "Downloading images:  34%|████████████████████▌                                       | 320/936 [02:38<01:58,  5.20it/s]"
     ]
    },
    {
     "name": "stdout",
     "output_type": "stream",
     "text": [
      "Downloaded: image_328.jpeg\n"
     ]
    },
    {
     "name": "stderr",
     "output_type": "stream",
     "text": [
      "Downloading images:  35%|████████████████████▋                                       | 323/936 [02:39<02:04,  4.90it/s]"
     ]
    },
    {
     "name": "stdout",
     "output_type": "stream",
     "text": [
      "Downloaded: image_316.jpg\n",
      "Downloaded: image_333.jpeg\n",
      "Downloaded: image_318.jpg\n",
      "Downloaded: image_315.jpg\n"
     ]
    },
    {
     "name": "stderr",
     "output_type": "stream",
     "text": [
      "Downloading images:  35%|████████████████████▊                                       | 325/936 [02:40<03:16,  3.11it/s]"
     ]
    },
    {
     "name": "stdout",
     "output_type": "stream",
     "text": [
      "Downloaded: image_335.jpg\n"
     ]
    },
    {
     "name": "stderr",
     "output_type": "stream",
     "text": [
      "Downloading images:  35%|████████████████████▉                                       | 326/936 [02:41<04:11,  2.42it/s]"
     ]
    },
    {
     "name": "stdout",
     "output_type": "stream",
     "text": [
      "Downloaded: image_321.jpg\n"
     ]
    },
    {
     "name": "stderr",
     "output_type": "stream",
     "text": [
      "Downloading images:  35%|████████████████████▉                                       | 327/936 [02:41<03:44,  2.71it/s]"
     ]
    },
    {
     "name": "stdout",
     "output_type": "stream",
     "text": [
      "Downloaded: image_320.jpg\n"
     ]
    },
    {
     "name": "stderr",
     "output_type": "stream",
     "text": [
      "Downloading images:  35%|█████████████████████                                       | 328/936 [02:42<03:42,  2.73it/s]"
     ]
    },
    {
     "name": "stdout",
     "output_type": "stream",
     "text": [
      "Downloaded: image_326.jpg\n",
      "Downloaded: image_337.jpg\n"
     ]
    },
    {
     "name": "stderr",
     "output_type": "stream",
     "text": [
      "Downloading images:  35%|█████████████████████▏                                      | 330/936 [02:42<02:52,  3.50it/s]"
     ]
    },
    {
     "name": "stdout",
     "output_type": "stream",
     "text": [
      "Downloaded: image_331.jpeg\n",
      "Downloaded: image_309.png\n"
     ]
    },
    {
     "name": "stderr",
     "output_type": "stream",
     "text": [
      "Downloading images:  36%|█████████████████████▎                                      | 333/936 [02:42<02:04,  4.83it/s]"
     ]
    },
    {
     "name": "stdout",
     "output_type": "stream",
     "text": [
      "Downloaded: image_332.jpg\n",
      "Downloaded: image_330.jpg\n"
     ]
    },
    {
     "name": "stderr",
     "output_type": "stream",
     "text": [
      "Downloading images:  36%|█████████████████████▍                                      | 335/936 [02:43<01:45,  5.71it/s]"
     ]
    },
    {
     "name": "stdout",
     "output_type": "stream",
     "text": [
      "Downloaded: image_343.jpg\n",
      "Downloaded: image_324.jpg\n",
      "Downloaded: image_341.jpg\n"
     ]
    },
    {
     "name": "stderr",
     "output_type": "stream",
     "text": [
      "Downloading images:  36%|█████████████████████▌                                      | 337/936 [02:43<02:24,  4.15it/s]"
     ]
    },
    {
     "name": "stdout",
     "output_type": "stream",
     "text": [
      "Downloaded: image_340.jpeg\n"
     ]
    },
    {
     "name": "stderr",
     "output_type": "stream",
     "text": [
      "Downloading images:  36%|█████████████████████▋                                      | 338/936 [02:44<03:12,  3.10it/s]"
     ]
    },
    {
     "name": "stdout",
     "output_type": "stream",
     "text": [
      "Downloaded: image_338.jpg\n"
     ]
    },
    {
     "name": "stderr",
     "output_type": "stream",
     "text": [
      "Downloading images:  36%|█████████████████████▋                                      | 339/936 [02:44<03:35,  2.77it/s]"
     ]
    },
    {
     "name": "stdout",
     "output_type": "stream",
     "text": [
      "Downloaded: image_336.png\n"
     ]
    },
    {
     "name": "stderr",
     "output_type": "stream",
     "text": [
      "Downloading images:  36%|█████████████████████▊                                      | 340/936 [02:45<03:53,  2.55it/s]"
     ]
    },
    {
     "name": "stdout",
     "output_type": "stream",
     "text": [
      "Downloaded: image_344.jpg\n",
      "Downloaded: image_350.png\n"
     ]
    },
    {
     "name": "stderr",
     "output_type": "stream",
     "text": [
      "Downloading images:  37%|██████████████████████                                      | 344/936 [02:46<02:27,  4.02it/s]"
     ]
    },
    {
     "name": "stdout",
     "output_type": "stream",
     "text": [
      "Downloaded: image_356.jpg\n",
      "Downloaded: image_354.jpg\n",
      "Downloaded: image_351.jpg\n",
      "Downloaded: image_347.png\n"
     ]
    },
    {
     "name": "stderr",
     "output_type": "stream",
     "text": [
      "Downloading images:  37%|██████████████████████▏                                     | 346/936 [02:46<02:25,  4.05it/s]"
     ]
    },
    {
     "name": "stdout",
     "output_type": "stream",
     "text": [
      "Downloaded: image_342.jpg\n"
     ]
    },
    {
     "name": "stderr",
     "output_type": "stream",
     "text": [
      "Downloading images:  37%|██████████████████████▏                                     | 347/936 [02:46<02:24,  4.08it/s]"
     ]
    },
    {
     "name": "stdout",
     "output_type": "stream",
     "text": [
      "Downloaded: image_346.jpg\n"
     ]
    },
    {
     "name": "stderr",
     "output_type": "stream",
     "text": [
      "Downloading images:  37%|██████████████████████▎                                     | 349/936 [02:47<02:11,  4.47it/s]"
     ]
    },
    {
     "name": "stdout",
     "output_type": "stream",
     "text": [
      "Downloaded: image_348.jpeg\n",
      "Downloaded: image_345.jpg\n"
     ]
    },
    {
     "name": "stderr",
     "output_type": "stream",
     "text": [
      "Downloading images:  37%|██████████████████████▍                                     | 350/936 [02:47<02:16,  4.30it/s]"
     ]
    },
    {
     "name": "stdout",
     "output_type": "stream",
     "text": [
      "Downloaded: image_327.png\n",
      "Downloaded: image_360.jpg\n",
      "Downloaded: image_339.jpg\n"
     ]
    },
    {
     "name": "stderr",
     "output_type": "stream",
     "text": [
      "Downloading images:  38%|██████████████████████▋                                     | 353/936 [02:47<01:25,  6.79it/s]"
     ]
    },
    {
     "name": "stdout",
     "output_type": "stream",
     "text": [
      "Downloaded: image_352.jpg\n",
      "Downloaded: image_353.jpeg\n",
      "Downloaded: image_355.jpeg\n"
     ]
    },
    {
     "name": "stderr",
     "output_type": "stream",
     "text": [
      "Downloading images:  38%|██████████████████████▊                                     | 356/936 [02:48<01:38,  5.89it/s]"
     ]
    },
    {
     "name": "stdout",
     "output_type": "stream",
     "text": [
      "Downloaded: image_365.jpg\n"
     ]
    },
    {
     "name": "stderr",
     "output_type": "stream",
     "text": [
      "Downloading images:  38%|██████████████████████▉                                     | 358/936 [02:48<01:51,  5.18it/s]"
     ]
    },
    {
     "name": "stdout",
     "output_type": "stream",
     "text": [
      "Downloaded: image_366.jpg\n",
      "Downloaded: image_363.jpg\n"
     ]
    },
    {
     "name": "stderr",
     "output_type": "stream",
     "text": [
      "Downloading images:  38%|███████████████████████                                     | 359/936 [02:49<01:49,  5.27it/s]"
     ]
    },
    {
     "name": "stdout",
     "output_type": "stream",
     "text": [
      "Downloaded: image_334.png\n",
      "Downloaded: image_367.jpg\n"
     ]
    },
    {
     "name": "stderr",
     "output_type": "stream",
     "text": [
      "Downloading images:  39%|███████████████████████▏                                    | 361/936 [02:49<01:40,  5.75it/s]"
     ]
    },
    {
     "name": "stdout",
     "output_type": "stream",
     "text": [
      "Downloaded: image_357.jpg\n"
     ]
    },
    {
     "name": "stderr",
     "output_type": "stream",
     "text": [
      "Downloading images:  39%|███████████████████████▎                                    | 364/936 [02:50<02:04,  4.58it/s]"
     ]
    },
    {
     "name": "stdout",
     "output_type": "stream",
     "text": [
      "Downloaded: image_375.jpeg\n",
      "Downloaded: image_370.jpeg\n",
      "Downloaded: image_362.jpeg\n"
     ]
    },
    {
     "name": "stderr",
     "output_type": "stream",
     "text": [
      "Downloading images:  39%|███████████████████████▍                                    | 365/936 [02:50<02:20,  4.05it/s]"
     ]
    },
    {
     "name": "stdout",
     "output_type": "stream",
     "text": [
      "Downloaded: image_374.jpeg\n",
      "Downloaded: image_359.png\n"
     ]
    },
    {
     "name": "stderr",
     "output_type": "stream",
     "text": [
      "Downloading images:  39%|███████████████████████▌                                    | 367/936 [02:51<02:16,  4.17it/s]"
     ]
    },
    {
     "name": "stdout",
     "output_type": "stream",
     "text": [
      "Downloaded: image_358.jpg\n"
     ]
    },
    {
     "name": "stderr",
     "output_type": "stream",
     "text": [
      "Downloading images:  39%|███████████████████████▌                                    | 368/936 [02:52<03:50,  2.46it/s]"
     ]
    },
    {
     "name": "stdout",
     "output_type": "stream",
     "text": [
      "Downloaded: image_373.jpeg\n"
     ]
    },
    {
     "name": "stderr",
     "output_type": "stream",
     "text": [
      "Downloading images:  39%|███████████████████████▋                                    | 369/936 [02:53<07:04,  1.34it/s]"
     ]
    },
    {
     "name": "stdout",
     "output_type": "stream",
     "text": [
      "Downloaded: image_368.jpeg\n"
     ]
    },
    {
     "name": "stderr",
     "output_type": "stream",
     "text": [
      "Downloading images:  40%|███████████████████████▋                                    | 370/936 [02:54<06:38,  1.42it/s]"
     ]
    },
    {
     "name": "stdout",
     "output_type": "stream",
     "text": [
      "Downloaded: image_383.jpg\n",
      "Downloaded: image_376.jpeg\n"
     ]
    },
    {
     "name": "stderr",
     "output_type": "stream",
     "text": [
      "Downloading images:  40%|███████████████████████▊                                    | 372/936 [02:54<04:38,  2.02it/s]"
     ]
    },
    {
     "name": "stdout",
     "output_type": "stream",
     "text": [
      "Downloaded: image_380.jpg\n"
     ]
    },
    {
     "name": "stderr",
     "output_type": "stream",
     "text": [
      "Downloading images:  40%|███████████████████████▉                                    | 373/936 [02:55<04:21,  2.15it/s]"
     ]
    },
    {
     "name": "stdout",
     "output_type": "stream",
     "text": [
      "Downloaded: image_361.jpg\n"
     ]
    },
    {
     "name": "stderr",
     "output_type": "stream",
     "text": [
      "Downloading images:  40%|███████████████████████▉                                    | 374/936 [02:55<03:50,  2.44it/s]"
     ]
    },
    {
     "name": "stdout",
     "output_type": "stream",
     "text": [
      "Downloaded: image_371.jpg\n",
      "Downloaded: image_384.jpeg\n"
     ]
    },
    {
     "name": "stderr",
     "output_type": "stream",
     "text": [
      "Downloading images:  40%|████████████████████████                                    | 376/936 [02:56<04:31,  2.06it/s]"
     ]
    },
    {
     "name": "stdout",
     "output_type": "stream",
     "text": [
      "Downloaded: image_382.jpeg\n"
     ]
    },
    {
     "name": "stderr",
     "output_type": "stream",
     "text": [
      "Downloading images:  40%|████████████████████████▏                                   | 377/936 [02:56<03:57,  2.35it/s]"
     ]
    },
    {
     "name": "stdout",
     "output_type": "stream",
     "text": [
      "Downloaded: image_385.jpeg\n"
     ]
    },
    {
     "name": "stderr",
     "output_type": "stream",
     "text": [
      "Downloading images:  40%|████████████████████████▏                                   | 378/936 [02:57<03:58,  2.34it/s]"
     ]
    },
    {
     "name": "stdout",
     "output_type": "stream",
     "text": [
      "Downloaded: image_349.png\n",
      "Downloaded: image_378.jpg\n",
      "Downloaded: image_381.jpeg\n"
     ]
    },
    {
     "name": "stderr",
     "output_type": "stream",
     "text": [
      "Downloading images:  41%|████████████████████████▍                                   | 381/936 [02:57<02:45,  3.35it/s]"
     ]
    },
    {
     "name": "stdout",
     "output_type": "stream",
     "text": [
      "Downloaded: image_379.jpg\n",
      "Downloaded: image_377.jpg\n"
     ]
    },
    {
     "name": "stderr",
     "output_type": "stream",
     "text": [
      "Downloading images:  41%|████████████████████████▌                                   | 383/936 [02:58<02:20,  3.93it/s]"
     ]
    },
    {
     "name": "stdout",
     "output_type": "stream",
     "text": [
      "Downloaded: image_372.png\n",
      "Downloaded: image_388.jpg\n"
     ]
    },
    {
     "name": "stderr",
     "output_type": "stream",
     "text": [
      "Downloading images:  41%|████████████████████████▋                                   | 385/936 [02:59<03:29,  2.62it/s]"
     ]
    },
    {
     "name": "stdout",
     "output_type": "stream",
     "text": [
      "Downloaded: image_395.jpg\n"
     ]
    },
    {
     "name": "stderr",
     "output_type": "stream",
     "text": [
      "Downloading images:  41%|████████████████████████▊                                   | 388/936 [03:00<02:49,  3.23it/s]"
     ]
    },
    {
     "name": "stdout",
     "output_type": "stream",
     "text": [
      "Downloaded: image_390.jpg\n",
      "Downloaded: image_397.jpg\n",
      "Downloaded: image_394.png\n"
     ]
    },
    {
     "name": "stderr",
     "output_type": "stream",
     "text": [
      "Downloading images:  42%|████████████████████████▉                                   | 389/936 [03:00<02:32,  3.60it/s]"
     ]
    },
    {
     "name": "stdout",
     "output_type": "stream",
     "text": [
      "Downloaded: image_400.jpg\n"
     ]
    },
    {
     "name": "stderr",
     "output_type": "stream",
     "text": [
      "Downloading images:  42%|█████████████████████████                                   | 390/936 [03:00<02:42,  3.37it/s]"
     ]
    },
    {
     "name": "stdout",
     "output_type": "stream",
     "text": [
      "Downloaded: image_393.png\n"
     ]
    },
    {
     "name": "stderr",
     "output_type": "stream",
     "text": [
      "Downloading images:  42%|█████████████████████████                                   | 391/936 [03:01<03:47,  2.40it/s]"
     ]
    },
    {
     "name": "stdout",
     "output_type": "stream",
     "text": [
      "Downloaded: image_364.png\n",
      "Downloaded: image_392.jpg\n",
      "Downloaded: image_391.jpeg\n"
     ]
    },
    {
     "name": "stderr",
     "output_type": "stream",
     "text": [
      "Downloading images:  42%|█████████████████████████▎                                  | 395/936 [03:02<02:19,  3.87it/s]"
     ]
    },
    {
     "name": "stdout",
     "output_type": "stream",
     "text": [
      "Downloaded: image_396.png\n",
      "Downloaded: image_387.jpeg\n"
     ]
    },
    {
     "name": "stderr",
     "output_type": "stream",
     "text": [
      "Downloading images:  42%|█████████████████████████▍                                  | 396/936 [03:02<02:15,  3.99it/s]"
     ]
    },
    {
     "name": "stdout",
     "output_type": "stream",
     "text": [
      "Downloaded: image_369.png\n"
     ]
    },
    {
     "name": "stderr",
     "output_type": "stream",
     "text": [
      "Downloading images:  42%|█████████████████████████▍                                  | 397/936 [03:03<03:43,  2.41it/s]"
     ]
    },
    {
     "name": "stdout",
     "output_type": "stream",
     "text": [
      "Downloaded: image_404.jpeg\n",
      "Downloaded: image_403.jpg\n",
      "Downloaded: image_398.jpg\n"
     ]
    },
    {
     "name": "stderr",
     "output_type": "stream",
     "text": [
      "Downloading images:  43%|█████████████████████████▋                                  | 401/936 [03:03<01:52,  4.75it/s]"
     ]
    },
    {
     "name": "stdout",
     "output_type": "stream",
     "text": [
      "Downloaded: image_406.jpg\n",
      "Downloaded: image_386.png\n",
      "Downloaded: image_399.jpg\n",
      "Downloaded: image_389.jpg\n"
     ]
    },
    {
     "name": "stderr",
     "output_type": "stream",
     "text": [
      "Downloading images:  43%|█████████████████████████▉                                  | 405/936 [03:04<01:25,  6.24it/s]"
     ]
    },
    {
     "name": "stdout",
     "output_type": "stream",
     "text": [
      "Downloaded: image_402.jpg\n",
      "Downloaded: image_401.jpg\n",
      "Downloaded: image_409.jpg\n"
     ]
    },
    {
     "name": "stderr",
     "output_type": "stream",
     "text": [
      "Downloading images:  44%|██████████████████████████▏                                 | 409/936 [03:04<01:20,  6.55it/s]"
     ]
    },
    {
     "name": "stdout",
     "output_type": "stream",
     "text": [
      "Downloaded: image_405.png\n",
      "Downloaded: image_412.jpg\n",
      "Downloaded: image_407.jpg\n"
     ]
    },
    {
     "name": "stderr",
     "output_type": "stream",
     "text": [
      "Downloading images:  44%|██████████████████████████▎                                 | 411/936 [03:05<01:49,  4.79it/s]"
     ]
    },
    {
     "name": "stdout",
     "output_type": "stream",
     "text": [
      "Downloaded: image_411.jpg\n",
      "Downloaded: image_415.jpg\n"
     ]
    },
    {
     "name": "stderr",
     "output_type": "stream",
     "text": [
      "Downloading images:  44%|██████████████████████████▍                                 | 412/936 [03:06<04:03,  2.15it/s]"
     ]
    },
    {
     "name": "stdout",
     "output_type": "stream",
     "text": [
      "Downloaded: image_419.jpg\n"
     ]
    },
    {
     "name": "stderr",
     "output_type": "stream",
     "text": [
      "Downloading images:  44%|██████████████████████████▍                                 | 413/936 [03:07<04:38,  1.87it/s]"
     ]
    },
    {
     "name": "stdout",
     "output_type": "stream",
     "text": [
      "Downloaded: image_410.jpg\n"
     ]
    },
    {
     "name": "stderr",
     "output_type": "stream",
     "text": [
      "Downloading images:  44%|██████████████████████████▌                                 | 414/936 [03:08<04:51,  1.79it/s]"
     ]
    },
    {
     "name": "stdout",
     "output_type": "stream",
     "text": [
      "Downloaded: image_414.jpeg\n"
     ]
    },
    {
     "name": "stderr",
     "output_type": "stream",
     "text": [
      "Downloading images:  44%|██████████████████████████▌                                 | 415/936 [03:09<06:11,  1.40it/s]"
     ]
    },
    {
     "name": "stdout",
     "output_type": "stream",
     "text": [
      "Downloaded: image_408.png\n"
     ]
    },
    {
     "name": "stderr",
     "output_type": "stream",
     "text": [
      "Downloading images:  44%|██████████████████████████▋                                 | 416/936 [03:10<06:21,  1.36it/s]"
     ]
    },
    {
     "name": "stdout",
     "output_type": "stream",
     "text": [
      "Downloaded: image_418.jpg\n",
      "Downloaded: image_413.jpg\n"
     ]
    },
    {
     "name": "stderr",
     "output_type": "stream",
     "text": [
      "Downloading images:  45%|██████████████████████████▊                                 | 418/936 [03:10<04:03,  2.13it/s]"
     ]
    },
    {
     "name": "stdout",
     "output_type": "stream",
     "text": [
      "Downloaded: image_426.jpg\n"
     ]
    },
    {
     "name": "stderr",
     "output_type": "stream",
     "text": [
      "Downloading images:  45%|██████████████████████████▊                                 | 419/936 [03:10<03:38,  2.37it/s]"
     ]
    },
    {
     "name": "stdout",
     "output_type": "stream",
     "text": [
      "Downloaded: image_422.jpg\n",
      "Downloaded: image_420.jpg\n",
      "Downloaded: image_421.jpg\n",
      "Downloaded: image_431.jpg\n"
     ]
    },
    {
     "name": "stderr",
     "output_type": "stream",
     "text": [
      "Downloading images:  46%|███████████████████████████▎                                | 426/936 [03:11<01:19,  6.42it/s]"
     ]
    },
    {
     "name": "stdout",
     "output_type": "stream",
     "text": [
      "Downloaded: image_429.jpeg\n",
      "Downloaded: image_428.jpeg\n",
      "Downloaded: image_424.png\n",
      "Downloaded: image_425.png\n"
     ]
    },
    {
     "name": "stderr",
     "output_type": "stream",
     "text": [
      "Downloading images:  46%|███████████████████████████▍                                | 428/936 [03:11<01:19,  6.42it/s]"
     ]
    },
    {
     "name": "stdout",
     "output_type": "stream",
     "text": [
      "Downloaded: image_423.jpg\n",
      "Downloaded: image_432.jpg\n",
      "Downloaded: image_427.jpg\n"
     ]
    },
    {
     "name": "stderr",
     "output_type": "stream",
     "text": [
      "Downloading images:  46%|███████████████████████████▌                                | 430/936 [03:12<02:20,  3.59it/s]"
     ]
    },
    {
     "name": "stdout",
     "output_type": "stream",
     "text": [
      "Downloaded: image_417.jpg\n"
     ]
    },
    {
     "name": "stderr",
     "output_type": "stream",
     "text": [
      "Downloading images:  46%|███████████████████████████▋                                | 431/936 [03:13<02:23,  3.52it/s]"
     ]
    },
    {
     "name": "stdout",
     "output_type": "stream",
     "text": [
      "Downloaded: image_416.jpg\n"
     ]
    },
    {
     "name": "stderr",
     "output_type": "stream",
     "text": [
      "Downloading images:  46%|███████████████████████████▋                                | 432/936 [03:14<04:31,  1.86it/s]"
     ]
    },
    {
     "name": "stdout",
     "output_type": "stream",
     "text": [
      "Downloaded: image_433.png\n"
     ]
    },
    {
     "name": "stderr",
     "output_type": "stream",
     "text": [
      "Downloading images:  46%|███████████████████████████▊                                | 433/936 [03:15<04:09,  2.02it/s]"
     ]
    },
    {
     "name": "stdout",
     "output_type": "stream",
     "text": [
      "Downloaded: image_444.jpg\n"
     ]
    },
    {
     "name": "stderr",
     "output_type": "stream",
     "text": [
      "Downloading images:  46%|███████████████████████████▊                                | 434/936 [03:15<03:56,  2.13it/s]"
     ]
    },
    {
     "name": "stdout",
     "output_type": "stream",
     "text": [
      "Downloaded: image_434.jpg\n"
     ]
    },
    {
     "name": "stderr",
     "output_type": "stream",
     "text": [
      "Downloading images:  46%|███████████████████████████▉                                | 435/936 [03:15<03:22,  2.47it/s]"
     ]
    },
    {
     "name": "stdout",
     "output_type": "stream",
     "text": [
      "Downloaded: image_447.jpg\n"
     ]
    },
    {
     "name": "stderr",
     "output_type": "stream",
     "text": [
      "Downloading images:  47%|███████████████████████████▉                                | 436/936 [03:16<04:09,  2.01it/s]"
     ]
    },
    {
     "name": "stdout",
     "output_type": "stream",
     "text": [
      "Downloaded: image_430.jpg\n",
      "Downloaded: image_441.jpeg\n"
     ]
    },
    {
     "name": "stderr",
     "output_type": "stream",
     "text": [
      "Downloading images:  47%|████████████████████████████                                | 438/936 [03:16<03:01,  2.75it/s]"
     ]
    },
    {
     "name": "stdout",
     "output_type": "stream",
     "text": [
      "Downloaded: image_449.jpg\n",
      "Downloaded: image_437.jpeg\n"
     ]
    },
    {
     "name": "stderr",
     "output_type": "stream",
     "text": [
      "Downloading images:  47%|████████████████████████████▏                               | 440/936 [03:17<02:28,  3.33it/s]"
     ]
    },
    {
     "name": "stdout",
     "output_type": "stream",
     "text": [
      "Downloaded: image_435.jpg\n",
      "Downloaded: image_440.jpeg\n"
     ]
    },
    {
     "name": "stderr",
     "output_type": "stream",
     "text": [
      "Downloading images:  47%|████████████████████████████▍                               | 443/936 [03:17<01:48,  4.52it/s]"
     ]
    },
    {
     "name": "stdout",
     "output_type": "stream",
     "text": [
      "Downloaded: image_445.jpg\n",
      "Downloaded: image_439.jpg\n"
     ]
    },
    {
     "name": "stderr",
     "output_type": "stream",
     "text": [
      "Downloading images:  47%|████████████████████████████▍                               | 444/936 [03:17<01:39,  4.95it/s]"
     ]
    },
    {
     "name": "stdout",
     "output_type": "stream",
     "text": [
      "Downloaded: image_438.jpg\n",
      "Downloaded: image_450.jpg\n",
      "Downloaded: image_442.jpg\n"
     ]
    },
    {
     "name": "stderr",
     "output_type": "stream",
     "text": [
      "Downloading images:  48%|████████████████████████████▋                               | 447/936 [03:17<01:10,  6.97it/s]"
     ]
    },
    {
     "name": "stdout",
     "output_type": "stream",
     "text": [
      "Downloaded: image_443.jpg\n"
     ]
    },
    {
     "name": "stderr",
     "output_type": "stream",
     "text": [
      "Downloading images:  48%|████████████████████████████▋                               | 448/936 [03:18<01:28,  5.49it/s]"
     ]
    },
    {
     "name": "stdout",
     "output_type": "stream",
     "text": [
      "Downloaded: image_448.jpg\n"
     ]
    },
    {
     "name": "stderr",
     "output_type": "stream",
     "text": [
      "Downloading images:  48%|████████████████████████████▊                               | 449/936 [03:22<07:51,  1.03it/s]"
     ]
    },
    {
     "name": "stdout",
     "output_type": "stream",
     "text": [
      "Downloaded: image_458.jpg\n"
     ]
    },
    {
     "name": "stderr",
     "output_type": "stream",
     "text": [
      "Downloading images:  48%|████████████████████████████▊                               | 450/936 [03:23<07:41,  1.05it/s]"
     ]
    },
    {
     "name": "stdout",
     "output_type": "stream",
     "text": [
      "Downloaded: image_461.jpeg\n"
     ]
    },
    {
     "name": "stderr",
     "output_type": "stream",
     "text": [
      "Downloading images:  48%|████████████████████████████▉                               | 451/936 [03:26<12:37,  1.56s/it]"
     ]
    },
    {
     "name": "stdout",
     "output_type": "stream",
     "text": [
      "Downloaded: image_446.png\n",
      "Downloaded: image_467.jpg\n",
      "Downloaded: image_436.png\n"
     ]
    },
    {
     "name": "stderr",
     "output_type": "stream",
     "text": [
      "Downloading images:  49%|█████████████████████████████                               | 454/936 [03:26<06:42,  1.20it/s]"
     ]
    },
    {
     "name": "stdout",
     "output_type": "stream",
     "text": [
      "Downloaded: image_455.jpeg\n"
     ]
    },
    {
     "name": "stderr",
     "output_type": "stream",
     "text": [
      "Downloading images:  49%|█████████████████████████████▏                              | 455/936 [03:27<05:44,  1.40it/s]"
     ]
    },
    {
     "name": "stdout",
     "output_type": "stream",
     "text": [
      "Downloaded: image_462.jpg\n"
     ]
    },
    {
     "name": "stderr",
     "output_type": "stream",
     "text": [
      "Downloading images:  49%|█████████████████████████████▍                              | 459/936 [03:27<02:47,  2.85it/s]"
     ]
    },
    {
     "name": "stdout",
     "output_type": "stream",
     "text": [
      "Downloaded: image_468.jpg\n",
      "Downloaded: image_464.jpg\n",
      "Downloaded: image_456.jpg\n",
      "Downloaded: image_466.jpg\n"
     ]
    },
    {
     "name": "stderr",
     "output_type": "stream",
     "text": [
      "Downloading images:  49%|█████████████████████████████▌                              | 461/936 [03:28<02:15,  3.49it/s]"
     ]
    },
    {
     "name": "stdout",
     "output_type": "stream",
     "text": [
      "Downloaded: image_459.jpg\n",
      "Downloaded: image_452.png\n",
      "Downloaded: image_460.jpg\n"
     ]
    },
    {
     "name": "stderr",
     "output_type": "stream",
     "text": [
      "Downloading images:  49%|█████████████████████████████▋                              | 463/936 [03:29<03:24,  2.31it/s]"
     ]
    },
    {
     "name": "stdout",
     "output_type": "stream",
     "text": [
      "Downloaded: image_454.png\n"
     ]
    },
    {
     "name": "stderr",
     "output_type": "stream",
     "text": [
      "Downloading images:  50%|█████████████████████████████▋                              | 464/936 [03:29<03:29,  2.26it/s]"
     ]
    },
    {
     "name": "stdout",
     "output_type": "stream",
     "text": [
      "Downloaded: image_472.jpg\n",
      "Downloaded: image_473.jpeg\n"
     ]
    },
    {
     "name": "stderr",
     "output_type": "stream",
     "text": [
      "Downloading images:  50%|█████████████████████████████▊                              | 466/936 [03:30<02:57,  2.64it/s]"
     ]
    },
    {
     "name": "stdout",
     "output_type": "stream",
     "text": [
      "Downloaded: image_474.jpg\n"
     ]
    },
    {
     "name": "stderr",
     "output_type": "stream",
     "text": [
      "Downloading images:  50%|█████████████████████████████▉                              | 467/936 [03:30<02:39,  2.93it/s]"
     ]
    },
    {
     "name": "stdout",
     "output_type": "stream",
     "text": [
      "Downloaded: image_465.png\n",
      "Downloaded: image_453.png\n",
      "Downloaded: image_451.png\n"
     ]
    },
    {
     "name": "stderr",
     "output_type": "stream",
     "text": [
      "Downloading images:  50%|██████████████████████████████▏                             | 470/936 [03:31<02:02,  3.81it/s]"
     ]
    },
    {
     "name": "stdout",
     "output_type": "stream",
     "text": [
      "Downloaded: image_457.png\n",
      "Downloaded: image_476.jpg\n"
     ]
    },
    {
     "name": "stderr",
     "output_type": "stream",
     "text": [
      "Downloading images:  50%|██████████████████████████████▎                             | 472/936 [03:31<01:53,  4.10it/s]"
     ]
    },
    {
     "name": "stdout",
     "output_type": "stream",
     "text": [
      "Downloaded: image_469.jpg\n"
     ]
    },
    {
     "name": "stderr",
     "output_type": "stream",
     "text": [
      "Downloading images:  51%|██████████████████████████████▍                             | 474/936 [03:32<01:56,  3.96it/s]"
     ]
    },
    {
     "name": "stdout",
     "output_type": "stream",
     "text": [
      "Downloaded: image_482.png\n",
      "Downloaded: image_470.jpg\n"
     ]
    },
    {
     "name": "stderr",
     "output_type": "stream",
     "text": [
      "Downloading images:  51%|██████████████████████████████▌                             | 476/936 [03:32<01:58,  3.88it/s]"
     ]
    },
    {
     "name": "stdout",
     "output_type": "stream",
     "text": [
      "Downloaded: image_477.jpg\n",
      "Downloaded: image_478.png\n"
     ]
    },
    {
     "name": "stderr",
     "output_type": "stream",
     "text": [
      "Downloading images:  51%|██████████████████████████████▌                             | 477/936 [03:33<02:05,  3.66it/s]"
     ]
    },
    {
     "name": "stdout",
     "output_type": "stream",
     "text": [
      "Downloaded: image_463.png\n",
      "Downloaded: image_475.png\n"
     ]
    },
    {
     "name": "stderr",
     "output_type": "stream",
     "text": [
      "Downloading images:  51%|██████████████████████████████▋                             | 479/936 [03:33<01:50,  4.13it/s]"
     ]
    },
    {
     "name": "stdout",
     "output_type": "stream",
     "text": [
      "Downloaded: image_471.jpg\n"
     ]
    },
    {
     "name": "stderr",
     "output_type": "stream",
     "text": [
      "Downloading images:  51%|██████████████████████████████▊                             | 481/936 [03:33<01:47,  4.25it/s]"
     ]
    },
    {
     "name": "stdout",
     "output_type": "stream",
     "text": [
      "Downloaded: image_479.jpg\n",
      "Downloaded: image_487.jpg\n",
      "Downloaded: image_489.jpg\n"
     ]
    },
    {
     "name": "stderr",
     "output_type": "stream",
     "text": [
      "Downloading images:  52%|██████████████████████████████▉                             | 483/936 [03:34<01:15,  5.97it/s]"
     ]
    },
    {
     "name": "stdout",
     "output_type": "stream",
     "text": [
      "Downloaded: image_488.jpg\n"
     ]
    },
    {
     "name": "stderr",
     "output_type": "stream",
     "text": [
      "Downloading images:  52%|███████████████████████████████                             | 484/936 [03:34<01:30,  5.01it/s]"
     ]
    },
    {
     "name": "stdout",
     "output_type": "stream",
     "text": [
      "Downloaded: image_484.jpg\n"
     ]
    },
    {
     "name": "stderr",
     "output_type": "stream",
     "text": [
      "Downloading images:  52%|███████████████████████████████                             | 485/936 [03:34<01:50,  4.09it/s]"
     ]
    },
    {
     "name": "stdout",
     "output_type": "stream",
     "text": [
      "Downloaded: image_491.jpg\n"
     ]
    },
    {
     "name": "stderr",
     "output_type": "stream",
     "text": [
      "Downloading images:  52%|███████████████████████████████▏                            | 486/936 [03:35<02:29,  3.01it/s]"
     ]
    },
    {
     "name": "stdout",
     "output_type": "stream",
     "text": [
      "Downloaded: image_481.jpg\n"
     ]
    },
    {
     "name": "stderr",
     "output_type": "stream",
     "text": [
      "Downloading images:  52%|███████████████████████████████▏                            | 487/936 [03:36<03:42,  2.02it/s]"
     ]
    },
    {
     "name": "stdout",
     "output_type": "stream",
     "text": [
      "Downloaded: image_493.jpg\n"
     ]
    },
    {
     "name": "stderr",
     "output_type": "stream",
     "text": [
      "Downloading images:  52%|███████████████████████████████▎                            | 488/936 [03:37<04:10,  1.79it/s]"
     ]
    },
    {
     "name": "stdout",
     "output_type": "stream",
     "text": [
      "Downloaded: image_486.jpg\n",
      "Downloaded: image_480.png\n"
     ]
    },
    {
     "name": "stderr",
     "output_type": "stream",
     "text": [
      "Downloading images:  52%|███████████████████████████████▍                            | 490/936 [03:37<02:47,  2.66it/s]"
     ]
    },
    {
     "name": "stdout",
     "output_type": "stream",
     "text": [
      "Downloaded: image_483.jpg\n",
      "Downloaded: image_502.jpg\n"
     ]
    },
    {
     "name": "stderr",
     "output_type": "stream",
     "text": [
      "Downloading images:  52%|███████████████████████████████▍                            | 491/936 [03:37<02:28,  3.00it/s]"
     ]
    },
    {
     "name": "stdout",
     "output_type": "stream",
     "text": [
      "Downloaded: image_496.jpg\n",
      "Downloaded: image_501.jpg\n"
     ]
    },
    {
     "name": "stderr",
     "output_type": "stream",
     "text": [
      "Downloading images:  53%|███████████████████████████████▋                            | 494/936 [03:38<02:35,  2.85it/s]"
     ]
    },
    {
     "name": "stdout",
     "output_type": "stream",
     "text": [
      "Downloaded: image_498.jpeg\n",
      "Downloaded: image_494.jpg\n"
     ]
    },
    {
     "name": "stderr",
     "output_type": "stream",
     "text": [
      "Downloading images:  53%|███████████████████████████████▊                            | 496/936 [03:39<02:17,  3.21it/s]"
     ]
    },
    {
     "name": "stdout",
     "output_type": "stream",
     "text": [
      "Downloaded: image_505.jpg\n"
     ]
    },
    {
     "name": "stderr",
     "output_type": "stream",
     "text": [
      "Downloading images:  53%|███████████████████████████████▉                            | 498/936 [03:39<01:53,  3.85it/s]"
     ]
    },
    {
     "name": "stdout",
     "output_type": "stream",
     "text": [
      "Downloaded: image_509.jpg\n",
      "Downloaded: image_504.jpg\n",
      "Downloaded: image_497.jpg\n"
     ]
    },
    {
     "name": "stderr",
     "output_type": "stream",
     "text": [
      "Downloading images:  54%|████████████████████████████████                            | 501/936 [03:40<01:44,  4.14it/s]"
     ]
    },
    {
     "name": "stdout",
     "output_type": "stream",
     "text": [
      "Downloaded: image_506.jpg\n",
      "Downloaded: image_510.webp\n",
      "Downloaded: image_507.jpg\n"
     ]
    },
    {
     "name": "stderr",
     "output_type": "stream",
     "text": [
      "Downloading images:  54%|████████████████████████████████▏                           | 503/936 [03:40<01:16,  5.67it/s]"
     ]
    },
    {
     "name": "stdout",
     "output_type": "stream",
     "text": [
      "Downloaded: image_511.webp\n"
     ]
    },
    {
     "name": "stderr",
     "output_type": "stream",
     "text": [
      "Downloading images:  54%|████████████████████████████████▎                           | 505/936 [03:40<01:24,  5.10it/s]"
     ]
    },
    {
     "name": "stdout",
     "output_type": "stream",
     "text": [
      "Downloaded: image_490.png\n",
      "Downloaded: image_495.png\n"
     ]
    },
    {
     "name": "stderr",
     "output_type": "stream",
     "text": [
      "Downloading images:  54%|████████████████████████████████▍                           | 506/936 [03:41<01:25,  5.02it/s]"
     ]
    },
    {
     "name": "stdout",
     "output_type": "stream",
     "text": [
      "Downloaded: image_499.jpg\n",
      "Downloaded: image_503.jpg\n",
      "Downloaded: image_515.jpg\n"
     ]
    },
    {
     "name": "stderr",
     "output_type": "stream",
     "text": [
      "Downloading images:  54%|████████████████████████████████▋                           | 509/936 [03:41<01:23,  5.09it/s]"
     ]
    },
    {
     "name": "stdout",
     "output_type": "stream",
     "text": [
      "Downloaded: image_520.webp\n",
      "Downloaded: image_492.jpg\n",
      "Downloaded: image_500.jpeg\n"
     ]
    },
    {
     "name": "stderr",
     "output_type": "stream",
     "text": [
      "Downloading images:  55%|████████████████████████████████▊                           | 512/936 [03:42<01:22,  5.17it/s]"
     ]
    },
    {
     "name": "stdout",
     "output_type": "stream",
     "text": [
      "Downloaded: image_517.jpeg\n"
     ]
    },
    {
     "name": "stderr",
     "output_type": "stream",
     "text": [
      "Downloading images:  55%|█████████████████████████████████                           | 515/936 [03:43<01:29,  4.70it/s]"
     ]
    },
    {
     "name": "stdout",
     "output_type": "stream",
     "text": [
      "Downloaded: image_519.jpg\n",
      "Downloaded: image_524.jpg\n",
      "Downloaded: image_508.jpg\n"
     ]
    },
    {
     "name": "stderr",
     "output_type": "stream",
     "text": [
      "Downloading images:  55%|█████████████████████████████████                           | 516/936 [03:44<02:29,  2.81it/s]"
     ]
    },
    {
     "name": "stdout",
     "output_type": "stream",
     "text": [
      "Downloaded: image_530.jpg\n"
     ]
    },
    {
     "name": "stderr",
     "output_type": "stream",
     "text": [
      "Downloading images:  55%|█████████████████████████████████▏                          | 517/936 [03:44<02:17,  3.05it/s]"
     ]
    },
    {
     "name": "stdout",
     "output_type": "stream",
     "text": [
      "Downloaded: image_516.png\n"
     ]
    },
    {
     "name": "stderr",
     "output_type": "stream",
     "text": [
      "Downloading images:  55%|█████████████████████████████████▏                          | 518/936 [03:44<02:51,  2.44it/s]"
     ]
    },
    {
     "name": "stdout",
     "output_type": "stream",
     "text": [
      "Downloaded: image_532.jpg\n"
     ]
    },
    {
     "name": "stderr",
     "output_type": "stream",
     "text": [
      "Downloading images:  55%|█████████████████████████████████▎                          | 519/936 [03:45<03:15,  2.13it/s]"
     ]
    },
    {
     "name": "stdout",
     "output_type": "stream",
     "text": [
      "Downloaded: image_527.jpg\n"
     ]
    },
    {
     "name": "stderr",
     "output_type": "stream",
     "text": [
      "Downloading images:  56%|█████████████████████████████████▎                          | 520/936 [03:45<03:07,  2.22it/s]"
     ]
    },
    {
     "name": "stdout",
     "output_type": "stream",
     "text": [
      "Downloaded: image_533.jpeg\n"
     ]
    },
    {
     "name": "stderr",
     "output_type": "stream",
     "text": [
      "Downloading images:  56%|█████████████████████████████████▍                          | 522/936 [03:46<02:05,  3.29it/s]"
     ]
    },
    {
     "name": "stdout",
     "output_type": "stream",
     "text": [
      "Downloaded: image_531.webp\n",
      "Downloaded: image_514.png\n"
     ]
    },
    {
     "name": "stderr",
     "output_type": "stream",
     "text": [
      "Downloading images:  56%|█████████████████████████████████▌                          | 523/936 [03:46<01:56,  3.55it/s]"
     ]
    },
    {
     "name": "stdout",
     "output_type": "stream",
     "text": [
      "Downloaded: image_521.png\n",
      "Downloaded: image_523.jpg\n",
      "Downloaded: image_534.jpg\n"
     ]
    },
    {
     "name": "stderr",
     "output_type": "stream",
     "text": [
      "Downloading images:  56%|█████████████████████████████████▋                          | 526/936 [03:46<01:06,  6.15it/s]"
     ]
    },
    {
     "name": "stdout",
     "output_type": "stream",
     "text": [
      "Downloaded: image_525.jpg\n"
     ]
    },
    {
     "name": "stderr",
     "output_type": "stream",
     "text": [
      "Downloading images:  56%|█████████████████████████████████▊                          | 527/936 [03:47<02:00,  3.40it/s]"
     ]
    },
    {
     "name": "stdout",
     "output_type": "stream",
     "text": [
      "Downloaded: image_512.png\n"
     ]
    },
    {
     "name": "stderr",
     "output_type": "stream",
     "text": [
      "Downloading images:  56%|█████████████████████████████████▊                          | 528/936 [03:48<03:14,  2.10it/s]"
     ]
    },
    {
     "name": "stdout",
     "output_type": "stream",
     "text": [
      "Downloaded: image_522.png\n",
      "Downloaded: image_518.jpg\n",
      "Downloaded: image_537.webp\n"
     ]
    },
    {
     "name": "stderr",
     "output_type": "stream",
     "text": [
      "Downloading images:  57%|██████████████████████████████████                          | 531/936 [03:49<02:34,  2.62it/s]"
     ]
    },
    {
     "name": "stdout",
     "output_type": "stream",
     "text": [
      "Downloaded: image_543.jpg\n",
      "Downloaded: image_535.jpg\n"
     ]
    },
    {
     "name": "stderr",
     "output_type": "stream",
     "text": [
      "Downloading images:  57%|██████████████████████████████████▏                         | 533/936 [03:50<02:51,  2.35it/s]"
     ]
    },
    {
     "name": "stdout",
     "output_type": "stream",
     "text": [
      "Downloaded: image_513.png\n",
      "Downloaded: image_546.jpeg\n"
     ]
    },
    {
     "name": "stderr",
     "output_type": "stream",
     "text": [
      "Downloading images:  57%|██████████████████████████████████▎                         | 535/936 [03:50<02:18,  2.90it/s]"
     ]
    },
    {
     "name": "stdout",
     "output_type": "stream",
     "text": [
      "Downloaded: image_542.jpg\n"
     ]
    },
    {
     "name": "stderr",
     "output_type": "stream",
     "text": [
      "Downloading images:  57%|██████████████████████████████████▎                         | 536/936 [03:51<02:23,  2.78it/s]"
     ]
    },
    {
     "name": "stdout",
     "output_type": "stream",
     "text": [
      "Downloaded: image_485.png\n"
     ]
    },
    {
     "name": "stderr",
     "output_type": "stream",
     "text": [
      "Downloading images:  57%|██████████████████████████████████▍                         | 537/936 [03:51<02:55,  2.28it/s]"
     ]
    },
    {
     "name": "stdout",
     "output_type": "stream",
     "text": [
      "Downloaded: image_526.png\n",
      "Downloaded: image_528.webp\n"
     ]
    },
    {
     "name": "stderr",
     "output_type": "stream",
     "text": [
      "Downloading images:  58%|██████████████████████████████████▌                         | 539/936 [03:52<02:13,  2.98it/s]"
     ]
    },
    {
     "name": "stdout",
     "output_type": "stream",
     "text": [
      "Downloaded: image_541.jpg\n",
      "Downloaded: image_539.png\n"
     ]
    },
    {
     "name": "stderr",
     "output_type": "stream",
     "text": [
      "Downloading images:  58%|██████████████████████████████████▋                         | 542/936 [03:54<03:35,  1.83it/s]"
     ]
    },
    {
     "name": "stdout",
     "output_type": "stream",
     "text": [
      "Downloaded: image_548.png\n",
      "Downloaded: image_544.png\n"
     ]
    },
    {
     "name": "stderr",
     "output_type": "stream",
     "text": [
      "Downloading images:  58%|██████████████████████████████████▊                         | 543/936 [03:55<02:57,  2.21it/s]"
     ]
    },
    {
     "name": "stdout",
     "output_type": "stream",
     "text": [
      "Downloaded: image_550.png\n"
     ]
    },
    {
     "name": "stderr",
     "output_type": "stream",
     "text": [
      "Downloading images:  58%|██████████████████████████████████▊                         | 544/936 [03:55<03:13,  2.03it/s]"
     ]
    },
    {
     "name": "stdout",
     "output_type": "stream",
     "text": [
      "Downloaded: image_549.png\n"
     ]
    },
    {
     "name": "stderr",
     "output_type": "stream",
     "text": [
      "Downloading images:  58%|██████████████████████████████████▉                         | 545/936 [03:56<03:09,  2.06it/s]"
     ]
    },
    {
     "name": "stdout",
     "output_type": "stream",
     "text": [
      "Downloaded: image_558.jpg\n",
      "Downloaded: image_557.jpg\n",
      "Downloaded: image_538.png\n"
     ]
    },
    {
     "name": "stderr",
     "output_type": "stream",
     "text": [
      "Downloading images:  59%|███████████████████████████████████▏                        | 548/936 [03:56<02:03,  3.14it/s]"
     ]
    },
    {
     "name": "stdout",
     "output_type": "stream",
     "text": [
      "Downloaded: image_560.jpg\n"
     ]
    },
    {
     "name": "stderr",
     "output_type": "stream",
     "text": [
      "Downloading images:  59%|███████████████████████████████████▎                        | 550/936 [03:59<04:14,  1.52it/s]"
     ]
    },
    {
     "name": "stdout",
     "output_type": "stream",
     "text": [
      "Downloaded: image_536.webp\n",
      "Downloaded: image_540.png\n"
     ]
    },
    {
     "name": "stderr",
     "output_type": "stream",
     "text": [
      "Downloading images:  59%|███████████████████████████████████▎                        | 551/936 [03:59<03:38,  1.76it/s]"
     ]
    },
    {
     "name": "stdout",
     "output_type": "stream",
     "text": [
      "Downloaded: image_556.jpg\n"
     ]
    },
    {
     "name": "stderr",
     "output_type": "stream",
     "text": [
      "Downloading images:  59%|███████████████████████████████████▍                        | 552/936 [04:00<03:33,  1.80it/s]"
     ]
    },
    {
     "name": "stdout",
     "output_type": "stream",
     "text": [
      "Downloaded: image_561.jpg\n"
     ]
    },
    {
     "name": "stderr",
     "output_type": "stream",
     "text": [
      "Downloading images:  59%|███████████████████████████████████▌                        | 554/936 [04:01<02:56,  2.16it/s]"
     ]
    },
    {
     "name": "stdout",
     "output_type": "stream",
     "text": [
      "Downloaded: image_567.jpg\n",
      "Downloaded: image_547.png\n"
     ]
    },
    {
     "name": "stderr",
     "output_type": "stream",
     "text": [
      "Downloading images:  59%|███████████████████████████████████▌                        | 555/936 [04:01<03:13,  1.97it/s]"
     ]
    },
    {
     "name": "stdout",
     "output_type": "stream",
     "text": [
      "Downloaded: image_529.webp\n"
     ]
    },
    {
     "name": "stderr",
     "output_type": "stream",
     "text": [
      "Downloading images:  59%|███████████████████████████████████▋                        | 556/936 [04:02<02:53,  2.18it/s]"
     ]
    },
    {
     "name": "stdout",
     "output_type": "stream",
     "text": [
      "Downloaded: image_553.png\n"
     ]
    },
    {
     "name": "stderr",
     "output_type": "stream",
     "text": [
      "Downloading images:  60%|███████████████████████████████████▋                        | 557/936 [04:02<02:46,  2.28it/s]"
     ]
    },
    {
     "name": "stdout",
     "output_type": "stream",
     "text": [
      "Downloaded: image_562.png\n"
     ]
    },
    {
     "name": "stderr",
     "output_type": "stream",
     "text": [
      "Downloading images:  60%|███████████████████████████████████▊                        | 558/936 [04:02<02:29,  2.53it/s]"
     ]
    },
    {
     "name": "stdout",
     "output_type": "stream",
     "text": [
      "Downloaded: image_555.png\n"
     ]
    },
    {
     "name": "stderr",
     "output_type": "stream",
     "text": [
      "Downloading images:  60%|███████████████████████████████████▊                        | 559/936 [04:03<02:32,  2.47it/s]"
     ]
    },
    {
     "name": "stdout",
     "output_type": "stream",
     "text": [
      "Downloaded: image_563.jpg\n"
     ]
    },
    {
     "name": "stderr",
     "output_type": "stream",
     "text": [
      "Downloading images:  60%|████████████████████████████████████                        | 562/936 [04:03<01:45,  3.55it/s]"
     ]
    },
    {
     "name": "stdout",
     "output_type": "stream",
     "text": [
      "Downloaded: image_545.jpeg\n",
      "Downloaded: image_566.jpg\n",
      "Downloaded: image_554.jpg\n"
     ]
    },
    {
     "name": "stderr",
     "output_type": "stream",
     "text": [
      "Downloading images:  60%|████████████████████████████████████▏                       | 564/936 [04:04<02:17,  2.70it/s]"
     ]
    },
    {
     "name": "stdout",
     "output_type": "stream",
     "text": [
      "Downloaded: image_564.jpg\n",
      "Downloaded: image_574.jpg\n"
     ]
    },
    {
     "name": "stderr",
     "output_type": "stream",
     "text": [
      "Downloading images:  60%|████████████████████████████████████▏                       | 565/936 [04:05<03:20,  1.85it/s]"
     ]
    },
    {
     "name": "stdout",
     "output_type": "stream",
     "text": [
      "Downloaded: image_559.png\n"
     ]
    },
    {
     "name": "stderr",
     "output_type": "stream",
     "text": [
      "Downloading images:  60%|████████████████████████████████████▎                       | 566/936 [04:07<05:05,  1.21it/s]"
     ]
    },
    {
     "name": "stdout",
     "output_type": "stream",
     "text": [
      "Downloaded: image_573.jpeg\n"
     ]
    },
    {
     "name": "stderr",
     "output_type": "stream",
     "text": [
      "Downloading images:  61%|████████████████████████████████████▍                       | 568/936 [04:08<03:15,  1.88it/s]"
     ]
    },
    {
     "name": "stdout",
     "output_type": "stream",
     "text": [
      "Downloaded: image_568.png\n",
      "Downloaded: image_572.png\n"
     ]
    },
    {
     "name": "stderr",
     "output_type": "stream",
     "text": [
      "Downloading images:  61%|████████████████████████████████████▌                       | 570/936 [04:08<02:06,  2.89it/s]"
     ]
    },
    {
     "name": "stdout",
     "output_type": "stream",
     "text": [
      "Downloaded: image_569.png\n",
      "Downloaded: image_578.jpg\n"
     ]
    },
    {
     "name": "stderr",
     "output_type": "stream",
     "text": [
      "Downloading images:  61%|████████████████████████████████████▌                       | 571/936 [04:10<05:44,  1.06it/s]"
     ]
    },
    {
     "name": "stdout",
     "output_type": "stream",
     "text": [
      "Downloaded: image_565.png\n",
      "Downloaded: image_581.jpg\n"
     ]
    },
    {
     "name": "stderr",
     "output_type": "stream",
     "text": [
      "Downloading images:  61%|████████████████████████████████████▋                       | 573/936 [04:11<03:27,  1.75it/s]"
     ]
    },
    {
     "name": "stdout",
     "output_type": "stream",
     "text": [
      "Downloaded: image_552.png\n",
      "Downloaded: image_582.jpg\n"
     ]
    },
    {
     "name": "stderr",
     "output_type": "stream",
     "text": [
      "Downloading images:  62%|████████████████████████████████████▉                       | 576/936 [04:11<02:00,  2.99it/s]"
     ]
    },
    {
     "name": "stdout",
     "output_type": "stream",
     "text": [
      "Downloaded: image_575.png\n",
      "Downloaded: image_570.png\n"
     ]
    },
    {
     "name": "stderr",
     "output_type": "stream",
     "text": [
      "Downloading images:  62%|████████████████████████████████████▉                       | 577/936 [04:12<02:04,  2.89it/s]"
     ]
    },
    {
     "name": "stdout",
     "output_type": "stream",
     "text": [
      "Downloaded: image_577.png\n"
     ]
    },
    {
     "name": "stderr",
     "output_type": "stream",
     "text": [
      "Downloading images:  62%|█████████████████████████████████████                       | 578/936 [04:12<02:51,  2.08it/s]"
     ]
    },
    {
     "name": "stdout",
     "output_type": "stream",
     "text": [
      "Downloaded: image_590.jpg\n"
     ]
    },
    {
     "name": "stderr",
     "output_type": "stream",
     "text": [
      "Downloading images:  62%|█████████████████████████████████████▏                      | 580/936 [04:13<02:48,  2.12it/s]"
     ]
    },
    {
     "name": "stdout",
     "output_type": "stream",
     "text": [
      "Downloaded: image_584.jpg\n",
      "Downloaded: image_571.png\n"
     ]
    },
    {
     "name": "stderr",
     "output_type": "stream",
     "text": [
      "Downloading images:  62%|█████████████████████████████████████▎                      | 583/936 [04:14<01:30,  3.91it/s]"
     ]
    },
    {
     "name": "stdout",
     "output_type": "stream",
     "text": [
      "Downloaded: image_586.png\n",
      "Downloaded: image_580.jpg\n",
      "Downloaded: image_579.jpg\n"
     ]
    },
    {
     "name": "stderr",
     "output_type": "stream",
     "text": [
      "Downloading images:  62%|█████████████████████████████████████▍                      | 584/936 [04:15<03:26,  1.70it/s]"
     ]
    },
    {
     "name": "stdout",
     "output_type": "stream",
     "text": [
      "Downloaded: image_594.png\n"
     ]
    },
    {
     "name": "stderr",
     "output_type": "stream",
     "text": [
      "Downloading images:  63%|█████████████████████████████████████▌                      | 586/936 [04:16<02:26,  2.38it/s]"
     ]
    },
    {
     "name": "stdout",
     "output_type": "stream",
     "text": [
      "Downloaded: image_587.png\n",
      "Downloaded: image_588.jpg\n"
     ]
    },
    {
     "name": "stderr",
     "output_type": "stream",
     "text": [
      "Downloading images:  63%|█████████████████████████████████████▋                      | 587/936 [04:16<02:01,  2.88it/s]"
     ]
    },
    {
     "name": "stdout",
     "output_type": "stream",
     "text": [
      "Downloaded: image_583.jpg\n"
     ]
    },
    {
     "name": "stderr",
     "output_type": "stream",
     "text": [
      "Downloading images:  63%|█████████████████████████████████████▋                      | 588/936 [04:17<02:29,  2.32it/s]"
     ]
    },
    {
     "name": "stdout",
     "output_type": "stream",
     "text": [
      "Downloaded: image_576.png\n",
      "Downloaded: image_551.png\n"
     ]
    },
    {
     "name": "stderr",
     "output_type": "stream",
     "text": [
      "Downloading images:  63%|█████████████████████████████████████▉                      | 592/936 [04:17<01:13,  4.67it/s]"
     ]
    },
    {
     "name": "stdout",
     "output_type": "stream",
     "text": [
      "Downloaded: image_593.jpg\n",
      "Downloaded: image_592.jpg\n",
      "Downloaded: image_589.png\n"
     ]
    },
    {
     "name": "stderr",
     "output_type": "stream",
     "text": [
      "Downloading images:  63%|██████████████████████████████████████                      | 594/936 [04:17<00:53,  6.34it/s]"
     ]
    },
    {
     "name": "stdout",
     "output_type": "stream",
     "text": [
      "Downloaded: image_591.png\n",
      "Downloaded: image_598.jpg\n",
      "Downloaded: image_600.jpg\n"
     ]
    },
    {
     "name": "stderr",
     "output_type": "stream",
     "text": [
      "Downloading images:  64%|██████████████████████████████████████▎                     | 597/936 [04:19<02:12,  2.56it/s]"
     ]
    },
    {
     "name": "stdout",
     "output_type": "stream",
     "text": [
      "Downloaded: image_599.png\n",
      "Downloaded: image_595.png\n"
     ]
    },
    {
     "name": "stderr",
     "output_type": "stream",
     "text": [
      "Downloading images:  64%|██████████████████████████████████████▎                     | 598/936 [04:20<02:15,  2.50it/s]"
     ]
    },
    {
     "name": "stdout",
     "output_type": "stream",
     "text": [
      "Downloaded: image_597.png\n",
      "Downloaded: image_603.jpg\n",
      "Downloaded: image_605.jpg\n"
     ]
    },
    {
     "name": "stderr",
     "output_type": "stream",
     "text": [
      "Downloading images:  64%|██████████████████████████████████████▌                     | 602/936 [04:20<01:14,  4.49it/s]"
     ]
    },
    {
     "name": "stdout",
     "output_type": "stream",
     "text": [
      "Downloaded: image_602.jpg\n",
      "Downloaded: image_608.jpeg\n"
     ]
    },
    {
     "name": "stderr",
     "output_type": "stream",
     "text": [
      "Downloading images:  64%|██████████████████████████████████████▋                     | 603/936 [04:21<02:13,  2.50it/s]"
     ]
    },
    {
     "name": "stdout",
     "output_type": "stream",
     "text": [
      "Downloaded: image_611.jpg\n",
      "Downloaded: image_607.jpeg\n",
      "Downloaded: image_612.jpg\n"
     ]
    },
    {
     "name": "stderr",
     "output_type": "stream",
     "text": [
      "Downloading images:  65%|██████████████████████████████████████▊                     | 606/936 [04:22<01:33,  3.54it/s]"
     ]
    },
    {
     "name": "stdout",
     "output_type": "stream",
     "text": [
      "Downloaded: image_601.png\n",
      "Downloaded: image_610.jpg\n"
     ]
    },
    {
     "name": "stderr",
     "output_type": "stream",
     "text": [
      "Downloading images:  65%|██████████████████████████████████████▉                     | 608/936 [04:22<01:23,  3.94it/s]"
     ]
    },
    {
     "name": "stdout",
     "output_type": "stream",
     "text": [
      "Downloaded: image_613.jpg\n"
     ]
    },
    {
     "name": "stderr",
     "output_type": "stream",
     "text": [
      "Downloading images:  65%|███████████████████████████████████████                     | 609/936 [04:24<03:12,  1.69it/s]"
     ]
    },
    {
     "name": "stdout",
     "output_type": "stream",
     "text": [
      "Downloaded: image_585.png\n"
     ]
    },
    {
     "name": "stderr",
     "output_type": "stream",
     "text": [
      "Downloading images:  65%|███████████████████████████████████████                     | 610/936 [04:25<03:04,  1.77it/s]"
     ]
    },
    {
     "name": "stdout",
     "output_type": "stream",
     "text": [
      "Downloaded: image_606.jpg\n"
     ]
    },
    {
     "name": "stderr",
     "output_type": "stream",
     "text": [
      "Downloading images:  65%|███████████████████████████████████████▏                    | 611/936 [04:25<02:39,  2.04it/s]"
     ]
    },
    {
     "name": "stdout",
     "output_type": "stream",
     "text": [
      "Downloaded: image_614.jpg\n"
     ]
    },
    {
     "name": "stderr",
     "output_type": "stream",
     "text": [
      "Downloading images:  65%|███████████████████████████████████████▏                    | 612/936 [04:30<08:32,  1.58s/it]"
     ]
    },
    {
     "name": "stdout",
     "output_type": "stream",
     "text": [
      "Downloaded: image_616.png\n",
      "Downloaded: image_624.jpeg\n",
      "Downloaded: image_625.jpeg\n"
     ]
    },
    {
     "name": "stderr",
     "output_type": "stream",
     "text": [
      "Downloading images:  66%|███████████████████████████████████████▍                    | 615/936 [04:33<06:45,  1.26s/it]"
     ]
    },
    {
     "name": "stdout",
     "output_type": "stream",
     "text": [
      "Downloaded: image_628.jpg\n"
     ]
    },
    {
     "name": "stderr",
     "output_type": "stream",
     "text": [
      "Downloading images:  66%|███████████████████████████████████████▍                    | 616/936 [04:33<05:43,  1.07s/it]"
     ]
    },
    {
     "name": "stdout",
     "output_type": "stream",
     "text": [
      "Downloaded: image_609.png\n"
     ]
    },
    {
     "name": "stderr",
     "output_type": "stream",
     "text": [
      "Downloading images:  66%|███████████████████████████████████████▌                    | 617/936 [04:34<05:42,  1.08s/it]"
     ]
    },
    {
     "name": "stdout",
     "output_type": "stream",
     "text": [
      "Downloaded: image_626.jpeg\n"
     ]
    },
    {
     "name": "stderr",
     "output_type": "stream",
     "text": [
      "Downloading images:  66%|███████████████████████████████████████▌                    | 618/936 [04:36<06:45,  1.28s/it]"
     ]
    },
    {
     "name": "stdout",
     "output_type": "stream",
     "text": [
      "Downloaded: image_622.jpeg\n"
     ]
    },
    {
     "name": "stderr",
     "output_type": "stream",
     "text": [
      "Downloading images:  66%|███████████████████████████████████████▋                    | 619/936 [04:37<05:35,  1.06s/it]"
     ]
    },
    {
     "name": "stdout",
     "output_type": "stream",
     "text": [
      "Downloaded: image_623.jpeg\n"
     ]
    },
    {
     "name": "stderr",
     "output_type": "stream",
     "text": [
      "Downloading images:  66%|███████████████████████████████████████▋                    | 620/936 [04:37<04:29,  1.17it/s]"
     ]
    },
    {
     "name": "stdout",
     "output_type": "stream",
     "text": [
      "Downloaded: image_620.png\n",
      "Downloaded: image_627.jpg\n"
     ]
    },
    {
     "name": "stderr",
     "output_type": "stream",
     "text": [
      "Downloading images:  66%|███████████████████████████████████████▊                    | 622/936 [04:37<02:49,  1.85it/s]"
     ]
    },
    {
     "name": "stdout",
     "output_type": "stream",
     "text": [
      "Downloaded: image_617.png\n"
     ]
    },
    {
     "name": "stderr",
     "output_type": "stream",
     "text": [
      "Downloading images:  67%|███████████████████████████████████████▉                    | 623/936 [04:37<02:25,  2.15it/s]"
     ]
    },
    {
     "name": "stdout",
     "output_type": "stream",
     "text": [
      "Downloaded: image_629.jpg\n",
      "Downloaded: image_618.png\n"
     ]
    },
    {
     "name": "stderr",
     "output_type": "stream",
     "text": [
      "Downloading images:  67%|████████████████████████████████████████                    | 625/936 [04:39<02:50,  1.82it/s]"
     ]
    },
    {
     "name": "stdout",
     "output_type": "stream",
     "text": [
      "Downloaded: image_615.png\n"
     ]
    },
    {
     "name": "stderr",
     "output_type": "stream",
     "text": [
      "Downloading images:  67%|████████████████████████████████████████▏                   | 626/936 [04:39<02:42,  1.91it/s]"
     ]
    },
    {
     "name": "stdout",
     "output_type": "stream",
     "text": [
      "Downloaded: image_604.png\n"
     ]
    },
    {
     "name": "stderr",
     "output_type": "stream",
     "text": [
      "Downloading images:  67%|████████████████████████████████████████▏                   | 627/936 [04:40<02:36,  1.98it/s]"
     ]
    },
    {
     "name": "stdout",
     "output_type": "stream",
     "text": [
      "Downloaded: image_631.jpeg\n"
     ]
    },
    {
     "name": "stderr",
     "output_type": "stream",
     "text": [
      "Downloading images:  67%|████████████████████████████████████████▎                   | 628/936 [04:41<03:13,  1.59it/s]"
     ]
    },
    {
     "name": "stdout",
     "output_type": "stream",
     "text": [
      "Downloaded: image_635.png\n"
     ]
    },
    {
     "name": "stderr",
     "output_type": "stream",
     "text": [
      "Downloading images:  67%|████████████████████████████████████████▎                   | 629/936 [04:42<03:56,  1.30it/s]"
     ]
    },
    {
     "name": "stdout",
     "output_type": "stream",
     "text": [
      "Downloaded: image_634.png\n"
     ]
    },
    {
     "name": "stderr",
     "output_type": "stream",
     "text": [
      "Downloading images:  67%|████████████████████████████████████████▍                   | 630/936 [04:42<03:09,  1.61it/s]"
     ]
    },
    {
     "name": "stdout",
     "output_type": "stream",
     "text": [
      "Downloaded: image_630.jpg\n"
     ]
    },
    {
     "name": "stderr",
     "output_type": "stream",
     "text": [
      "Downloading images:  67%|████████████████████████████████████████▍                   | 631/936 [04:42<02:41,  1.89it/s]"
     ]
    },
    {
     "name": "stdout",
     "output_type": "stream",
     "text": [
      "Downloaded: image_621.png\n",
      "Downloaded: image_619.png\n",
      "Downloaded: image_632.png\n",
      "Downloaded: image_638.png\n"
     ]
    },
    {
     "name": "stderr",
     "output_type": "stream",
     "text": [
      "Downloading images:  68%|████████████████████████████████████████▋                   | 635/936 [04:44<02:21,  2.12it/s]"
     ]
    },
    {
     "name": "stdout",
     "output_type": "stream",
     "text": [
      "Downloaded: image_643.jpeg\n"
     ]
    },
    {
     "name": "stderr",
     "output_type": "stream",
     "text": [
      "Downloading images:  68%|████████████████████████████████████████▊                   | 636/936 [04:44<02:09,  2.32it/s]"
     ]
    },
    {
     "name": "stdout",
     "output_type": "stream",
     "text": [
      "Downloaded: image_636.png\n"
     ]
    },
    {
     "name": "stderr",
     "output_type": "stream",
     "text": [
      "Downloading images:  68%|████████████████████████████████████████▊                   | 637/936 [04:46<03:03,  1.63it/s]"
     ]
    },
    {
     "name": "stdout",
     "output_type": "stream",
     "text": [
      "Downloaded: image_596.png\n"
     ]
    },
    {
     "name": "stderr",
     "output_type": "stream",
     "text": [
      "Downloading images:  68%|████████████████████████████████████████▉                   | 639/936 [04:46<02:13,  2.23it/s]"
     ]
    },
    {
     "name": "stdout",
     "output_type": "stream",
     "text": [
      "Downloaded: image_640.jpeg\n",
      "Downloaded: image_645.jpg\n"
     ]
    },
    {
     "name": "stderr",
     "output_type": "stream",
     "text": [
      "Downloading images:  68%|█████████████████████████████████████████                   | 640/936 [04:46<02:01,  2.44it/s]"
     ]
    },
    {
     "name": "stdout",
     "output_type": "stream",
     "text": [
      "Downloaded: image_637.png\n"
     ]
    },
    {
     "name": "stderr",
     "output_type": "stream",
     "text": [
      "Downloading images:  69%|█████████████████████████████████████████▏                  | 643/936 [04:47<01:16,  3.85it/s]"
     ]
    },
    {
     "name": "stdout",
     "output_type": "stream",
     "text": [
      "Downloaded: image_646.jpg\n",
      "Downloaded: image_650.jpg\n",
      "Downloaded: image_633.png\n"
     ]
    },
    {
     "name": "stderr",
     "output_type": "stream",
     "text": [
      "Downloading images:  69%|█████████████████████████████████████████▎                  | 644/936 [04:47<01:25,  3.41it/s]"
     ]
    },
    {
     "name": "stdout",
     "output_type": "stream",
     "text": [
      "Downloaded: image_653.jpg\n"
     ]
    },
    {
     "name": "stderr",
     "output_type": "stream",
     "text": [
      "Downloading images:  69%|█████████████████████████████████████████▍                  | 646/936 [04:48<01:25,  3.40it/s]"
     ]
    },
    {
     "name": "stdout",
     "output_type": "stream",
     "text": [
      "Downloaded: image_639.png\n",
      "Downloaded: image_644.png\n"
     ]
    },
    {
     "name": "stderr",
     "output_type": "stream",
     "text": [
      "Downloading images:  69%|█████████████████████████████████████████▍                  | 647/936 [04:49<02:00,  2.40it/s]"
     ]
    },
    {
     "name": "stdout",
     "output_type": "stream",
     "text": [
      "Downloaded: image_647.jpg\n"
     ]
    },
    {
     "name": "stderr",
     "output_type": "stream",
     "text": [
      "Downloading images:  69%|█████████████████████████████████████████▌                  | 648/936 [04:49<01:50,  2.60it/s]"
     ]
    },
    {
     "name": "stdout",
     "output_type": "stream",
     "text": [
      "Downloaded: image_651.jpg\n"
     ]
    },
    {
     "name": "stderr",
     "output_type": "stream",
     "text": [
      "Downloading images:  69%|█████████████████████████████████████████▌                  | 649/936 [04:49<02:00,  2.39it/s]"
     ]
    },
    {
     "name": "stdout",
     "output_type": "stream",
     "text": [
      "Downloaded: image_655.jpg\n"
     ]
    },
    {
     "name": "stderr",
     "output_type": "stream",
     "text": [
      "Downloading images:  69%|█████████████████████████████████████████▋                  | 650/936 [04:50<02:04,  2.29it/s]"
     ]
    },
    {
     "name": "stdout",
     "output_type": "stream",
     "text": [
      "Downloaded: image_654.jpg\n",
      "Downloaded: image_648.jpeg\n"
     ]
    },
    {
     "name": "stderr",
     "output_type": "stream",
     "text": [
      "Downloading images:  70%|█████████████████████████████████████████▊                  | 652/936 [04:52<03:09,  1.50it/s]"
     ]
    },
    {
     "name": "stdout",
     "output_type": "stream",
     "text": [
      "Downloaded: image_642.png\n"
     ]
    },
    {
     "name": "stderr",
     "output_type": "stream",
     "text": [
      "Downloading images:  70%|█████████████████████████████████████████▊                  | 653/936 [04:52<03:08,  1.50it/s]"
     ]
    },
    {
     "name": "stdout",
     "output_type": "stream",
     "text": [
      "Downloaded: image_649.jpg\n",
      "Downloaded: image_652.png\n",
      "Downloaded: image_666.jpg\n"
     ]
    },
    {
     "name": "stderr",
     "output_type": "stream",
     "text": [
      "Downloading images:  70%|██████████████████████████████████████████                  | 656/936 [04:53<02:12,  2.12it/s]"
     ]
    },
    {
     "name": "stdout",
     "output_type": "stream",
     "text": [
      "Downloaded: image_659.jpeg\n"
     ]
    },
    {
     "name": "stderr",
     "output_type": "stream",
     "text": [
      "Downloading images:  70%|██████████████████████████████████████████                  | 657/936 [04:54<02:23,  1.94it/s]"
     ]
    },
    {
     "name": "stdout",
     "output_type": "stream",
     "text": [
      "Downloaded: image_660.jpg\n"
     ]
    },
    {
     "name": "stderr",
     "output_type": "stream",
     "text": [
      "Downloading images:  70%|██████████████████████████████████████████▏                 | 658/936 [04:54<02:14,  2.06it/s]"
     ]
    },
    {
     "name": "stdout",
     "output_type": "stream",
     "text": [
      "Downloaded: image_658.jpg\n"
     ]
    },
    {
     "name": "stderr",
     "output_type": "stream",
     "text": [
      "Downloading images:  70%|██████████████████████████████████████████▏                 | 659/936 [04:55<02:11,  2.10it/s]"
     ]
    },
    {
     "name": "stdout",
     "output_type": "stream",
     "text": [
      "Downloaded: image_656.png\n"
     ]
    },
    {
     "name": "stderr",
     "output_type": "stream",
     "text": [
      "Downloading images:  71%|██████████████████████████████████████████▎                 | 661/936 [04:56<02:15,  2.03it/s]"
     ]
    },
    {
     "name": "stdout",
     "output_type": "stream",
     "text": [
      "Downloaded: image_665.jpg\n",
      "Downloaded: image_641.png\n",
      "Downloaded: image_657.png\n"
     ]
    },
    {
     "name": "stderr",
     "output_type": "stream",
     "text": [
      "Downloading images:  71%|██████████████████████████████████████████▌                 | 663/936 [04:56<01:24,  3.23it/s]"
     ]
    },
    {
     "name": "stdout",
     "output_type": "stream",
     "text": [
      "Downloaded: image_672.jpg\n"
     ]
    },
    {
     "name": "stderr",
     "output_type": "stream",
     "text": [
      "Downloading images:  71%|██████████████████████████████████████████▋                 | 666/936 [04:57<00:59,  4.53it/s]"
     ]
    },
    {
     "name": "stdout",
     "output_type": "stream",
     "text": [
      "Downloaded: image_673.jpg\n",
      "Downloaded: image_662.png\n",
      "Downloaded: image_663.png\n",
      "Downloaded: image_668.jpg\n"
     ]
    },
    {
     "name": "stderr",
     "output_type": "stream",
     "text": [
      "Downloading images:  72%|███████████████████████████████████████████                 | 671/936 [04:57<00:40,  6.60it/s]"
     ]
    },
    {
     "name": "stdout",
     "output_type": "stream",
     "text": [
      "Downloaded: image_664.jpg\n",
      "Downloaded: image_677.png\n",
      "Downloaded: image_669.jpg\n",
      "Downloaded: image_670.jpg\n"
     ]
    },
    {
     "name": "stderr",
     "output_type": "stream",
     "text": [
      "Downloading images:  72%|███████████████████████████████████████████▏                | 673/936 [04:58<00:44,  5.85it/s]"
     ]
    },
    {
     "name": "stdout",
     "output_type": "stream",
     "text": [
      "Downloaded: image_679.jpg\n",
      "Downloaded: image_671.jpg\n"
     ]
    },
    {
     "name": "stderr",
     "output_type": "stream",
     "text": [
      "Downloading images:  72%|███████████████████████████████████████████▏                | 674/936 [04:58<00:41,  6.25it/s]"
     ]
    },
    {
     "name": "stdout",
     "output_type": "stream",
     "text": [
      "Downloaded: image_661.png\n"
     ]
    },
    {
     "name": "stderr",
     "output_type": "stream",
     "text": [
      "Downloading images:  72%|███████████████████████████████████████████▎                | 675/936 [04:59<01:25,  3.05it/s]"
     ]
    },
    {
     "name": "stdout",
     "output_type": "stream",
     "text": [
      "Downloaded: image_675.jpg\n",
      "Downloaded: image_674.jpg\n"
     ]
    },
    {
     "name": "stderr",
     "output_type": "stream",
     "text": [
      "Downloading images:  73%|███████████████████████████████████████████▌                | 679/936 [04:59<00:54,  4.70it/s]"
     ]
    },
    {
     "name": "stdout",
     "output_type": "stream",
     "text": [
      "Downloaded: image_683.jpg\n",
      "Downloaded: image_667.png\n",
      "Downloaded: image_688.jpeg\n",
      "Downloaded: image_685.jpeg\n"
     ]
    },
    {
     "name": "stderr",
     "output_type": "stream",
     "text": [
      "Downloading images:  73%|███████████████████████████████████████████▋                | 681/936 [05:00<01:20,  3.18it/s]"
     ]
    },
    {
     "name": "stdout",
     "output_type": "stream",
     "text": [
      "Downloaded: image_682.jpeg\n",
      "Downloaded: image_690.jpg\n",
      "Downloaded: image_678.jpg\n"
     ]
    },
    {
     "name": "stderr",
     "output_type": "stream",
     "text": [
      "Downloading images:  73%|███████████████████████████████████████████▊                | 684/936 [05:01<00:54,  4.59it/s]"
     ]
    },
    {
     "name": "stdout",
     "output_type": "stream",
     "text": [
      "Downloaded: image_687.jpeg\n"
     ]
    },
    {
     "name": "stderr",
     "output_type": "stream",
     "text": [
      "Downloading images:  73%|███████████████████████████████████████████▉                | 685/936 [05:01<01:01,  4.06it/s]"
     ]
    },
    {
     "name": "stdout",
     "output_type": "stream",
     "text": [
      "Downloaded: image_691.jpg\n"
     ]
    },
    {
     "name": "stderr",
     "output_type": "stream",
     "text": [
      "Downloading images:  73%|████████████████████████████████████████████                | 687/936 [05:02<01:01,  4.05it/s]"
     ]
    },
    {
     "name": "stdout",
     "output_type": "stream",
     "text": [
      "Downloaded: image_695.png\n",
      "Downloaded: image_680.jpg\n",
      "Downloaded: image_686.jpeg\n",
      "Downloaded: image_684.jpeg\n"
     ]
    },
    {
     "name": "stderr",
     "output_type": "stream",
     "text": [
      "Downloading images:  74%|████████████████████████████████████████████▏               | 690/936 [05:02<00:39,  6.20it/s]"
     ]
    },
    {
     "name": "stdout",
     "output_type": "stream",
     "text": [
      "Downloaded: image_689.png\n"
     ]
    },
    {
     "name": "stderr",
     "output_type": "stream",
     "text": [
      "Downloading images:  74%|████████████████████████████████████████████▎               | 691/936 [05:03<01:15,  3.24it/s]"
     ]
    },
    {
     "name": "stdout",
     "output_type": "stream",
     "text": [
      "Downloaded: image_700.jpg\n"
     ]
    },
    {
     "name": "stderr",
     "output_type": "stream",
     "text": [
      "Downloading images:  74%|████████████████████████████████████████████▎               | 692/936 [05:04<01:42,  2.39it/s]"
     ]
    },
    {
     "name": "stdout",
     "output_type": "stream",
     "text": [
      "Downloaded: image_701.jpg\n"
     ]
    },
    {
     "name": "stderr",
     "output_type": "stream",
     "text": [
      "Downloading images:  74%|████████████████████████████████████████████▍               | 693/936 [05:04<01:41,  2.39it/s]"
     ]
    },
    {
     "name": "stdout",
     "output_type": "stream",
     "text": [
      "Downloaded: image_676.png\n"
     ]
    },
    {
     "name": "stderr",
     "output_type": "stream",
     "text": [
      "Downloading images:  74%|████████████████████████████████████████████▍               | 694/936 [05:05<01:49,  2.21it/s]"
     ]
    },
    {
     "name": "stdout",
     "output_type": "stream",
     "text": [
      "Downloaded: image_696.jpeg\n",
      "Downloaded: image_681.png\n"
     ]
    },
    {
     "name": "stderr",
     "output_type": "stream",
     "text": [
      "Downloading images:  74%|████████████████████████████████████████████▌               | 696/936 [05:05<01:17,  3.11it/s]"
     ]
    },
    {
     "name": "stdout",
     "output_type": "stream",
     "text": [
      "Downloaded: image_697.png\n"
     ]
    },
    {
     "name": "stderr",
     "output_type": "stream",
     "text": [
      "Downloading images:  74%|████████████████████████████████████████████▋               | 697/936 [05:05<01:14,  3.19it/s]"
     ]
    },
    {
     "name": "stdout",
     "output_type": "stream",
     "text": [
      "Downloaded: image_699.png\n",
      "Downloaded: image_693.jpg\n",
      "Downloaded: image_692.png\n"
     ]
    },
    {
     "name": "stderr",
     "output_type": "stream",
     "text": [
      "Downloading images:  75%|████████████████████████████████████████████▊               | 700/936 [05:06<00:56,  4.19it/s]"
     ]
    },
    {
     "name": "stdout",
     "output_type": "stream",
     "text": [
      "Downloaded: image_711.jpg\n"
     ]
    },
    {
     "name": "stderr",
     "output_type": "stream",
     "text": [
      "Downloading images:  75%|████████████████████████████████████████████▉               | 701/936 [05:07<01:42,  2.29it/s]"
     ]
    },
    {
     "name": "stdout",
     "output_type": "stream",
     "text": [
      "Downloaded: image_712.jpg\n",
      "Downloaded: image_702.png\n"
     ]
    },
    {
     "name": "stderr",
     "output_type": "stream",
     "text": [
      "Downloading images:  75%|█████████████████████████████████████████████               | 703/936 [05:08<01:59,  1.96it/s]"
     ]
    },
    {
     "name": "stdout",
     "output_type": "stream",
     "text": [
      "Downloaded: image_698.jpg\n"
     ]
    },
    {
     "name": "stderr",
     "output_type": "stream",
     "text": [
      "Downloading images:  75%|█████████████████████████████████████████████▏              | 705/936 [05:08<01:36,  2.40it/s]"
     ]
    },
    {
     "name": "stdout",
     "output_type": "stream",
     "text": [
      "Downloaded: image_715.jpg\n",
      "Downloaded: image_716.jpg\n"
     ]
    },
    {
     "name": "stderr",
     "output_type": "stream",
     "text": [
      "Downloading images:  75%|█████████████████████████████████████████████▎              | 706/936 [05:09<01:19,  2.91it/s]"
     ]
    },
    {
     "name": "stdout",
     "output_type": "stream",
     "text": [
      "Downloaded: image_706.jpg\n"
     ]
    },
    {
     "name": "stderr",
     "output_type": "stream",
     "text": [
      "Downloading images:  76%|█████████████████████████████████████████████▎              | 707/936 [05:09<01:13,  3.10it/s]"
     ]
    },
    {
     "name": "stdout",
     "output_type": "stream",
     "text": [
      "Downloaded: image_717.jpg\n"
     ]
    },
    {
     "name": "stderr",
     "output_type": "stream",
     "text": [
      "Downloading images:  76%|█████████████████████████████████████████████▍              | 708/936 [05:10<01:36,  2.37it/s]"
     ]
    },
    {
     "name": "stdout",
     "output_type": "stream",
     "text": [
      "Downloaded: image_694.png\n",
      "Downloaded: image_707.jpg\n",
      "Downloaded: image_710.jpg\n"
     ]
    },
    {
     "name": "stderr",
     "output_type": "stream",
     "text": [
      "Downloading images:  76%|█████████████████████████████████████████████▋              | 712/936 [05:10<00:50,  4.47it/s]"
     ]
    },
    {
     "name": "stdout",
     "output_type": "stream",
     "text": [
      "Downloaded: image_714.png\n",
      "Downloaded: image_719.jpg\n"
     ]
    },
    {
     "name": "stderr",
     "output_type": "stream",
     "text": [
      "Downloading images:  76%|█████████████████████████████████████████████▋              | 713/936 [05:10<00:47,  4.67it/s]"
     ]
    },
    {
     "name": "stdout",
     "output_type": "stream",
     "text": [
      "Downloaded: image_703.png\n"
     ]
    },
    {
     "name": "stderr",
     "output_type": "stream",
     "text": [
      "Downloading images:  76%|█████████████████████████████████████████████▊              | 715/936 [05:11<00:45,  4.88it/s]"
     ]
    },
    {
     "name": "stdout",
     "output_type": "stream",
     "text": [
      "Downloaded: image_713.jpg\n",
      "Downloaded: image_720.jpg\n"
     ]
    },
    {
     "name": "stderr",
     "output_type": "stream",
     "text": [
      "Downloading images:  76%|█████████████████████████████████████████████▉              | 716/936 [05:11<00:58,  3.78it/s]"
     ]
    },
    {
     "name": "stdout",
     "output_type": "stream",
     "text": [
      "Downloaded: image_708.jpg\n",
      "Downloaded: image_709.jpg\n"
     ]
    },
    {
     "name": "stderr",
     "output_type": "stream",
     "text": [
      "Downloading images:  77%|██████████████████████████████████████████████              | 719/936 [05:11<00:43,  4.99it/s]"
     ]
    },
    {
     "name": "stdout",
     "output_type": "stream",
     "text": [
      "Downloaded: image_705.png\n",
      "Downloaded: image_718.png\n"
     ]
    },
    {
     "name": "stderr",
     "output_type": "stream",
     "text": [
      "Downloading images:  77%|██████████████████████████████████████████████▏             | 720/936 [05:14<02:39,  1.36it/s]"
     ]
    },
    {
     "name": "stdout",
     "output_type": "stream",
     "text": [
      "Downloaded: image_723.jpg\n",
      "Downloaded: image_721.jpg\n",
      "Downloaded: image_722.jpg\n"
     ]
    },
    {
     "name": "stderr",
     "output_type": "stream",
     "text": [
      "Downloading images:  77%|██████████████████████████████████████████████▎             | 723/936 [05:14<01:32,  2.30it/s]"
     ]
    },
    {
     "name": "stdout",
     "output_type": "stream",
     "text": [
      "Downloaded: image_704.png\n"
     ]
    },
    {
     "name": "stderr",
     "output_type": "stream",
     "text": [
      "Downloading images:  77%|██████████████████████████████████████████████▍             | 725/936 [05:16<02:00,  1.75it/s]"
     ]
    },
    {
     "name": "stdout",
     "output_type": "stream",
     "text": [
      "Downloaded: image_732.jpeg\n",
      "Downloaded: image_736.jpeg\n",
      "Downloaded: image_727.jpg\n"
     ]
    },
    {
     "name": "stderr",
     "output_type": "stream",
     "text": [
      "Downloading images:  78%|██████████████████████████████████████████████▌             | 727/936 [05:17<01:35,  2.20it/s]"
     ]
    },
    {
     "name": "stdout",
     "output_type": "stream",
     "text": [
      "Downloaded: image_730.jpg\n",
      "Downloaded: image_733.png\n"
     ]
    },
    {
     "name": "stderr",
     "output_type": "stream",
     "text": [
      "Downloading images:  78%|██████████████████████████████████████████████▋             | 729/936 [05:18<01:37,  2.12it/s]"
     ]
    },
    {
     "name": "stdout",
     "output_type": "stream",
     "text": [
      "Downloaded: image_725.jpg\n"
     ]
    },
    {
     "name": "stderr",
     "output_type": "stream",
     "text": [
      "Downloading images:  78%|██████████████████████████████████████████████▊             | 731/936 [05:18<01:25,  2.38it/s]"
     ]
    },
    {
     "name": "stdout",
     "output_type": "stream",
     "text": [
      "Downloaded: image_735.jpeg\n",
      "Downloaded: image_731.jpeg\n",
      "Downloaded: image_743.jpg\n"
     ]
    },
    {
     "name": "stderr",
     "output_type": "stream",
     "text": [
      "Downloading images:  78%|██████████████████████████████████████████████▉             | 733/936 [05:19<01:00,  3.34it/s]"
     ]
    },
    {
     "name": "stdout",
     "output_type": "stream",
     "text": [
      "Downloaded: image_737.jpg\n"
     ]
    },
    {
     "name": "stderr",
     "output_type": "stream",
     "text": [
      "Downloading images:  78%|███████████████████████████████████████████████             | 734/936 [05:19<00:56,  3.55it/s]"
     ]
    },
    {
     "name": "stdout",
     "output_type": "stream",
     "text": [
      "Downloaded: image_724.png\n"
     ]
    },
    {
     "name": "stderr",
     "output_type": "stream",
     "text": [
      "Downloading images:  79%|███████████████████████████████████████████████             | 735/936 [05:20<01:32,  2.16it/s]"
     ]
    },
    {
     "name": "stdout",
     "output_type": "stream",
     "text": [
      "Downloaded: image_741.jpeg\n"
     ]
    },
    {
     "name": "stderr",
     "output_type": "stream",
     "text": [
      "Downloading images:  79%|███████████████████████████████████████████████▏            | 737/936 [05:20<01:09,  2.87it/s]"
     ]
    },
    {
     "name": "stdout",
     "output_type": "stream",
     "text": [
      "Downloaded: image_728.png\n",
      "Downloaded: image_738.png\n"
     ]
    },
    {
     "name": "stderr",
     "output_type": "stream",
     "text": [
      "Downloading images:  79%|███████████████████████████████████████████████▎            | 739/936 [05:21<00:51,  3.81it/s]"
     ]
    },
    {
     "name": "stdout",
     "output_type": "stream",
     "text": [
      "Downloaded: image_747.jpg\n",
      "Downloaded: image_746.png\n"
     ]
    },
    {
     "name": "stderr",
     "output_type": "stream",
     "text": [
      "Downloading images:  79%|███████████████████████████████████████████████▍            | 740/936 [05:21<00:57,  3.41it/s]"
     ]
    },
    {
     "name": "stdout",
     "output_type": "stream",
     "text": [
      "Downloaded: image_729.jpg\n"
     ]
    },
    {
     "name": "stderr",
     "output_type": "stream",
     "text": [
      "Downloading images:  79%|███████████████████████████████████████████████▌            | 741/936 [05:22<01:23,  2.33it/s]"
     ]
    },
    {
     "name": "stdout",
     "output_type": "stream",
     "text": [
      "Downloaded: image_734.png\n"
     ]
    },
    {
     "name": "stderr",
     "output_type": "stream",
     "text": [
      "Downloading images:  79%|███████████████████████████████████████████████▌            | 742/936 [05:22<01:11,  2.72it/s]"
     ]
    },
    {
     "name": "stdout",
     "output_type": "stream",
     "text": [
      "Downloaded: image_745.jpg\n",
      "Downloaded: image_742.png\n"
     ]
    },
    {
     "name": "stderr",
     "output_type": "stream",
     "text": [
      "Downloading images:  79%|███████████████████████████████████████████████▋            | 744/936 [05:23<00:56,  3.37it/s]"
     ]
    },
    {
     "name": "stdout",
     "output_type": "stream",
     "text": [
      "Downloaded: image_751.jpg\n"
     ]
    },
    {
     "name": "stderr",
     "output_type": "stream",
     "text": [
      "Downloading images:  80%|███████████████████████████████████████████████▊            | 746/936 [05:24<01:24,  2.25it/s]"
     ]
    },
    {
     "name": "stdout",
     "output_type": "stream",
     "text": [
      "Downloaded: image_755.jpeg\n",
      "Downloaded: image_744.jpg\n"
     ]
    },
    {
     "name": "stderr",
     "output_type": "stream",
     "text": [
      "Downloading images:  80%|███████████████████████████████████████████████▉            | 747/936 [05:24<01:09,  2.71it/s]"
     ]
    },
    {
     "name": "stdout",
     "output_type": "stream",
     "text": [
      "Downloaded: image_752.png\n"
     ]
    },
    {
     "name": "stderr",
     "output_type": "stream",
     "text": [
      "Downloading images:  80%|███████████████████████████████████████████████▉            | 748/936 [05:25<01:25,  2.19it/s]"
     ]
    },
    {
     "name": "stdout",
     "output_type": "stream",
     "text": [
      "Downloaded: image_758.jpg\n"
     ]
    },
    {
     "name": "stderr",
     "output_type": "stream",
     "text": [
      "Downloading images:  80%|████████████████████████████████████████████████            | 750/936 [05:25<01:08,  2.71it/s]"
     ]
    },
    {
     "name": "stdout",
     "output_type": "stream",
     "text": [
      "Downloaded: image_759.jpg\n",
      "Downloaded: image_740.png\n",
      "Downloaded: image_750.png\n"
     ]
    },
    {
     "name": "stderr",
     "output_type": "stream",
     "text": [
      "Downloading images:  80%|████████████████████████████████████████████████▎           | 753/936 [05:26<00:45,  3.99it/s]"
     ]
    },
    {
     "name": "stdout",
     "output_type": "stream",
     "text": [
      "Downloaded: image_748.png\n",
      "Downloaded: image_763.jpg\n",
      "Downloaded: image_760.png\n"
     ]
    },
    {
     "name": "stderr",
     "output_type": "stream",
     "text": [
      "Downloading images:  81%|████████████████████████████████████████████████▍           | 755/936 [05:26<00:43,  4.14it/s]"
     ]
    },
    {
     "name": "stdout",
     "output_type": "stream",
     "text": [
      "Downloaded: image_749.png\n"
     ]
    },
    {
     "name": "stderr",
     "output_type": "stream",
     "text": [
      "Downloading images:  81%|████████████████████████████████████████████████▍           | 756/936 [05:27<00:46,  3.91it/s]"
     ]
    },
    {
     "name": "stdout",
     "output_type": "stream",
     "text": [
      "Downloaded: image_757.jpeg\n"
     ]
    },
    {
     "name": "stderr",
     "output_type": "stream",
     "text": [
      "Downloading images:  81%|████████████████████████████████████████████████▌           | 758/936 [05:27<00:38,  4.61it/s]"
     ]
    },
    {
     "name": "stdout",
     "output_type": "stream",
     "text": [
      "Downloaded: image_753.png\n",
      "Downloaded: image_765.jpeg\n"
     ]
    },
    {
     "name": "stderr",
     "output_type": "stream",
     "text": [
      "Downloading images:  81%|████████████████████████████████████████████████▋           | 759/936 [05:27<00:40,  4.34it/s]"
     ]
    },
    {
     "name": "stdout",
     "output_type": "stream",
     "text": [
      "Downloaded: image_754.png\n"
     ]
    },
    {
     "name": "stderr",
     "output_type": "stream",
     "text": [
      "Downloading images:  81%|████████████████████████████████████████████████▋           | 760/936 [05:28<00:50,  3.49it/s]"
     ]
    },
    {
     "name": "stdout",
     "output_type": "stream",
     "text": [
      "Downloaded: image_767.jpg\n"
     ]
    },
    {
     "name": "stderr",
     "output_type": "stream",
     "text": [
      "Downloading images:  81%|████████████████████████████████████████████████▊           | 761/936 [05:28<00:55,  3.14it/s]"
     ]
    },
    {
     "name": "stdout",
     "output_type": "stream",
     "text": [
      "Downloaded: image_764.png\n",
      "Downloaded: image_762.jpg\n",
      "Downloaded: image_769.jpg\n"
     ]
    },
    {
     "name": "stderr",
     "output_type": "stream",
     "text": [
      "Downloading images:  82%|████████████████████████████████████████████████▉           | 764/936 [05:29<00:37,  4.58it/s]"
     ]
    },
    {
     "name": "stdout",
     "output_type": "stream",
     "text": [
      "Downloaded: image_756.png\n"
     ]
    },
    {
     "name": "stderr",
     "output_type": "stream",
     "text": [
      "Downloading images:  82%|█████████████████████████████████████████████████           | 765/936 [05:29<00:41,  4.08it/s]"
     ]
    },
    {
     "name": "stdout",
     "output_type": "stream",
     "text": [
      "Downloaded: image_761.jpg\n"
     ]
    },
    {
     "name": "stderr",
     "output_type": "stream",
     "text": [
      "Downloading images:  82%|█████████████████████████████████████████████████           | 766/936 [05:29<00:43,  3.90it/s]"
     ]
    },
    {
     "name": "stdout",
     "output_type": "stream",
     "text": [
      "Downloaded: image_771.jpg\n"
     ]
    },
    {
     "name": "stderr",
     "output_type": "stream",
     "text": [
      "Downloading images:  82%|█████████████████████████████████████████████████▏          | 767/936 [05:30<00:50,  3.32it/s]"
     ]
    },
    {
     "name": "stdout",
     "output_type": "stream",
     "text": [
      "Downloaded: image_739.png\n"
     ]
    },
    {
     "name": "stderr",
     "output_type": "stream",
     "text": [
      "Downloading images:  82%|█████████████████████████████████████████████████▎          | 770/936 [05:30<00:40,  4.13it/s]"
     ]
    },
    {
     "name": "stdout",
     "output_type": "stream",
     "text": [
      "Downloaded: image_768.jpg\n",
      "Downloaded: image_773.png\n",
      "Downloaded: image_777.jpg\n"
     ]
    },
    {
     "name": "stderr",
     "output_type": "stream",
     "text": [
      "Downloading images:  82%|█████████████████████████████████████████████████▍          | 771/936 [05:31<00:55,  2.98it/s]"
     ]
    },
    {
     "name": "stdout",
     "output_type": "stream",
     "text": [
      "Downloaded: image_781.jpg\n",
      "Downloaded: image_776.png\n",
      "Downloaded: image_779.jpg\n"
     ]
    },
    {
     "name": "stderr",
     "output_type": "stream",
     "text": [
      "Downloading images:  83%|█████████████████████████████████████████████████▌          | 774/936 [05:31<00:35,  4.59it/s]"
     ]
    },
    {
     "name": "stdout",
     "output_type": "stream",
     "text": [
      "Downloaded: image_772.png\n",
      "Downloaded: image_774.png\n",
      "Downloaded: image_770.png\n"
     ]
    },
    {
     "name": "stderr",
     "output_type": "stream",
     "text": [
      "Downloading images:  83%|█████████████████████████████████████████████████▉          | 779/936 [05:32<00:29,  5.33it/s]"
     ]
    },
    {
     "name": "stdout",
     "output_type": "stream",
     "text": [
      "Downloaded: image_784.jpg\n",
      "Downloaded: image_786.jpg\n",
      "Downloaded: image_766.png\n"
     ]
    },
    {
     "name": "stderr",
     "output_type": "stream",
     "text": [
      "Downloading images:  83%|██████████████████████████████████████████████████          | 780/936 [05:33<00:37,  4.18it/s]"
     ]
    },
    {
     "name": "stdout",
     "output_type": "stream",
     "text": [
      "Downloaded: image_787.png\n",
      "Downloaded: image_726.png\n"
     ]
    },
    {
     "name": "stderr",
     "output_type": "stream",
     "text": [
      "Downloading images:  84%|██████████████████████████████████████████████████▏         | 782/936 [05:33<00:31,  4.86it/s]"
     ]
    },
    {
     "name": "stdout",
     "output_type": "stream",
     "text": [
      "Downloaded: image_780.jpg\n",
      "Downloaded: image_790.png\n"
     ]
    },
    {
     "name": "stderr",
     "output_type": "stream",
     "text": [
      "Downloading images:  84%|██████████████████████████████████████████████████▎         | 784/936 [05:34<00:45,  3.36it/s]"
     ]
    },
    {
     "name": "stdout",
     "output_type": "stream",
     "text": [
      "Downloaded: image_775.png\n",
      "Downloaded: image_778.jpg\n"
     ]
    },
    {
     "name": "stderr",
     "output_type": "stream",
     "text": [
      "Downloading images:  84%|██████████████████████████████████████████████████▍         | 786/936 [05:34<00:42,  3.51it/s]"
     ]
    },
    {
     "name": "stdout",
     "output_type": "stream",
     "text": [
      "Downloaded: image_797.png\n",
      "Downloaded: image_788.png\n",
      "Downloaded: image_796.png\n"
     ]
    },
    {
     "name": "stderr",
     "output_type": "stream",
     "text": [
      "Downloading images:  84%|██████████████████████████████████████████████████▋         | 790/936 [05:35<00:29,  5.01it/s]"
     ]
    },
    {
     "name": "stdout",
     "output_type": "stream",
     "text": [
      "Downloaded: image_789.png\n",
      "Downloaded: image_801.jpg\n"
     ]
    },
    {
     "name": "stderr",
     "output_type": "stream",
     "text": [
      "Downloading images:  85%|██████████████████████████████████████████████████▋         | 791/936 [05:35<00:32,  4.40it/s]"
     ]
    },
    {
     "name": "stdout",
     "output_type": "stream",
     "text": [
      "Downloaded: image_793.jpeg\n",
      "Downloaded: image_783.png\n"
     ]
    },
    {
     "name": "stderr",
     "output_type": "stream",
     "text": [
      "Downloading images:  85%|██████████████████████████████████████████████████▉         | 794/936 [05:36<00:27,  5.16it/s]"
     ]
    },
    {
     "name": "stdout",
     "output_type": "stream",
     "text": [
      "Downloaded: image_792.jpg\n",
      "Downloaded: image_794.jpg\n",
      "Downloaded: image_782.png\n"
     ]
    },
    {
     "name": "stderr",
     "output_type": "stream",
     "text": [
      "Downloading images:  85%|███████████████████████████████████████████████████         | 796/936 [05:36<00:25,  5.50it/s]"
     ]
    },
    {
     "name": "stdout",
     "output_type": "stream",
     "text": [
      "Downloaded: image_800.jpg\n"
     ]
    },
    {
     "name": "stderr",
     "output_type": "stream",
     "text": [
      "Downloading images:  85%|███████████████████████████████████████████████████         | 797/936 [05:36<00:26,  5.18it/s]"
     ]
    },
    {
     "name": "stdout",
     "output_type": "stream",
     "text": [
      "Downloaded: image_795.jpg\n"
     ]
    },
    {
     "name": "stderr",
     "output_type": "stream",
     "text": [
      "Downloading images:  85%|███████████████████████████████████████████████████▏        | 798/936 [05:37<00:49,  2.76it/s]"
     ]
    },
    {
     "name": "stdout",
     "output_type": "stream",
     "text": [
      "Downloaded: image_808.jpg\n",
      "Downloaded: image_810.jpg\n"
     ]
    },
    {
     "name": "stderr",
     "output_type": "stream",
     "text": [
      "Downloading images:  85%|███████████████████████████████████████████████████▎        | 800/936 [05:37<00:35,  3.83it/s]"
     ]
    },
    {
     "name": "stdout",
     "output_type": "stream",
     "text": [
      "Downloaded: image_812.jpg\n",
      "Downloaded: image_791.png\n"
     ]
    },
    {
     "name": "stderr",
     "output_type": "stream",
     "text": [
      "Downloading images:  86%|███████████████████████████████████████████████████▍        | 802/936 [05:38<00:32,  4.08it/s]"
     ]
    },
    {
     "name": "stdout",
     "output_type": "stream",
     "text": [
      "Downloaded: image_785.png\n",
      "Downloaded: image_803.jpg\n"
     ]
    },
    {
     "name": "stderr",
     "output_type": "stream",
     "text": [
      "Downloading images:  86%|███████████████████████████████████████████████████▌        | 804/936 [05:39<00:38,  3.41it/s]"
     ]
    },
    {
     "name": "stdout",
     "output_type": "stream",
     "text": [
      "Downloaded: image_799.jpg\n"
     ]
    },
    {
     "name": "stderr",
     "output_type": "stream",
     "text": [
      "Downloading images:  86%|███████████████████████████████████████████████████▋        | 806/936 [05:39<00:31,  4.12it/s]"
     ]
    },
    {
     "name": "stdout",
     "output_type": "stream",
     "text": [
      "Downloaded: image_809.jpg\n",
      "Downloaded: image_802.jpg\n",
      "Downloaded: image_806.jpg\n"
     ]
    },
    {
     "name": "stderr",
     "output_type": "stream",
     "text": [
      "Downloading images:  87%|███████████████████████████████████████████████████▉        | 811/936 [05:39<00:17,  7.17it/s]"
     ]
    },
    {
     "name": "stdout",
     "output_type": "stream",
     "text": [
      "Downloaded: image_815.png\n",
      "Downloaded: image_807.jpg\n",
      "Downloaded: image_813.jpg\n",
      "Downloaded: image_804.jpg\n"
     ]
    },
    {
     "name": "stderr",
     "output_type": "stream",
     "text": [
      "Downloading images:  87%|████████████████████████████████████████████████████▏       | 814/936 [05:40<00:23,  5.30it/s]"
     ]
    },
    {
     "name": "stdout",
     "output_type": "stream",
     "text": [
      "Downloaded: image_798.png\n",
      "Downloaded: image_822.jpg\n",
      "Downloaded: image_819.jpg\n"
     ]
    },
    {
     "name": "stderr",
     "output_type": "stream",
     "text": [
      "Downloading images:  87%|████████████████████████████████████████████████████▎       | 816/936 [05:41<00:21,  5.49it/s]"
     ]
    },
    {
     "name": "stdout",
     "output_type": "stream",
     "text": [
      "Downloaded: image_820.png\n",
      "Downloaded: image_805.png\n",
      "Downloaded: image_816.jpg\n"
     ]
    },
    {
     "name": "stderr",
     "output_type": "stream",
     "text": [
      "Downloading images:  87%|████████████████████████████████████████████████████▍       | 818/936 [05:41<00:21,  5.60it/s]"
     ]
    },
    {
     "name": "stdout",
     "output_type": "stream",
     "text": [
      "Downloaded: image_825.jpg\n"
     ]
    },
    {
     "name": "stderr",
     "output_type": "stream",
     "text": [
      "Downloading images:  88%|████████████████████████████████████████████████████▌       | 819/936 [05:41<00:26,  4.41it/s]"
     ]
    },
    {
     "name": "stdout",
     "output_type": "stream",
     "text": [
      "Downloaded: image_828.jpg\n",
      "Downloaded: image_829.png\n"
     ]
    },
    {
     "name": "stderr",
     "output_type": "stream",
     "text": [
      "Downloading images:  88%|████████████████████████████████████████████████████▋       | 821/936 [05:42<00:30,  3.81it/s]"
     ]
    },
    {
     "name": "stdout",
     "output_type": "stream",
     "text": [
      "Downloaded: image_818.jpg\n",
      "Downloaded: image_832.jpg\n",
      "Downloaded: image_833.jpg\n"
     ]
    },
    {
     "name": "stderr",
     "output_type": "stream",
     "text": [
      "Downloading images:  88%|████████████████████████████████████████████████████▊       | 824/936 [05:42<00:23,  4.80it/s]"
     ]
    },
    {
     "name": "stdout",
     "output_type": "stream",
     "text": [
      "Downloaded: image_817.png\n",
      "Downloaded: image_821.jpg\n"
     ]
    },
    {
     "name": "stderr",
     "output_type": "stream",
     "text": [
      "Downloading images:  88%|████████████████████████████████████████████████████▉       | 826/936 [05:43<00:23,  4.59it/s]"
     ]
    },
    {
     "name": "stdout",
     "output_type": "stream",
     "text": [
      "Downloaded: image_836.jpeg\n",
      "Downloaded: image_814.jpg\n"
     ]
    },
    {
     "name": "stderr",
     "output_type": "stream",
     "text": [
      "Downloading images:  89%|█████████████████████████████████████████████████████▏      | 830/936 [05:44<00:18,  5.68it/s]"
     ]
    },
    {
     "name": "stdout",
     "output_type": "stream",
     "text": [
      "Downloaded: image_811.png\n",
      "Downloaded: image_839.jpg\n",
      "Downloaded: image_827.jpg\n"
     ]
    },
    {
     "name": "stderr",
     "output_type": "stream",
     "text": [
      "Downloading images:  89%|█████████████████████████████████████████████████████▎      | 831/936 [05:44<00:18,  5.57it/s]"
     ]
    },
    {
     "name": "stdout",
     "output_type": "stream",
     "text": [
      "Downloaded: image_838.jpeg\n",
      "Downloaded: image_826.jpg\n"
     ]
    },
    {
     "name": "stderr",
     "output_type": "stream",
     "text": [
      "Downloading images:  89%|█████████████████████████████████████████████████████▍      | 834/936 [05:44<00:18,  5.63it/s]"
     ]
    },
    {
     "name": "stdout",
     "output_type": "stream",
     "text": [
      "Downloaded: image_830.jpg\n",
      "Downloaded: image_841.jpeg\n",
      "Downloaded: image_843.jpeg\n"
     ]
    },
    {
     "name": "stderr",
     "output_type": "stream",
     "text": [
      "Downloading images:  89%|█████████████████████████████████████████████████████▌      | 836/936 [05:44<00:14,  7.08it/s]"
     ]
    },
    {
     "name": "stdout",
     "output_type": "stream",
     "text": [
      "Downloaded: image_823.png\n",
      "Downloaded: image_835.jpeg\n"
     ]
    },
    {
     "name": "stderr",
     "output_type": "stream",
     "text": [
      "Downloading images:  90%|█████████████████████████████████████████████████████▊      | 839/936 [05:45<00:14,  6.90it/s]"
     ]
    },
    {
     "name": "stdout",
     "output_type": "stream",
     "text": [
      "Downloaded: image_824.png\n",
      "Downloaded: image_846.jpg\n"
     ]
    },
    {
     "name": "stderr",
     "output_type": "stream",
     "text": [
      "Downloading images:  90%|█████████████████████████████████████████████████████▊      | 840/936 [05:45<00:13,  7.25it/s]"
     ]
    },
    {
     "name": "stdout",
     "output_type": "stream",
     "text": [
      "Downloaded: image_837.jpeg\n"
     ]
    },
    {
     "name": "stderr",
     "output_type": "stream",
     "text": [
      "Downloading images:  90%|██████████████████████████████████████████████████████      | 843/936 [05:46<00:15,  6.16it/s]"
     ]
    },
    {
     "name": "stdout",
     "output_type": "stream",
     "text": [
      "Downloaded: image_848.jpg\n",
      "Downloaded: image_847.jpg\n",
      "Downloaded: image_831.jpg\n",
      "Downloaded: image_844.png\n"
     ]
    },
    {
     "name": "stderr",
     "output_type": "stream",
     "text": [
      "Downloading images:  90%|██████████████████████████████████████████████████████▏     | 845/936 [05:46<00:15,  5.92it/s]"
     ]
    },
    {
     "name": "stdout",
     "output_type": "stream",
     "text": [
      "Downloaded: image_851.jpg\n"
     ]
    },
    {
     "name": "stderr",
     "output_type": "stream",
     "text": [
      "Downloading images:  90%|██████████████████████████████████████████████████████▏     | 846/936 [05:46<00:20,  4.36it/s]"
     ]
    },
    {
     "name": "stdout",
     "output_type": "stream",
     "text": [
      "Downloaded: image_853.jpg\n"
     ]
    },
    {
     "name": "stderr",
     "output_type": "stream",
     "text": [
      "Downloading images:  90%|██████████████████████████████████████████████████████▎     | 847/936 [05:47<00:27,  3.28it/s]"
     ]
    },
    {
     "name": "stdout",
     "output_type": "stream",
     "text": [
      "Downloaded: image_849.png\n",
      "Downloaded: image_834.jpeg\n",
      "Downloaded: image_855.jpg\n"
     ]
    },
    {
     "name": "stderr",
     "output_type": "stream",
     "text": [
      "Downloading images:  91%|██████████████████████████████████████████████████████▍     | 850/936 [05:47<00:18,  4.76it/s]"
     ]
    },
    {
     "name": "stdout",
     "output_type": "stream",
     "text": [
      "Downloaded: image_845.jpeg\n",
      "Downloaded: image_850.png\n"
     ]
    },
    {
     "name": "stderr",
     "output_type": "stream",
     "text": [
      "Downloading images:  91%|██████████████████████████████████████████████████████▌     | 852/936 [05:48<00:15,  5.35it/s]"
     ]
    },
    {
     "name": "stdout",
     "output_type": "stream",
     "text": [
      "Downloaded: image_856.jpg\n"
     ]
    },
    {
     "name": "stderr",
     "output_type": "stream",
     "text": [
      "Downloading images:  91%|██████████████████████████████████████████████████████▋     | 853/936 [05:48<00:18,  4.41it/s]"
     ]
    },
    {
     "name": "stdout",
     "output_type": "stream",
     "text": [
      "Downloaded: image_862.jpg\n"
     ]
    },
    {
     "name": "stderr",
     "output_type": "stream",
     "text": [
      "Downloading images:  91%|██████████████████████████████████████████████████████▊     | 855/936 [05:48<00:18,  4.48it/s]"
     ]
    },
    {
     "name": "stdout",
     "output_type": "stream",
     "text": [
      "Downloaded: image_861.jpg\n",
      "Downloaded: image_867.jpeg\n"
     ]
    },
    {
     "name": "stderr",
     "output_type": "stream",
     "text": [
      "Downloading images:  91%|██████████████████████████████████████████████████████▊     | 856/936 [05:49<00:16,  4.86it/s]"
     ]
    },
    {
     "name": "stdout",
     "output_type": "stream",
     "text": [
      "Downloaded: image_852.jpg\n",
      "Downloaded: image_858.png\n",
      "Downloaded: image_863.jpg\n"
     ]
    },
    {
     "name": "stderr",
     "output_type": "stream",
     "text": [
      "Downloading images:  92%|███████████████████████████████████████████████████████     | 859/936 [05:49<00:12,  6.26it/s]"
     ]
    },
    {
     "name": "stdout",
     "output_type": "stream",
     "text": [
      "Downloaded: image_857.png\n",
      "Downloaded: image_842.jpg\n",
      "Downloaded: image_866.png\n"
     ]
    },
    {
     "name": "stderr",
     "output_type": "stream",
     "text": [
      "Downloading images:  92%|███████████████████████████████████████████████████████▎    | 862/936 [05:49<00:10,  7.31it/s]"
     ]
    },
    {
     "name": "stdout",
     "output_type": "stream",
     "text": [
      "Downloaded: image_870.jpg\n",
      "Downloaded: image_868.jpg\n"
     ]
    },
    {
     "name": "stderr",
     "output_type": "stream",
     "text": [
      "Downloading images:  92%|███████████████████████████████████████████████████████▍    | 864/936 [05:50<00:13,  5.30it/s]"
     ]
    },
    {
     "name": "stdout",
     "output_type": "stream",
     "text": [
      "Downloaded: image_860.jpg\n",
      "Downloaded: image_873.jpg\n"
     ]
    },
    {
     "name": "stderr",
     "output_type": "stream",
     "text": [
      "Downloading images:  93%|███████████████████████████████████████████████████████▌    | 866/936 [05:51<00:19,  3.61it/s]"
     ]
    },
    {
     "name": "stdout",
     "output_type": "stream",
     "text": [
      "Downloaded: image_865.jpg\n"
     ]
    },
    {
     "name": "stderr",
     "output_type": "stream",
     "text": [
      "Downloading images:  93%|███████████████████████████████████████████████████████▌    | 867/936 [05:51<00:18,  3.67it/s]"
     ]
    },
    {
     "name": "stdout",
     "output_type": "stream",
     "text": [
      "Downloaded: image_875.png\n",
      "Downloaded: image_840.png\n",
      "Downloaded: image_854.jpg\n"
     ]
    },
    {
     "name": "stderr",
     "output_type": "stream",
     "text": [
      "Downloading images:  93%|███████████████████████████████████████████████████████▊    | 871/936 [05:52<00:12,  5.41it/s]"
     ]
    },
    {
     "name": "stdout",
     "output_type": "stream",
     "text": [
      "Downloaded: image_881.jpg\n",
      "Downloaded: image_872.jpg\n"
     ]
    },
    {
     "name": "stderr",
     "output_type": "stream",
     "text": [
      "Downloading images:  93%|███████████████████████████████████████████████████████▉    | 873/936 [05:52<00:10,  6.04it/s]"
     ]
    },
    {
     "name": "stdout",
     "output_type": "stream",
     "text": [
      "Downloaded: image_864.jpg\n",
      "Downloaded: image_884.webp\n"
     ]
    },
    {
     "name": "stderr",
     "output_type": "stream",
     "text": [
      "Downloading images:  93%|████████████████████████████████████████████████████████    | 874/936 [05:52<00:09,  6.46it/s]"
     ]
    },
    {
     "name": "stdout",
     "output_type": "stream",
     "text": [
      "Downloaded: image_885.webp\n"
     ]
    },
    {
     "name": "stderr",
     "output_type": "stream",
     "text": [
      "Downloading images:  93%|████████████████████████████████████████████████████████    | 875/936 [05:52<00:11,  5.32it/s]"
     ]
    },
    {
     "name": "stdout",
     "output_type": "stream",
     "text": [
      "Downloaded: image_879.jpg\n"
     ]
    },
    {
     "name": "stderr",
     "output_type": "stream",
     "text": [
      "Downloading images:  94%|████████████████████████████████████████████████████████▏   | 876/936 [05:53<00:16,  3.67it/s]"
     ]
    },
    {
     "name": "stdout",
     "output_type": "stream",
     "text": [
      "Downloaded: image_889.webp\n"
     ]
    },
    {
     "name": "stderr",
     "output_type": "stream",
     "text": [
      "Downloading images:  94%|████████████████████████████████████████████████████████▎   | 879/936 [05:53<00:10,  5.28it/s]"
     ]
    },
    {
     "name": "stdout",
     "output_type": "stream",
     "text": [
      "Downloaded: image_890.webp\n",
      "Downloaded: image_874.jpg\n",
      "Downloaded: image_876.jpg\n"
     ]
    },
    {
     "name": "stderr",
     "output_type": "stream",
     "text": [
      "Downloading images:  94%|████████████████████████████████████████████████████████▍   | 880/936 [05:53<00:10,  5.57it/s]"
     ]
    },
    {
     "name": "stdout",
     "output_type": "stream",
     "text": [
      "Downloaded: image_883.webp\n"
     ]
    },
    {
     "name": "stderr",
     "output_type": "stream",
     "text": [
      "Downloading images:  95%|████████████████████████████████████████████████████████▋   | 885/936 [05:54<00:05,  9.33it/s]"
     ]
    },
    {
     "name": "stdout",
     "output_type": "stream",
     "text": [
      "Downloaded: image_878.jpeg\n",
      "Downloaded: image_891.webp\n",
      "Downloaded: image_886.jpg\n",
      "Downloaded: image_892.webp\n",
      "Downloaded: image_880.jpg\n",
      "Downloaded: image_877.jpg\n"
     ]
    },
    {
     "name": "stderr",
     "output_type": "stream",
     "text": [
      "Downloading images:  95%|████████████████████████████████████████████████████████▊   | 887/936 [05:54<00:05,  8.83it/s]"
     ]
    },
    {
     "name": "stdout",
     "output_type": "stream",
     "text": [
      "Downloaded: image_882.png\n",
      "Downloaded: image_871.png\n"
     ]
    },
    {
     "name": "stderr",
     "output_type": "stream",
     "text": [
      "Downloading images:  95%|████████████████████████████████████████████████████████▉   | 889/936 [05:55<00:09,  4.71it/s]"
     ]
    },
    {
     "name": "stdout",
     "output_type": "stream",
     "text": [
      "Downloaded: image_859.png\n"
     ]
    },
    {
     "name": "stderr",
     "output_type": "stream",
     "text": [
      "Downloading images:  95%|█████████████████████████████████████████████████████████   | 891/936 [05:56<00:16,  2.76it/s]"
     ]
    },
    {
     "name": "stdout",
     "output_type": "stream",
     "text": [
      "Downloaded: image_893.png\n",
      "Downloaded: image_902.jpg\n"
     ]
    },
    {
     "name": "stderr",
     "output_type": "stream",
     "text": [
      "Downloading images:  95%|█████████████████████████████████████████████████████████▏  | 892/936 [05:57<00:13,  3.21it/s]"
     ]
    },
    {
     "name": "stdout",
     "output_type": "stream",
     "text": [
      "Downloaded: image_903.jpg\n",
      "Downloaded: image_895.png\n"
     ]
    },
    {
     "name": "stderr",
     "output_type": "stream",
     "text": [
      "Downloading images:  96%|█████████████████████████████████████████████████████████▎  | 894/936 [05:57<00:11,  3.74it/s]"
     ]
    },
    {
     "name": "stdout",
     "output_type": "stream",
     "text": [
      "Downloaded: image_905.jpg\n",
      "Downloaded: image_897.jpg\n",
      "Downloaded: image_887.png\n"
     ]
    },
    {
     "name": "stderr",
     "output_type": "stream",
     "text": [
      "Downloading images:  96%|█████████████████████████████████████████████████████████▌  | 897/936 [05:58<00:12,  3.03it/s]"
     ]
    },
    {
     "name": "stdout",
     "output_type": "stream",
     "text": [
      "Downloaded: image_869.png\n",
      "Downloaded: image_899.jpg\n"
     ]
    },
    {
     "name": "stderr",
     "output_type": "stream",
     "text": [
      "Downloading images:  96%|█████████████████████████████████████████████████████████▋  | 900/936 [05:58<00:08,  4.31it/s]"
     ]
    },
    {
     "name": "stdout",
     "output_type": "stream",
     "text": [
      "Downloaded: image_908.jpg\n",
      "Downloaded: image_900.jpg\n"
     ]
    },
    {
     "name": "stderr",
     "output_type": "stream",
     "text": [
      "Downloading images:  97%|█████████████████████████████████████████████████████████▉  | 904/936 [06:00<00:07,  4.12it/s]"
     ]
    },
    {
     "name": "stdout",
     "output_type": "stream",
     "text": [
      "Downloaded: image_901.jpg\n",
      "Downloaded: image_904.jpg\n",
      "Downloaded: image_913.jpg\n",
      "Downloaded: image_907.jpg\n",
      "Downloaded: image_898.jpg\n",
      "Downloaded: image_910.jpg\n"
     ]
    },
    {
     "name": "stderr",
     "output_type": "stream",
     "text": [
      "Downloading images:  97%|██████████████████████████████████████████████████████████▏ | 907/936 [06:00<00:06,  4.44it/s]"
     ]
    },
    {
     "name": "stdout",
     "output_type": "stream",
     "text": [
      "Downloaded: image_914.jpg\n"
     ]
    },
    {
     "name": "stderr",
     "output_type": "stream",
     "text": [
      "Downloading images:  97%|██████████████████████████████████████████████████████████▏ | 908/936 [06:01<00:07,  3.80it/s]"
     ]
    },
    {
     "name": "stdout",
     "output_type": "stream",
     "text": [
      "Downloaded: image_906.jpg\n",
      "Downloaded: image_909.jpg\n",
      "Downloaded: image_916.jpg\n"
     ]
    },
    {
     "name": "stderr",
     "output_type": "stream",
     "text": [
      "Downloading images:  97%|██████████████████████████████████████████████████████████▍ | 911/936 [06:01<00:05,  4.21it/s]"
     ]
    },
    {
     "name": "stdout",
     "output_type": "stream",
     "text": [
      "Downloaded: image_919.jpg\n"
     ]
    },
    {
     "name": "stderr",
     "output_type": "stream",
     "text": [
      "Downloading images:  98%|██████████████████████████████████████████████████████████▌ | 914/936 [06:02<00:04,  5.23it/s]"
     ]
    },
    {
     "name": "stdout",
     "output_type": "stream",
     "text": [
      "Downloaded: image_912.jpg\n",
      "Downloaded: image_920.jpg\n",
      "Downloaded: image_911.jpg\n"
     ]
    },
    {
     "name": "stderr",
     "output_type": "stream",
     "text": [
      "Downloading images:  98%|██████████████████████████████████████████████████████████▋ | 916/936 [06:02<00:03,  6.39it/s]"
     ]
    },
    {
     "name": "stdout",
     "output_type": "stream",
     "text": [
      "Downloaded: image_915.jpg\n",
      "Downloaded: image_922.jpg\n",
      "Downloaded: image_896.png\n"
     ]
    },
    {
     "name": "stderr",
     "output_type": "stream",
     "text": [
      "Downloading images:  98%|██████████████████████████████████████████████████████████▊ | 918/936 [06:02<00:02,  6.83it/s]"
     ]
    },
    {
     "name": "stdout",
     "output_type": "stream",
     "text": [
      "Downloaded: image_921.jpg\n"
     ]
    },
    {
     "name": "stderr",
     "output_type": "stream",
     "text": [
      "Downloading images:  99%|███████████████████████████████████████████████████████████ | 922/936 [06:03<00:01,  7.33it/s]"
     ]
    },
    {
     "name": "stdout",
     "output_type": "stream",
     "text": [
      "Downloaded: image_930.jpg\n",
      "Downloaded: image_917.jpg\n",
      "Downloaded: image_929.jpg\n",
      "Downloaded: image_888.png\n",
      "Downloaded: image_918.jpg\n"
     ]
    },
    {
     "name": "stderr",
     "output_type": "stream",
     "text": [
      "Downloading images:  99%|███████████████████████████████████████████████████████████▏| 924/936 [06:03<00:01,  6.45it/s]"
     ]
    },
    {
     "name": "stdout",
     "output_type": "stream",
     "text": [
      "Downloaded: image_924.jpg\n"
     ]
    },
    {
     "name": "stderr",
     "output_type": "stream",
     "text": [
      "Downloading images:  99%|███████████████████████████████████████████████████████████▎| 926/936 [06:04<00:01,  6.98it/s]"
     ]
    },
    {
     "name": "stdout",
     "output_type": "stream",
     "text": [
      "Downloaded: image_928.jpg\n",
      "Downloaded: image_923.jpg\n",
      "Downloaded: image_935.jpg\n"
     ]
    },
    {
     "name": "stderr",
     "output_type": "stream",
     "text": [
      "Downloading images:  99%|███████████████████████████████████████████████████████████▌| 930/936 [06:04<00:00,  8.58it/s]"
     ]
    },
    {
     "name": "stdout",
     "output_type": "stream",
     "text": [
      "Downloaded: image_926.jpg\n",
      "Downloaded: image_925.jpg\n",
      "Downloaded: image_927.jpg\n"
     ]
    },
    {
     "name": "stderr",
     "output_type": "stream",
     "text": [
      "Downloading images: 100%|███████████████████████████████████████████████████████████▋| 932/936 [06:05<00:00,  4.83it/s]"
     ]
    },
    {
     "name": "stdout",
     "output_type": "stream",
     "text": [
      "Downloaded: image_931.jpg\n",
      "Downloaded: image_936.png\n"
     ]
    },
    {
     "name": "stderr",
     "output_type": "stream",
     "text": [
      "Downloading images: 100%|███████████████████████████████████████████████████████████▊| 933/936 [06:05<00:00,  5.00it/s]"
     ]
    },
    {
     "name": "stdout",
     "output_type": "stream",
     "text": [
      "Downloaded: image_934.jpg\n"
     ]
    },
    {
     "name": "stderr",
     "output_type": "stream",
     "text": [
      "Downloading images: 100%|███████████████████████████████████████████████████████████▉| 935/936 [06:06<00:00,  4.04it/s]"
     ]
    },
    {
     "name": "stdout",
     "output_type": "stream",
     "text": [
      "Downloaded: image_932.jpg\n",
      "Downloaded: image_933.jpg\n"
     ]
    },
    {
     "name": "stderr",
     "output_type": "stream",
     "text": [
      "Downloading images: 100%|████████████████████████████████████████████████████████████| 936/936 [06:08<00:00,  2.54it/s]"
     ]
    },
    {
     "name": "stdout",
     "output_type": "stream",
     "text": [
      "Downloaded: image_894.png\n",
      "Images saved in C:\\Users\\ADMIN\\Desktop\\Flask site with local storage\\image csv\\out_of_packaging (Produce)\n"
     ]
    },
    {
     "name": "stderr",
     "output_type": "stream",
     "text": [
      "\n"
     ]
    }
   ],
   "source": [
    "import pandas as pd\n",
    "import requests\n",
    "import os\n",
    "from concurrent.futures import ThreadPoolExecutor, as_completed\n",
    "from tqdm import tqdm\n",
    "\n",
    "# Load CSV\n",
    "csv_file = 'out_of_packaging (Produce).csv'  # Update with the actual CSV file name\n",
    "df = pd.read_csv(csv_file)\n",
    "\n",
    "# Directory setup\n",
    "current_directory = os.path.dirname(os.path.abspath(csv_file))\n",
    "if not os.path.exists(current_directory):\n",
    "    os.makedirs(current_directory)\n",
    "\n",
    "# Validate URL column\n",
    "if 'url' not in df.columns:\n",
    "    raise ValueError(\"CSV must have a 'url' column.\")\n",
    "\n",
    "# Image download function\n",
    "def download_image(url, idx):\n",
    "    try:\n",
    "        response = requests.get(url, stream=True, timeout=10)\n",
    "        response.raise_for_status()  # Ensure a successful request\n",
    "        ext = os.path.splitext(url.split(\"?\")[0])[-1] if '.' in url else '.jpg'\n",
    "        file_name = f\"image_{idx + 1}{ext}\"\n",
    "        file_path = os.path.join(current_directory, file_name)\n",
    "        \n",
    "        with open(file_path, 'wb') as file:\n",
    "            for chunk in response.iter_content(chunk_size=1024):\n",
    "                file.write(chunk)\n",
    "        return f\"Downloaded: {file_name}\"\n",
    "    except Exception as e:\n",
    "        return f\"Error downloading {url}: {str(e)}\"\n",
    "\n",
    "# Download with multithreading\n",
    "urls = df['url'].dropna().tolist()\n",
    "with ThreadPoolExecutor(max_workers=20) as executor:\n",
    "    future_to_url = {executor.submit(download_image, url, idx): url for idx, url in enumerate(urls)}\n",
    "    for future in tqdm(as_completed(future_to_url), total=len(future_to_url), desc=\"Downloading images\"):\n",
    "        print(future.result())\n",
    "\n",
    "print(f\"Images saved in {current_directory}\")\n"
   ]
  },
  {
   "cell_type": "markdown",
   "id": "8e415c32-6f68-4d2d-b700-72bd3ac8470a",
   "metadata": {},
   "source": [
    "## Duplicate remover function"
   ]
  },
  {
   "cell_type": "code",
   "execution_count": 3,
   "id": "2479f0a8-6847-44dc-93af-4862b86106ef",
   "metadata": {
    "scrolled": true
   },
   "outputs": [
    {
     "name": "stdout",
     "output_type": "stream",
     "text": [
      "Duplicate found: C:/Users/ADMIN/Desktop/Flask site with local storage/image csv/out_of_packaging (Produce)\\image_111.jpg\n",
      "Duplicate found: C:/Users/ADMIN/Desktop/Flask site with local storage/image csv/out_of_packaging (Produce)\\image_118.png\n",
      "Duplicate found: C:/Users/ADMIN/Desktop/Flask site with local storage/image csv/out_of_packaging (Produce)\\image_12.jpg\n",
      "Duplicate found: C:/Users/ADMIN/Desktop/Flask site with local storage/image csv/out_of_packaging (Produce)\\image_160.jpg\n",
      "Duplicate found: C:/Users/ADMIN/Desktop/Flask site with local storage/image csv/out_of_packaging (Produce)\\image_171.jpg\n",
      "Duplicate found: C:/Users/ADMIN/Desktop/Flask site with local storage/image csv/out_of_packaging (Produce)\\image_182.jpg\n",
      "Duplicate found: C:/Users/ADMIN/Desktop/Flask site with local storage/image csv/out_of_packaging (Produce)\\image_183.jpg\n",
      "Duplicate found: C:/Users/ADMIN/Desktop/Flask site with local storage/image csv/out_of_packaging (Produce)\\image_195.jpeg\n",
      "Duplicate found: C:/Users/ADMIN/Desktop/Flask site with local storage/image csv/out_of_packaging (Produce)\\image_197.jpeg\n",
      "Duplicate found: C:/Users/ADMIN/Desktop/Flask site with local storage/image csv/out_of_packaging (Produce)\\image_198.jpeg\n",
      "Duplicate found: C:/Users/ADMIN/Desktop/Flask site with local storage/image csv/out_of_packaging (Produce)\\image_199.jpeg\n",
      "Duplicate found: C:/Users/ADMIN/Desktop/Flask site with local storage/image csv/out_of_packaging (Produce)\\image_200.jpeg\n",
      "Duplicate found: C:/Users/ADMIN/Desktop/Flask site with local storage/image csv/out_of_packaging (Produce)\\image_204.jpg\n",
      "Duplicate found: C:/Users/ADMIN/Desktop/Flask site with local storage/image csv/out_of_packaging (Produce)\\image_205.jpg\n",
      "Duplicate found: C:/Users/ADMIN/Desktop/Flask site with local storage/image csv/out_of_packaging (Produce)\\image_210.jpeg\n",
      "Duplicate found: C:/Users/ADMIN/Desktop/Flask site with local storage/image csv/out_of_packaging (Produce)\\image_219.png\n",
      "Duplicate found: C:/Users/ADMIN/Desktop/Flask site with local storage/image csv/out_of_packaging (Produce)\\image_222.jpg\n",
      "Duplicate found: C:/Users/ADMIN/Desktop/Flask site with local storage/image csv/out_of_packaging (Produce)\\image_223.jpg\n",
      "Duplicate found: C:/Users/ADMIN/Desktop/Flask site with local storage/image csv/out_of_packaging (Produce)\\image_225.png\n",
      "Duplicate found: C:/Users/ADMIN/Desktop/Flask site with local storage/image csv/out_of_packaging (Produce)\\image_227.jpg\n",
      "Duplicate found: C:/Users/ADMIN/Desktop/Flask site with local storage/image csv/out_of_packaging (Produce)\\image_228.jpg\n",
      "Duplicate found: C:/Users/ADMIN/Desktop/Flask site with local storage/image csv/out_of_packaging (Produce)\\image_232.jpeg\n",
      "Duplicate found: C:/Users/ADMIN/Desktop/Flask site with local storage/image csv/out_of_packaging (Produce)\\image_233.jpeg\n",
      "Duplicate found: C:/Users/ADMIN/Desktop/Flask site with local storage/image csv/out_of_packaging (Produce)\\image_236.jpg\n",
      "Duplicate found: C:/Users/ADMIN/Desktop/Flask site with local storage/image csv/out_of_packaging (Produce)\\image_237.jpg\n",
      "Duplicate found: C:/Users/ADMIN/Desktop/Flask site with local storage/image csv/out_of_packaging (Produce)\\image_239.jpg\n",
      "Duplicate found: C:/Users/ADMIN/Desktop/Flask site with local storage/image csv/out_of_packaging (Produce)\\image_241.jpeg\n",
      "Duplicate found: C:/Users/ADMIN/Desktop/Flask site with local storage/image csv/out_of_packaging (Produce)\\image_243.jpeg\n",
      "Duplicate found: C:/Users/ADMIN/Desktop/Flask site with local storage/image csv/out_of_packaging (Produce)\\image_247.jpg\n",
      "Duplicate found: C:/Users/ADMIN/Desktop/Flask site with local storage/image csv/out_of_packaging (Produce)\\image_248.jpg\n",
      "Duplicate found: C:/Users/ADMIN/Desktop/Flask site with local storage/image csv/out_of_packaging (Produce)\\image_251.jpg\n",
      "Duplicate found: C:/Users/ADMIN/Desktop/Flask site with local storage/image csv/out_of_packaging (Produce)\\image_252.jpeg\n",
      "Duplicate found: C:/Users/ADMIN/Desktop/Flask site with local storage/image csv/out_of_packaging (Produce)\\image_254.png\n",
      "Duplicate found: C:/Users/ADMIN/Desktop/Flask site with local storage/image csv/out_of_packaging (Produce)\\image_255.png\n",
      "Duplicate found: C:/Users/ADMIN/Desktop/Flask site with local storage/image csv/out_of_packaging (Produce)\\image_256.jpg\n",
      "Duplicate found: C:/Users/ADMIN/Desktop/Flask site with local storage/image csv/out_of_packaging (Produce)\\image_257.jpg\n",
      "Duplicate found: C:/Users/ADMIN/Desktop/Flask site with local storage/image csv/out_of_packaging (Produce)\\image_258.jpg\n",
      "Duplicate found: C:/Users/ADMIN/Desktop/Flask site with local storage/image csv/out_of_packaging (Produce)\\image_263.png\n",
      "Duplicate found: C:/Users/ADMIN/Desktop/Flask site with local storage/image csv/out_of_packaging (Produce)\\image_264.png\n",
      "Duplicate found: C:/Users/ADMIN/Desktop/Flask site with local storage/image csv/out_of_packaging (Produce)\\image_265.png\n",
      "Duplicate found: C:/Users/ADMIN/Desktop/Flask site with local storage/image csv/out_of_packaging (Produce)\\image_266.png\n",
      "Duplicate found: C:/Users/ADMIN/Desktop/Flask site with local storage/image csv/out_of_packaging (Produce)\\image_267.jpg\n",
      "Duplicate found: C:/Users/ADMIN/Desktop/Flask site with local storage/image csv/out_of_packaging (Produce)\\image_27.jpg\n",
      "Duplicate found: C:/Users/ADMIN/Desktop/Flask site with local storage/image csv/out_of_packaging (Produce)\\image_270.jpg\n",
      "Duplicate found: C:/Users/ADMIN/Desktop/Flask site with local storage/image csv/out_of_packaging (Produce)\\image_274.jpg\n",
      "Duplicate found: C:/Users/ADMIN/Desktop/Flask site with local storage/image csv/out_of_packaging (Produce)\\image_275.jpg\n",
      "Duplicate found: C:/Users/ADMIN/Desktop/Flask site with local storage/image csv/out_of_packaging (Produce)\\image_276.jpg\n",
      "Duplicate found: C:/Users/ADMIN/Desktop/Flask site with local storage/image csv/out_of_packaging (Produce)\\image_277.jpg\n",
      "Duplicate found: C:/Users/ADMIN/Desktop/Flask site with local storage/image csv/out_of_packaging (Produce)\\image_279.png\n",
      "Duplicate found: C:/Users/ADMIN/Desktop/Flask site with local storage/image csv/out_of_packaging (Produce)\\image_280.jpg\n",
      "Duplicate found: C:/Users/ADMIN/Desktop/Flask site with local storage/image csv/out_of_packaging (Produce)\\image_283.jpg\n",
      "Duplicate found: C:/Users/ADMIN/Desktop/Flask site with local storage/image csv/out_of_packaging (Produce)\\image_288.jpeg\n",
      "Duplicate found: C:/Users/ADMIN/Desktop/Flask site with local storage/image csv/out_of_packaging (Produce)\\image_290.jpeg\n",
      "Duplicate found: C:/Users/ADMIN/Desktop/Flask site with local storage/image csv/out_of_packaging (Produce)\\image_291.jpeg\n",
      "Duplicate found: C:/Users/ADMIN/Desktop/Flask site with local storage/image csv/out_of_packaging (Produce)\\image_292.jpeg\n",
      "Duplicate found: C:/Users/ADMIN/Desktop/Flask site with local storage/image csv/out_of_packaging (Produce)\\image_293.png\n",
      "Duplicate found: C:/Users/ADMIN/Desktop/Flask site with local storage/image csv/out_of_packaging (Produce)\\image_296.jpg\n",
      "Duplicate found: C:/Users/ADMIN/Desktop/Flask site with local storage/image csv/out_of_packaging (Produce)\\image_30.png\n",
      "Duplicate found: C:/Users/ADMIN/Desktop/Flask site with local storage/image csv/out_of_packaging (Produce)\\image_303.png\n",
      "Duplicate found: C:/Users/ADMIN/Desktop/Flask site with local storage/image csv/out_of_packaging (Produce)\\image_305.jpeg\n",
      "Duplicate found: C:/Users/ADMIN/Desktop/Flask site with local storage/image csv/out_of_packaging (Produce)\\image_306.png\n",
      "Duplicate found: C:/Users/ADMIN/Desktop/Flask site with local storage/image csv/out_of_packaging (Produce)\\image_308.jpg\n",
      "Duplicate found: C:/Users/ADMIN/Desktop/Flask site with local storage/image csv/out_of_packaging (Produce)\\image_309.png\n",
      "Duplicate found: C:/Users/ADMIN/Desktop/Flask site with local storage/image csv/out_of_packaging (Produce)\\image_310.jpg\n",
      "Duplicate found: C:/Users/ADMIN/Desktop/Flask site with local storage/image csv/out_of_packaging (Produce)\\image_312.jpg\n",
      "Duplicate found: C:/Users/ADMIN/Desktop/Flask site with local storage/image csv/out_of_packaging (Produce)\\image_313.jpg\n",
      "Duplicate found: C:/Users/ADMIN/Desktop/Flask site with local storage/image csv/out_of_packaging (Produce)\\image_314.jpg\n",
      "Duplicate found: C:/Users/ADMIN/Desktop/Flask site with local storage/image csv/out_of_packaging (Produce)\\image_315.jpg\n",
      "Duplicate found: C:/Users/ADMIN/Desktop/Flask site with local storage/image csv/out_of_packaging (Produce)\\image_316.jpg\n",
      "Duplicate found: C:/Users/ADMIN/Desktop/Flask site with local storage/image csv/out_of_packaging (Produce)\\image_317.jpg\n",
      "Duplicate found: C:/Users/ADMIN/Desktop/Flask site with local storage/image csv/out_of_packaging (Produce)\\image_318.jpg\n",
      "Duplicate found: C:/Users/ADMIN/Desktop/Flask site with local storage/image csv/out_of_packaging (Produce)\\image_319.jpg\n",
      "Duplicate found: C:/Users/ADMIN/Desktop/Flask site with local storage/image csv/out_of_packaging (Produce)\\image_320.jpg\n",
      "Duplicate found: C:/Users/ADMIN/Desktop/Flask site with local storage/image csv/out_of_packaging (Produce)\\image_321.jpg\n",
      "Duplicate found: C:/Users/ADMIN/Desktop/Flask site with local storage/image csv/out_of_packaging (Produce)\\image_322.jpg\n",
      "Duplicate found: C:/Users/ADMIN/Desktop/Flask site with local storage/image csv/out_of_packaging (Produce)\\image_323.jpg\n",
      "Duplicate found: C:/Users/ADMIN/Desktop/Flask site with local storage/image csv/out_of_packaging (Produce)\\image_324.jpg\n",
      "Duplicate found: C:/Users/ADMIN/Desktop/Flask site with local storage/image csv/out_of_packaging (Produce)\\image_325.jpg\n",
      "Duplicate found: C:/Users/ADMIN/Desktop/Flask site with local storage/image csv/out_of_packaging (Produce)\\image_328.jpeg\n",
      "Duplicate found: C:/Users/ADMIN/Desktop/Flask site with local storage/image csv/out_of_packaging (Produce)\\image_336.png\n",
      "Duplicate found: C:/Users/ADMIN/Desktop/Flask site with local storage/image csv/out_of_packaging (Produce)\\image_338.jpg\n",
      "Duplicate found: C:/Users/ADMIN/Desktop/Flask site with local storage/image csv/out_of_packaging (Produce)\\image_339.jpg\n",
      "Duplicate found: C:/Users/ADMIN/Desktop/Flask site with local storage/image csv/out_of_packaging (Produce)\\image_340.jpeg\n",
      "Duplicate found: C:/Users/ADMIN/Desktop/Flask site with local storage/image csv/out_of_packaging (Produce)\\image_341.jpg\n",
      "Duplicate found: C:/Users/ADMIN/Desktop/Flask site with local storage/image csv/out_of_packaging (Produce)\\image_342.jpg\n",
      "Duplicate found: C:/Users/ADMIN/Desktop/Flask site with local storage/image csv/out_of_packaging (Produce)\\image_345.jpg\n",
      "Duplicate found: C:/Users/ADMIN/Desktop/Flask site with local storage/image csv/out_of_packaging (Produce)\\image_348.jpeg\n",
      "Duplicate found: C:/Users/ADMIN/Desktop/Flask site with local storage/image csv/out_of_packaging (Produce)\\image_350.png\n",
      "Duplicate found: C:/Users/ADMIN/Desktop/Flask site with local storage/image csv/out_of_packaging (Produce)\\image_352.jpg\n",
      "Duplicate found: C:/Users/ADMIN/Desktop/Flask site with local storage/image csv/out_of_packaging (Produce)\\image_354.jpg\n",
      "Duplicate found: C:/Users/ADMIN/Desktop/Flask site with local storage/image csv/out_of_packaging (Produce)\\image_355.jpeg\n",
      "Duplicate found: C:/Users/ADMIN/Desktop/Flask site with local storage/image csv/out_of_packaging (Produce)\\image_356.jpg\n",
      "Duplicate found: C:/Users/ADMIN/Desktop/Flask site with local storage/image csv/out_of_packaging (Produce)\\image_357.jpg\n",
      "Duplicate found: C:/Users/ADMIN/Desktop/Flask site with local storage/image csv/out_of_packaging (Produce)\\image_358.jpg\n",
      "Duplicate found: C:/Users/ADMIN/Desktop/Flask site with local storage/image csv/out_of_packaging (Produce)\\image_36.jpg\n",
      "Duplicate found: C:/Users/ADMIN/Desktop/Flask site with local storage/image csv/out_of_packaging (Produce)\\image_360.jpg\n",
      "Duplicate found: C:/Users/ADMIN/Desktop/Flask site with local storage/image csv/out_of_packaging (Produce)\\image_361.jpg\n",
      "Duplicate found: C:/Users/ADMIN/Desktop/Flask site with local storage/image csv/out_of_packaging (Produce)\\image_365.jpg\n",
      "Duplicate found: C:/Users/ADMIN/Desktop/Flask site with local storage/image csv/out_of_packaging (Produce)\\image_377.jpg\n",
      "Duplicate found: C:/Users/ADMIN/Desktop/Flask site with local storage/image csv/out_of_packaging (Produce)\\image_378.jpg\n",
      "Duplicate found: C:/Users/ADMIN/Desktop/Flask site with local storage/image csv/out_of_packaging (Produce)\\image_382.jpeg\n",
      "Duplicate found: C:/Users/ADMIN/Desktop/Flask site with local storage/image csv/out_of_packaging (Produce)\\image_385.jpeg\n",
      "Duplicate found: C:/Users/ADMIN/Desktop/Flask site with local storage/image csv/out_of_packaging (Produce)\\image_386.png\n",
      "Duplicate found: C:/Users/ADMIN/Desktop/Flask site with local storage/image csv/out_of_packaging (Produce)\\image_388.jpg\n",
      "Duplicate found: C:/Users/ADMIN/Desktop/Flask site with local storage/image csv/out_of_packaging (Produce)\\image_39.jpg\n",
      "Duplicate found: C:/Users/ADMIN/Desktop/Flask site with local storage/image csv/out_of_packaging (Produce)\\image_391.jpeg\n",
      "Duplicate found: C:/Users/ADMIN/Desktop/Flask site with local storage/image csv/out_of_packaging (Produce)\\image_392.jpg\n",
      "Duplicate found: C:/Users/ADMIN/Desktop/Flask site with local storage/image csv/out_of_packaging (Produce)\\image_394.png\n",
      "Duplicate found: C:/Users/ADMIN/Desktop/Flask site with local storage/image csv/out_of_packaging (Produce)\\image_396.png\n",
      "Duplicate found: C:/Users/ADMIN/Desktop/Flask site with local storage/image csv/out_of_packaging (Produce)\\image_398.jpg\n",
      "Duplicate found: C:/Users/ADMIN/Desktop/Flask site with local storage/image csv/out_of_packaging (Produce)\\image_4.jpg\n",
      "Duplicate found: C:/Users/ADMIN/Desktop/Flask site with local storage/image csv/out_of_packaging (Produce)\\image_402.jpg\n",
      "Duplicate found: C:/Users/ADMIN/Desktop/Flask site with local storage/image csv/out_of_packaging (Produce)\\image_403.jpg\n",
      "Duplicate found: C:/Users/ADMIN/Desktop/Flask site with local storage/image csv/out_of_packaging (Produce)\\image_408.png\n",
      "Duplicate found: C:/Users/ADMIN/Desktop/Flask site with local storage/image csv/out_of_packaging (Produce)\\image_409.jpg\n",
      "Duplicate found: C:/Users/ADMIN/Desktop/Flask site with local storage/image csv/out_of_packaging (Produce)\\image_411.jpg\n",
      "Duplicate found: C:/Users/ADMIN/Desktop/Flask site with local storage/image csv/out_of_packaging (Produce)\\image_412.jpg\n",
      "Duplicate found: C:/Users/ADMIN/Desktop/Flask site with local storage/image csv/out_of_packaging (Produce)\\image_414.jpeg\n",
      "Duplicate found: C:/Users/ADMIN/Desktop/Flask site with local storage/image csv/out_of_packaging (Produce)\\image_418.jpg\n",
      "Duplicate found: C:/Users/ADMIN/Desktop/Flask site with local storage/image csv/out_of_packaging (Produce)\\image_42.jpg\n",
      "Duplicate found: C:/Users/ADMIN/Desktop/Flask site with local storage/image csv/out_of_packaging (Produce)\\image_422.jpg\n",
      "Duplicate found: C:/Users/ADMIN/Desktop/Flask site with local storage/image csv/out_of_packaging (Produce)\\image_425.png\n",
      "Duplicate found: C:/Users/ADMIN/Desktop/Flask site with local storage/image csv/out_of_packaging (Produce)\\image_427.jpg\n",
      "Duplicate found: C:/Users/ADMIN/Desktop/Flask site with local storage/image csv/out_of_packaging (Produce)\\image_429.jpeg\n",
      "Duplicate found: C:/Users/ADMIN/Desktop/Flask site with local storage/image csv/out_of_packaging (Produce)\\image_430.jpg\n",
      "Duplicate found: C:/Users/ADMIN/Desktop/Flask site with local storage/image csv/out_of_packaging (Produce)\\image_431.jpg\n",
      "Duplicate found: C:/Users/ADMIN/Desktop/Flask site with local storage/image csv/out_of_packaging (Produce)\\image_435.jpg\n",
      "Duplicate found: C:/Users/ADMIN/Desktop/Flask site with local storage/image csv/out_of_packaging (Produce)\\image_438.jpg\n",
      "Duplicate found: C:/Users/ADMIN/Desktop/Flask site with local storage/image csv/out_of_packaging (Produce)\\image_441.jpeg\n",
      "Duplicate found: C:/Users/ADMIN/Desktop/Flask site with local storage/image csv/out_of_packaging (Produce)\\image_443.jpg\n",
      "Duplicate found: C:/Users/ADMIN/Desktop/Flask site with local storage/image csv/out_of_packaging (Produce)\\image_444.jpg\n",
      "Duplicate found: C:/Users/ADMIN/Desktop/Flask site with local storage/image csv/out_of_packaging (Produce)\\image_447.jpg\n",
      "Duplicate found: C:/Users/ADMIN/Desktop/Flask site with local storage/image csv/out_of_packaging (Produce)\\image_449.jpg\n",
      "Duplicate found: C:/Users/ADMIN/Desktop/Flask site with local storage/image csv/out_of_packaging (Produce)\\image_454.png\n",
      "Duplicate found: C:/Users/ADMIN/Desktop/Flask site with local storage/image csv/out_of_packaging (Produce)\\image_455.jpeg\n",
      "Duplicate found: C:/Users/ADMIN/Desktop/Flask site with local storage/image csv/out_of_packaging (Produce)\\image_457.png\n",
      "Duplicate found: C:/Users/ADMIN/Desktop/Flask site with local storage/image csv/out_of_packaging (Produce)\\image_459.jpg\n",
      "Duplicate found: C:/Users/ADMIN/Desktop/Flask site with local storage/image csv/out_of_packaging (Produce)\\image_460.jpg\n",
      "Duplicate found: C:/Users/ADMIN/Desktop/Flask site with local storage/image csv/out_of_packaging (Produce)\\image_462.jpg\n",
      "Duplicate found: C:/Users/ADMIN/Desktop/Flask site with local storage/image csv/out_of_packaging (Produce)\\image_463.png\n",
      "Duplicate found: C:/Users/ADMIN/Desktop/Flask site with local storage/image csv/out_of_packaging (Produce)\\image_467.jpg\n",
      "Duplicate found: C:/Users/ADMIN/Desktop/Flask site with local storage/image csv/out_of_packaging (Produce)\\image_468.jpg\n",
      "Duplicate found: C:/Users/ADMIN/Desktop/Flask site with local storage/image csv/out_of_packaging (Produce)\\image_469.jpg\n",
      "Duplicate found: C:/Users/ADMIN/Desktop/Flask site with local storage/image csv/out_of_packaging (Produce)\\image_47.jpg\n",
      "Duplicate found: C:/Users/ADMIN/Desktop/Flask site with local storage/image csv/out_of_packaging (Produce)\\image_477.jpg\n",
      "Duplicate found: C:/Users/ADMIN/Desktop/Flask site with local storage/image csv/out_of_packaging (Produce)\\image_487.jpg\n",
      "Duplicate found: C:/Users/ADMIN/Desktop/Flask site with local storage/image csv/out_of_packaging (Produce)\\image_491.jpg\n",
      "Duplicate found: C:/Users/ADMIN/Desktop/Flask site with local storage/image csv/out_of_packaging (Produce)\\image_492.jpg\n",
      "Duplicate found: C:/Users/ADMIN/Desktop/Flask site with local storage/image csv/out_of_packaging (Produce)\\image_494.jpg\n",
      "Duplicate found: C:/Users/ADMIN/Desktop/Flask site with local storage/image csv/out_of_packaging (Produce)\\image_495.png\n",
      "Duplicate found: C:/Users/ADMIN/Desktop/Flask site with local storage/image csv/out_of_packaging (Produce)\\image_497.jpg\n",
      "Duplicate found: C:/Users/ADMIN/Desktop/Flask site with local storage/image csv/out_of_packaging (Produce)\\image_498.jpeg\n",
      "Duplicate found: C:/Users/ADMIN/Desktop/Flask site with local storage/image csv/out_of_packaging (Produce)\\image_50.png\n",
      "Duplicate found: C:/Users/ADMIN/Desktop/Flask site with local storage/image csv/out_of_packaging (Produce)\\image_505.jpg\n",
      "Duplicate found: C:/Users/ADMIN/Desktop/Flask site with local storage/image csv/out_of_packaging (Produce)\\image_517.jpeg\n",
      "Duplicate found: C:/Users/ADMIN/Desktop/Flask site with local storage/image csv/out_of_packaging (Produce)\\image_52.jpg\n",
      "Duplicate found: C:/Users/ADMIN/Desktop/Flask site with local storage/image csv/out_of_packaging (Produce)\\image_529.webp\n",
      "Duplicate found: C:/Users/ADMIN/Desktop/Flask site with local storage/image csv/out_of_packaging (Produce)\\image_539.png\n",
      "Duplicate found: C:/Users/ADMIN/Desktop/Flask site with local storage/image csv/out_of_packaging (Produce)\\image_540.png\n",
      "Duplicate found: C:/Users/ADMIN/Desktop/Flask site with local storage/image csv/out_of_packaging (Produce)\\image_548.png\n",
      "Duplicate found: C:/Users/ADMIN/Desktop/Flask site with local storage/image csv/out_of_packaging (Produce)\\image_552.png\n",
      "Duplicate found: C:/Users/ADMIN/Desktop/Flask site with local storage/image csv/out_of_packaging (Produce)\\image_558.jpg\n",
      "Duplicate found: C:/Users/ADMIN/Desktop/Flask site with local storage/image csv/out_of_packaging (Produce)\\image_561.jpg\n",
      "Duplicate found: C:/Users/ADMIN/Desktop/Flask site with local storage/image csv/out_of_packaging (Produce)\\image_566.jpg\n",
      "Duplicate found: C:/Users/ADMIN/Desktop/Flask site with local storage/image csv/out_of_packaging (Produce)\\image_568.png\n",
      "Duplicate found: C:/Users/ADMIN/Desktop/Flask site with local storage/image csv/out_of_packaging (Produce)\\image_570.png\n",
      "Duplicate found: C:/Users/ADMIN/Desktop/Flask site with local storage/image csv/out_of_packaging (Produce)\\image_571.png\n",
      "Duplicate found: C:/Users/ADMIN/Desktop/Flask site with local storage/image csv/out_of_packaging (Produce)\\image_572.png\n",
      "Duplicate found: C:/Users/ADMIN/Desktop/Flask site with local storage/image csv/out_of_packaging (Produce)\\image_576.png\n",
      "Duplicate found: C:/Users/ADMIN/Desktop/Flask site with local storage/image csv/out_of_packaging (Produce)\\image_577.png\n",
      "Duplicate found: C:/Users/ADMIN/Desktop/Flask site with local storage/image csv/out_of_packaging (Produce)\\image_579.jpg\n",
      "Duplicate found: C:/Users/ADMIN/Desktop/Flask site with local storage/image csv/out_of_packaging (Produce)\\image_583.jpg\n",
      "Duplicate found: C:/Users/ADMIN/Desktop/Flask site with local storage/image csv/out_of_packaging (Produce)\\image_584.jpg\n",
      "Duplicate found: C:/Users/ADMIN/Desktop/Flask site with local storage/image csv/out_of_packaging (Produce)\\image_585.png\n",
      "Duplicate found: C:/Users/ADMIN/Desktop/Flask site with local storage/image csv/out_of_packaging (Produce)\\image_587.png\n",
      "Duplicate found: C:/Users/ADMIN/Desktop/Flask site with local storage/image csv/out_of_packaging (Produce)\\image_588.jpg\n",
      "Duplicate found: C:/Users/ADMIN/Desktop/Flask site with local storage/image csv/out_of_packaging (Produce)\\image_595.png\n",
      "Duplicate found: C:/Users/ADMIN/Desktop/Flask site with local storage/image csv/out_of_packaging (Produce)\\image_602.jpg\n",
      "Duplicate found: C:/Users/ADMIN/Desktop/Flask site with local storage/image csv/out_of_packaging (Produce)\\image_612.jpg\n",
      "Duplicate found: C:/Users/ADMIN/Desktop/Flask site with local storage/image csv/out_of_packaging (Produce)\\image_616.png\n",
      "Duplicate found: C:/Users/ADMIN/Desktop/Flask site with local storage/image csv/out_of_packaging (Produce)\\image_618.png\n",
      "Duplicate found: C:/Users/ADMIN/Desktop/Flask site with local storage/image csv/out_of_packaging (Produce)\\image_620.png\n",
      "Duplicate found: C:/Users/ADMIN/Desktop/Flask site with local storage/image csv/out_of_packaging (Produce)\\image_621.png\n",
      "Duplicate found: C:/Users/ADMIN/Desktop/Flask site with local storage/image csv/out_of_packaging (Produce)\\image_625.jpeg\n",
      "Duplicate found: C:/Users/ADMIN/Desktop/Flask site with local storage/image csv/out_of_packaging (Produce)\\image_628.jpg\n",
      "Duplicate found: C:/Users/ADMIN/Desktop/Flask site with local storage/image csv/out_of_packaging (Produce)\\image_629.jpg\n",
      "Duplicate found: C:/Users/ADMIN/Desktop/Flask site with local storage/image csv/out_of_packaging (Produce)\\image_63.jpg\n",
      "Duplicate found: C:/Users/ADMIN/Desktop/Flask site with local storage/image csv/out_of_packaging (Produce)\\image_630.jpg\n",
      "Duplicate found: C:/Users/ADMIN/Desktop/Flask site with local storage/image csv/out_of_packaging (Produce)\\image_634.png\n",
      "Duplicate found: C:/Users/ADMIN/Desktop/Flask site with local storage/image csv/out_of_packaging (Produce)\\image_635.png\n",
      "Duplicate found: C:/Users/ADMIN/Desktop/Flask site with local storage/image csv/out_of_packaging (Produce)\\image_636.png\n",
      "Duplicate found: C:/Users/ADMIN/Desktop/Flask site with local storage/image csv/out_of_packaging (Produce)\\image_637.png\n",
      "Duplicate found: C:/Users/ADMIN/Desktop/Flask site with local storage/image csv/out_of_packaging (Produce)\\image_638.png\n",
      "Duplicate found: C:/Users/ADMIN/Desktop/Flask site with local storage/image csv/out_of_packaging (Produce)\\image_639.png\n",
      "Duplicate found: C:/Users/ADMIN/Desktop/Flask site with local storage/image csv/out_of_packaging (Produce)\\image_646.jpg\n",
      "Duplicate found: C:/Users/ADMIN/Desktop/Flask site with local storage/image csv/out_of_packaging (Produce)\\image_651.jpg\n",
      "Duplicate found: C:/Users/ADMIN/Desktop/Flask site with local storage/image csv/out_of_packaging (Produce)\\image_654.jpg\n",
      "Duplicate found: C:/Users/ADMIN/Desktop/Flask site with local storage/image csv/out_of_packaging (Produce)\\image_655.jpg\n",
      "Duplicate found: C:/Users/ADMIN/Desktop/Flask site with local storage/image csv/out_of_packaging (Produce)\\image_656.png\n",
      "Duplicate found: C:/Users/ADMIN/Desktop/Flask site with local storage/image csv/out_of_packaging (Produce)\\image_657.png\n",
      "Duplicate found: C:/Users/ADMIN/Desktop/Flask site with local storage/image csv/out_of_packaging (Produce)\\image_662.png\n",
      "Duplicate found: C:/Users/ADMIN/Desktop/Flask site with local storage/image csv/out_of_packaging (Produce)\\image_663.png\n",
      "Duplicate found: C:/Users/ADMIN/Desktop/Flask site with local storage/image csv/out_of_packaging (Produce)\\image_664.jpg\n",
      "Duplicate found: C:/Users/ADMIN/Desktop/Flask site with local storage/image csv/out_of_packaging (Produce)\\image_668.jpg\n",
      "Duplicate found: C:/Users/ADMIN/Desktop/Flask site with local storage/image csv/out_of_packaging (Produce)\\image_67.jpg\n",
      "Duplicate found: C:/Users/ADMIN/Desktop/Flask site with local storage/image csv/out_of_packaging (Produce)\\image_672.jpg\n",
      "Duplicate found: C:/Users/ADMIN/Desktop/Flask site with local storage/image csv/out_of_packaging (Produce)\\image_678.jpg\n",
      "Duplicate found: C:/Users/ADMIN/Desktop/Flask site with local storage/image csv/out_of_packaging (Produce)\\image_680.jpg\n",
      "Duplicate found: C:/Users/ADMIN/Desktop/Flask site with local storage/image csv/out_of_packaging (Produce)\\image_681.png\n",
      "Duplicate found: C:/Users/ADMIN/Desktop/Flask site with local storage/image csv/out_of_packaging (Produce)\\image_685.jpeg\n",
      "Duplicate found: C:/Users/ADMIN/Desktop/Flask site with local storage/image csv/out_of_packaging (Produce)\\image_689.png\n",
      "Duplicate found: C:/Users/ADMIN/Desktop/Flask site with local storage/image csv/out_of_packaging (Produce)\\image_690.jpg\n",
      "Duplicate found: C:/Users/ADMIN/Desktop/Flask site with local storage/image csv/out_of_packaging (Produce)\\image_693.jpg\n",
      "Duplicate found: C:/Users/ADMIN/Desktop/Flask site with local storage/image csv/out_of_packaging (Produce)\\image_694.png\n",
      "Duplicate found: C:/Users/ADMIN/Desktop/Flask site with local storage/image csv/out_of_packaging (Produce)\\image_696.jpeg\n",
      "Duplicate found: C:/Users/ADMIN/Desktop/Flask site with local storage/image csv/out_of_packaging (Produce)\\image_699.png\n",
      "Duplicate found: C:/Users/ADMIN/Desktop/Flask site with local storage/image csv/out_of_packaging (Produce)\\image_700.jpg\n",
      "Duplicate found: C:/Users/ADMIN/Desktop/Flask site with local storage/image csv/out_of_packaging (Produce)\\image_704.png\n",
      "Duplicate found: C:/Users/ADMIN/Desktop/Flask site with local storage/image csv/out_of_packaging (Produce)\\image_705.png\n",
      "Duplicate found: C:/Users/ADMIN/Desktop/Flask site with local storage/image csv/out_of_packaging (Produce)\\image_706.jpg\n",
      "Duplicate found: C:/Users/ADMIN/Desktop/Flask site with local storage/image csv/out_of_packaging (Produce)\\image_707.jpg\n",
      "Duplicate found: C:/Users/ADMIN/Desktop/Flask site with local storage/image csv/out_of_packaging (Produce)\\image_709.jpg\n",
      "Duplicate found: C:/Users/ADMIN/Desktop/Flask site with local storage/image csv/out_of_packaging (Produce)\\image_71.jpg\n",
      "Duplicate found: C:/Users/ADMIN/Desktop/Flask site with local storage/image csv/out_of_packaging (Produce)\\image_710.jpg\n",
      "Duplicate found: C:/Users/ADMIN/Desktop/Flask site with local storage/image csv/out_of_packaging (Produce)\\image_712.jpg\n",
      "Duplicate found: C:/Users/ADMIN/Desktop/Flask site with local storage/image csv/out_of_packaging (Produce)\\image_716.jpg\n",
      "Duplicate found: C:/Users/ADMIN/Desktop/Flask site with local storage/image csv/out_of_packaging (Produce)\\image_718.png\n",
      "Duplicate found: C:/Users/ADMIN/Desktop/Flask site with local storage/image csv/out_of_packaging (Produce)\\image_72.jpeg\n",
      "Duplicate found: C:/Users/ADMIN/Desktop/Flask site with local storage/image csv/out_of_packaging (Produce)\\image_720.jpg\n",
      "Duplicate found: C:/Users/ADMIN/Desktop/Flask site with local storage/image csv/out_of_packaging (Produce)\\image_722.jpg\n",
      "Duplicate found: C:/Users/ADMIN/Desktop/Flask site with local storage/image csv/out_of_packaging (Produce)\\image_725.jpg\n",
      "Duplicate found: C:/Users/ADMIN/Desktop/Flask site with local storage/image csv/out_of_packaging (Produce)\\image_726.png\n",
      "Duplicate found: C:/Users/ADMIN/Desktop/Flask site with local storage/image csv/out_of_packaging (Produce)\\image_727.jpg\n",
      "Duplicate found: C:/Users/ADMIN/Desktop/Flask site with local storage/image csv/out_of_packaging (Produce)\\image_730.jpg\n",
      "Duplicate found: C:/Users/ADMIN/Desktop/Flask site with local storage/image csv/out_of_packaging (Produce)\\image_736.jpeg\n",
      "Duplicate found: C:/Users/ADMIN/Desktop/Flask site with local storage/image csv/out_of_packaging (Produce)\\image_737.jpg\n",
      "Duplicate found: C:/Users/ADMIN/Desktop/Flask site with local storage/image csv/out_of_packaging (Produce)\\image_738.png\n",
      "Duplicate found: C:/Users/ADMIN/Desktop/Flask site with local storage/image csv/out_of_packaging (Produce)\\image_743.jpg\n",
      "Duplicate found: C:/Users/ADMIN/Desktop/Flask site with local storage/image csv/out_of_packaging (Produce)\\image_745.jpg\n",
      "Duplicate found: C:/Users/ADMIN/Desktop/Flask site with local storage/image csv/out_of_packaging (Produce)\\image_747.jpg\n",
      "Duplicate found: C:/Users/ADMIN/Desktop/Flask site with local storage/image csv/out_of_packaging (Produce)\\image_748.png\n",
      "Duplicate found: C:/Users/ADMIN/Desktop/Flask site with local storage/image csv/out_of_packaging (Produce)\\image_753.png\n",
      "Duplicate found: C:/Users/ADMIN/Desktop/Flask site with local storage/image csv/out_of_packaging (Produce)\\image_756.png\n",
      "Duplicate found: C:/Users/ADMIN/Desktop/Flask site with local storage/image csv/out_of_packaging (Produce)\\image_757.jpeg\n",
      "Duplicate found: C:/Users/ADMIN/Desktop/Flask site with local storage/image csv/out_of_packaging (Produce)\\image_76.jpg\n",
      "Duplicate found: C:/Users/ADMIN/Desktop/Flask site with local storage/image csv/out_of_packaging (Produce)\\image_769.jpg\n",
      "Duplicate found: C:/Users/ADMIN/Desktop/Flask site with local storage/image csv/out_of_packaging (Produce)\\image_776.png\n",
      "Duplicate found: C:/Users/ADMIN/Desktop/Flask site with local storage/image csv/out_of_packaging (Produce)\\image_779.jpg\n",
      "Duplicate found: C:/Users/ADMIN/Desktop/Flask site with local storage/image csv/out_of_packaging (Produce)\\image_780.jpg\n",
      "Duplicate found: C:/Users/ADMIN/Desktop/Flask site with local storage/image csv/out_of_packaging (Produce)\\image_781.jpg\n",
      "Duplicate found: C:/Users/ADMIN/Desktop/Flask site with local storage/image csv/out_of_packaging (Produce)\\image_782.png\n",
      "Duplicate found: C:/Users/ADMIN/Desktop/Flask site with local storage/image csv/out_of_packaging (Produce)\\image_783.png\n",
      "Duplicate found: C:/Users/ADMIN/Desktop/Flask site with local storage/image csv/out_of_packaging (Produce)\\image_788.png\n",
      "Duplicate found: C:/Users/ADMIN/Desktop/Flask site with local storage/image csv/out_of_packaging (Produce)\\image_790.png\n",
      "Duplicate found: C:/Users/ADMIN/Desktop/Flask site with local storage/image csv/out_of_packaging (Produce)\\image_795.jpg\n",
      "Duplicate found: C:/Users/ADMIN/Desktop/Flask site with local storage/image csv/out_of_packaging (Produce)\\image_798.png\n",
      "Duplicate found: C:/Users/ADMIN/Desktop/Flask site with local storage/image csv/out_of_packaging (Produce)\\image_80.jpeg\n",
      "Duplicate found: C:/Users/ADMIN/Desktop/Flask site with local storage/image csv/out_of_packaging (Produce)\\image_805.png\n",
      "Duplicate found: C:/Users/ADMIN/Desktop/Flask site with local storage/image csv/out_of_packaging (Produce)\\image_810.jpg\n",
      "Duplicate found: C:/Users/ADMIN/Desktop/Flask site with local storage/image csv/out_of_packaging (Produce)\\image_812.jpg\n",
      "Duplicate found: C:/Users/ADMIN/Desktop/Flask site with local storage/image csv/out_of_packaging (Produce)\\image_814.jpg\n",
      "Duplicate found: C:/Users/ADMIN/Desktop/Flask site with local storage/image csv/out_of_packaging (Produce)\\image_815.png\n",
      "Duplicate found: C:/Users/ADMIN/Desktop/Flask site with local storage/image csv/out_of_packaging (Produce)\\image_816.jpg\n",
      "Duplicate found: C:/Users/ADMIN/Desktop/Flask site with local storage/image csv/out_of_packaging (Produce)\\image_817.png\n",
      "Duplicate found: C:/Users/ADMIN/Desktop/Flask site with local storage/image csv/out_of_packaging (Produce)\\image_821.jpg\n",
      "Duplicate found: C:/Users/ADMIN/Desktop/Flask site with local storage/image csv/out_of_packaging (Produce)\\image_824.png\n",
      "Duplicate found: C:/Users/ADMIN/Desktop/Flask site with local storage/image csv/out_of_packaging (Produce)\\image_825.jpg\n",
      "Duplicate found: C:/Users/ADMIN/Desktop/Flask site with local storage/image csv/out_of_packaging (Produce)\\image_829.png\n",
      "Duplicate found: C:/Users/ADMIN/Desktop/Flask site with local storage/image csv/out_of_packaging (Produce)\\image_831.jpg\n",
      "Duplicate found: C:/Users/ADMIN/Desktop/Flask site with local storage/image csv/out_of_packaging (Produce)\\image_835.jpeg\n",
      "Duplicate found: C:/Users/ADMIN/Desktop/Flask site with local storage/image csv/out_of_packaging (Produce)\\image_837.jpeg\n",
      "Duplicate found: C:/Users/ADMIN/Desktop/Flask site with local storage/image csv/out_of_packaging (Produce)\\image_846.jpg\n",
      "Duplicate found: C:/Users/ADMIN/Desktop/Flask site with local storage/image csv/out_of_packaging (Produce)\\image_848.jpg\n",
      "Duplicate found: C:/Users/ADMIN/Desktop/Flask site with local storage/image csv/out_of_packaging (Produce)\\image_85.jpg\n",
      "Duplicate found: C:/Users/ADMIN/Desktop/Flask site with local storage/image csv/out_of_packaging (Produce)\\image_853.jpg\n",
      "Duplicate found: C:/Users/ADMIN/Desktop/Flask site with local storage/image csv/out_of_packaging (Produce)\\image_856.jpg\n",
      "Duplicate found: C:/Users/ADMIN/Desktop/Flask site with local storage/image csv/out_of_packaging (Produce)\\image_860.jpg\n",
      "Duplicate found: C:/Users/ADMIN/Desktop/Flask site with local storage/image csv/out_of_packaging (Produce)\\image_868.jpg\n",
      "Duplicate found: C:/Users/ADMIN/Desktop/Flask site with local storage/image csv/out_of_packaging (Produce)\\image_871.png\n",
      "Duplicate found: C:/Users/ADMIN/Desktop/Flask site with local storage/image csv/out_of_packaging (Produce)\\image_872.jpg\n",
      "Duplicate found: C:/Users/ADMIN/Desktop/Flask site with local storage/image csv/out_of_packaging (Produce)\\image_875.png\n",
      "Duplicate found: C:/Users/ADMIN/Desktop/Flask site with local storage/image csv/out_of_packaging (Produce)\\image_880.jpg\n",
      "Duplicate found: C:/Users/ADMIN/Desktop/Flask site with local storage/image csv/out_of_packaging (Produce)\\image_884.webp\n",
      "Duplicate found: C:/Users/ADMIN/Desktop/Flask site with local storage/image csv/out_of_packaging (Produce)\\image_885.webp\n",
      "Duplicate found: C:/Users/ADMIN/Desktop/Flask site with local storage/image csv/out_of_packaging (Produce)\\image_89.jpg\n",
      "Duplicate found: C:/Users/ADMIN/Desktop/Flask site with local storage/image csv/out_of_packaging (Produce)\\image_890.webp\n",
      "Duplicate found: C:/Users/ADMIN/Desktop/Flask site with local storage/image csv/out_of_packaging (Produce)\\image_891.webp\n",
      "Duplicate found: C:/Users/ADMIN/Desktop/Flask site with local storage/image csv/out_of_packaging (Produce)\\image_892.webp\n",
      "Duplicate found: C:/Users/ADMIN/Desktop/Flask site with local storage/image csv/out_of_packaging (Produce)\\image_896.png\n",
      "Duplicate found: C:/Users/ADMIN/Desktop/Flask site with local storage/image csv/out_of_packaging (Produce)\\image_897.jpg\n",
      "Duplicate found: C:/Users/ADMIN/Desktop/Flask site with local storage/image csv/out_of_packaging (Produce)\\image_902.jpg\n",
      "Duplicate found: C:/Users/ADMIN/Desktop/Flask site with local storage/image csv/out_of_packaging (Produce)\\image_907.jpg\n",
      "Duplicate found: C:/Users/ADMIN/Desktop/Flask site with local storage/image csv/out_of_packaging (Produce)\\image_909.jpg\n",
      "Duplicate found: C:/Users/ADMIN/Desktop/Flask site with local storage/image csv/out_of_packaging (Produce)\\image_917.jpg\n",
      "Duplicate found: C:/Users/ADMIN/Desktop/Flask site with local storage/image csv/out_of_packaging (Produce)\\image_918.jpg\n",
      "Duplicate found: C:/Users/ADMIN/Desktop/Flask site with local storage/image csv/out_of_packaging (Produce)\\image_920.jpg\n",
      "Duplicate found: C:/Users/ADMIN/Desktop/Flask site with local storage/image csv/out_of_packaging (Produce)\\image_923.jpg\n",
      "Duplicate found: C:/Users/ADMIN/Desktop/Flask site with local storage/image csv/out_of_packaging (Produce)\\image_93.jpg\n",
      "Duplicate found: C:/Users/ADMIN/Desktop/Flask site with local storage/image csv/out_of_packaging (Produce)\\image_935.jpg\n",
      "Duplicate found: C:/Users/ADMIN/Desktop/Flask site with local storage/image csv/out_of_packaging (Produce)\\image_94.jpg\n",
      "Duplicate found: C:/Users/ADMIN/Desktop/Flask site with local storage/image csv/out_of_packaging (Produce)\\image_95.jpeg\n",
      "Duplicate found: C:/Users/ADMIN/Desktop/Flask site with local storage/image csv/out_of_packaging (Produce)\\image_97.jpg\n",
      "Duplicate found: C:/Users/ADMIN/Desktop/Flask site with local storage/image csv/out_of_packaging (Produce)\\image_98.jpg\n",
      "Deleted: C:/Users/ADMIN/Desktop/Flask site with local storage/image csv/out_of_packaging (Produce)\\image_111.jpg\n",
      "Deleted: C:/Users/ADMIN/Desktop/Flask site with local storage/image csv/out_of_packaging (Produce)\\image_118.png\n",
      "Deleted: C:/Users/ADMIN/Desktop/Flask site with local storage/image csv/out_of_packaging (Produce)\\image_12.jpg\n",
      "Deleted: C:/Users/ADMIN/Desktop/Flask site with local storage/image csv/out_of_packaging (Produce)\\image_160.jpg\n",
      "Deleted: C:/Users/ADMIN/Desktop/Flask site with local storage/image csv/out_of_packaging (Produce)\\image_171.jpg\n",
      "Deleted: C:/Users/ADMIN/Desktop/Flask site with local storage/image csv/out_of_packaging (Produce)\\image_182.jpg\n",
      "Deleted: C:/Users/ADMIN/Desktop/Flask site with local storage/image csv/out_of_packaging (Produce)\\image_183.jpg\n",
      "Deleted: C:/Users/ADMIN/Desktop/Flask site with local storage/image csv/out_of_packaging (Produce)\\image_195.jpeg\n",
      "Deleted: C:/Users/ADMIN/Desktop/Flask site with local storage/image csv/out_of_packaging (Produce)\\image_197.jpeg\n",
      "Deleted: C:/Users/ADMIN/Desktop/Flask site with local storage/image csv/out_of_packaging (Produce)\\image_198.jpeg\n",
      "Deleted: C:/Users/ADMIN/Desktop/Flask site with local storage/image csv/out_of_packaging (Produce)\\image_199.jpeg\n",
      "Deleted: C:/Users/ADMIN/Desktop/Flask site with local storage/image csv/out_of_packaging (Produce)\\image_200.jpeg\n",
      "Deleted: C:/Users/ADMIN/Desktop/Flask site with local storage/image csv/out_of_packaging (Produce)\\image_204.jpg\n",
      "Deleted: C:/Users/ADMIN/Desktop/Flask site with local storage/image csv/out_of_packaging (Produce)\\image_205.jpg\n",
      "Deleted: C:/Users/ADMIN/Desktop/Flask site with local storage/image csv/out_of_packaging (Produce)\\image_210.jpeg\n",
      "Deleted: C:/Users/ADMIN/Desktop/Flask site with local storage/image csv/out_of_packaging (Produce)\\image_219.png\n",
      "Deleted: C:/Users/ADMIN/Desktop/Flask site with local storage/image csv/out_of_packaging (Produce)\\image_222.jpg\n",
      "Deleted: C:/Users/ADMIN/Desktop/Flask site with local storage/image csv/out_of_packaging (Produce)\\image_223.jpg\n",
      "Deleted: C:/Users/ADMIN/Desktop/Flask site with local storage/image csv/out_of_packaging (Produce)\\image_225.png\n",
      "Deleted: C:/Users/ADMIN/Desktop/Flask site with local storage/image csv/out_of_packaging (Produce)\\image_227.jpg\n",
      "Deleted: C:/Users/ADMIN/Desktop/Flask site with local storage/image csv/out_of_packaging (Produce)\\image_228.jpg\n",
      "Deleted: C:/Users/ADMIN/Desktop/Flask site with local storage/image csv/out_of_packaging (Produce)\\image_232.jpeg\n",
      "Deleted: C:/Users/ADMIN/Desktop/Flask site with local storage/image csv/out_of_packaging (Produce)\\image_233.jpeg\n",
      "Deleted: C:/Users/ADMIN/Desktop/Flask site with local storage/image csv/out_of_packaging (Produce)\\image_236.jpg\n",
      "Deleted: C:/Users/ADMIN/Desktop/Flask site with local storage/image csv/out_of_packaging (Produce)\\image_237.jpg\n",
      "Deleted: C:/Users/ADMIN/Desktop/Flask site with local storage/image csv/out_of_packaging (Produce)\\image_239.jpg\n",
      "Deleted: C:/Users/ADMIN/Desktop/Flask site with local storage/image csv/out_of_packaging (Produce)\\image_241.jpeg\n",
      "Deleted: C:/Users/ADMIN/Desktop/Flask site with local storage/image csv/out_of_packaging (Produce)\\image_243.jpeg\n",
      "Deleted: C:/Users/ADMIN/Desktop/Flask site with local storage/image csv/out_of_packaging (Produce)\\image_247.jpg\n",
      "Deleted: C:/Users/ADMIN/Desktop/Flask site with local storage/image csv/out_of_packaging (Produce)\\image_248.jpg\n",
      "Deleted: C:/Users/ADMIN/Desktop/Flask site with local storage/image csv/out_of_packaging (Produce)\\image_251.jpg\n",
      "Deleted: C:/Users/ADMIN/Desktop/Flask site with local storage/image csv/out_of_packaging (Produce)\\image_252.jpeg\n",
      "Deleted: C:/Users/ADMIN/Desktop/Flask site with local storage/image csv/out_of_packaging (Produce)\\image_254.png\n",
      "Deleted: C:/Users/ADMIN/Desktop/Flask site with local storage/image csv/out_of_packaging (Produce)\\image_255.png\n",
      "Deleted: C:/Users/ADMIN/Desktop/Flask site with local storage/image csv/out_of_packaging (Produce)\\image_256.jpg\n",
      "Deleted: C:/Users/ADMIN/Desktop/Flask site with local storage/image csv/out_of_packaging (Produce)\\image_257.jpg\n",
      "Deleted: C:/Users/ADMIN/Desktop/Flask site with local storage/image csv/out_of_packaging (Produce)\\image_258.jpg\n",
      "Deleted: C:/Users/ADMIN/Desktop/Flask site with local storage/image csv/out_of_packaging (Produce)\\image_263.png\n",
      "Deleted: C:/Users/ADMIN/Desktop/Flask site with local storage/image csv/out_of_packaging (Produce)\\image_264.png\n",
      "Deleted: C:/Users/ADMIN/Desktop/Flask site with local storage/image csv/out_of_packaging (Produce)\\image_265.png\n",
      "Deleted: C:/Users/ADMIN/Desktop/Flask site with local storage/image csv/out_of_packaging (Produce)\\image_266.png\n",
      "Deleted: C:/Users/ADMIN/Desktop/Flask site with local storage/image csv/out_of_packaging (Produce)\\image_267.jpg\n",
      "Deleted: C:/Users/ADMIN/Desktop/Flask site with local storage/image csv/out_of_packaging (Produce)\\image_27.jpg\n",
      "Deleted: C:/Users/ADMIN/Desktop/Flask site with local storage/image csv/out_of_packaging (Produce)\\image_270.jpg\n",
      "Deleted: C:/Users/ADMIN/Desktop/Flask site with local storage/image csv/out_of_packaging (Produce)\\image_274.jpg\n",
      "Deleted: C:/Users/ADMIN/Desktop/Flask site with local storage/image csv/out_of_packaging (Produce)\\image_275.jpg\n",
      "Deleted: C:/Users/ADMIN/Desktop/Flask site with local storage/image csv/out_of_packaging (Produce)\\image_276.jpg\n",
      "Deleted: C:/Users/ADMIN/Desktop/Flask site with local storage/image csv/out_of_packaging (Produce)\\image_277.jpg\n",
      "Deleted: C:/Users/ADMIN/Desktop/Flask site with local storage/image csv/out_of_packaging (Produce)\\image_279.png\n",
      "Deleted: C:/Users/ADMIN/Desktop/Flask site with local storage/image csv/out_of_packaging (Produce)\\image_280.jpg\n",
      "Deleted: C:/Users/ADMIN/Desktop/Flask site with local storage/image csv/out_of_packaging (Produce)\\image_283.jpg\n",
      "Deleted: C:/Users/ADMIN/Desktop/Flask site with local storage/image csv/out_of_packaging (Produce)\\image_288.jpeg\n",
      "Deleted: C:/Users/ADMIN/Desktop/Flask site with local storage/image csv/out_of_packaging (Produce)\\image_290.jpeg\n",
      "Deleted: C:/Users/ADMIN/Desktop/Flask site with local storage/image csv/out_of_packaging (Produce)\\image_291.jpeg\n",
      "Deleted: C:/Users/ADMIN/Desktop/Flask site with local storage/image csv/out_of_packaging (Produce)\\image_292.jpeg\n",
      "Deleted: C:/Users/ADMIN/Desktop/Flask site with local storage/image csv/out_of_packaging (Produce)\\image_293.png\n",
      "Deleted: C:/Users/ADMIN/Desktop/Flask site with local storage/image csv/out_of_packaging (Produce)\\image_296.jpg\n",
      "Deleted: C:/Users/ADMIN/Desktop/Flask site with local storage/image csv/out_of_packaging (Produce)\\image_30.png\n",
      "Deleted: C:/Users/ADMIN/Desktop/Flask site with local storage/image csv/out_of_packaging (Produce)\\image_303.png\n",
      "Deleted: C:/Users/ADMIN/Desktop/Flask site with local storage/image csv/out_of_packaging (Produce)\\image_305.jpeg\n",
      "Deleted: C:/Users/ADMIN/Desktop/Flask site with local storage/image csv/out_of_packaging (Produce)\\image_306.png\n",
      "Deleted: C:/Users/ADMIN/Desktop/Flask site with local storage/image csv/out_of_packaging (Produce)\\image_308.jpg\n",
      "Deleted: C:/Users/ADMIN/Desktop/Flask site with local storage/image csv/out_of_packaging (Produce)\\image_309.png\n",
      "Deleted: C:/Users/ADMIN/Desktop/Flask site with local storage/image csv/out_of_packaging (Produce)\\image_310.jpg\n",
      "Deleted: C:/Users/ADMIN/Desktop/Flask site with local storage/image csv/out_of_packaging (Produce)\\image_312.jpg\n",
      "Deleted: C:/Users/ADMIN/Desktop/Flask site with local storage/image csv/out_of_packaging (Produce)\\image_313.jpg\n",
      "Deleted: C:/Users/ADMIN/Desktop/Flask site with local storage/image csv/out_of_packaging (Produce)\\image_314.jpg\n",
      "Deleted: C:/Users/ADMIN/Desktop/Flask site with local storage/image csv/out_of_packaging (Produce)\\image_315.jpg\n",
      "Deleted: C:/Users/ADMIN/Desktop/Flask site with local storage/image csv/out_of_packaging (Produce)\\image_316.jpg\n",
      "Deleted: C:/Users/ADMIN/Desktop/Flask site with local storage/image csv/out_of_packaging (Produce)\\image_317.jpg\n",
      "Deleted: C:/Users/ADMIN/Desktop/Flask site with local storage/image csv/out_of_packaging (Produce)\\image_318.jpg\n",
      "Deleted: C:/Users/ADMIN/Desktop/Flask site with local storage/image csv/out_of_packaging (Produce)\\image_319.jpg\n",
      "Deleted: C:/Users/ADMIN/Desktop/Flask site with local storage/image csv/out_of_packaging (Produce)\\image_320.jpg\n",
      "Deleted: C:/Users/ADMIN/Desktop/Flask site with local storage/image csv/out_of_packaging (Produce)\\image_321.jpg\n",
      "Deleted: C:/Users/ADMIN/Desktop/Flask site with local storage/image csv/out_of_packaging (Produce)\\image_322.jpg\n",
      "Deleted: C:/Users/ADMIN/Desktop/Flask site with local storage/image csv/out_of_packaging (Produce)\\image_323.jpg\n",
      "Deleted: C:/Users/ADMIN/Desktop/Flask site with local storage/image csv/out_of_packaging (Produce)\\image_324.jpg\n",
      "Deleted: C:/Users/ADMIN/Desktop/Flask site with local storage/image csv/out_of_packaging (Produce)\\image_325.jpg\n",
      "Deleted: C:/Users/ADMIN/Desktop/Flask site with local storage/image csv/out_of_packaging (Produce)\\image_328.jpeg\n",
      "Deleted: C:/Users/ADMIN/Desktop/Flask site with local storage/image csv/out_of_packaging (Produce)\\image_336.png\n",
      "Deleted: C:/Users/ADMIN/Desktop/Flask site with local storage/image csv/out_of_packaging (Produce)\\image_338.jpg\n",
      "Deleted: C:/Users/ADMIN/Desktop/Flask site with local storage/image csv/out_of_packaging (Produce)\\image_339.jpg\n",
      "Deleted: C:/Users/ADMIN/Desktop/Flask site with local storage/image csv/out_of_packaging (Produce)\\image_340.jpeg\n",
      "Deleted: C:/Users/ADMIN/Desktop/Flask site with local storage/image csv/out_of_packaging (Produce)\\image_341.jpg\n",
      "Deleted: C:/Users/ADMIN/Desktop/Flask site with local storage/image csv/out_of_packaging (Produce)\\image_342.jpg\n",
      "Deleted: C:/Users/ADMIN/Desktop/Flask site with local storage/image csv/out_of_packaging (Produce)\\image_345.jpg\n",
      "Deleted: C:/Users/ADMIN/Desktop/Flask site with local storage/image csv/out_of_packaging (Produce)\\image_348.jpeg\n",
      "Deleted: C:/Users/ADMIN/Desktop/Flask site with local storage/image csv/out_of_packaging (Produce)\\image_350.png\n",
      "Deleted: C:/Users/ADMIN/Desktop/Flask site with local storage/image csv/out_of_packaging (Produce)\\image_352.jpg\n",
      "Deleted: C:/Users/ADMIN/Desktop/Flask site with local storage/image csv/out_of_packaging (Produce)\\image_354.jpg\n",
      "Deleted: C:/Users/ADMIN/Desktop/Flask site with local storage/image csv/out_of_packaging (Produce)\\image_355.jpeg\n",
      "Deleted: C:/Users/ADMIN/Desktop/Flask site with local storage/image csv/out_of_packaging (Produce)\\image_356.jpg\n",
      "Deleted: C:/Users/ADMIN/Desktop/Flask site with local storage/image csv/out_of_packaging (Produce)\\image_357.jpg\n",
      "Deleted: C:/Users/ADMIN/Desktop/Flask site with local storage/image csv/out_of_packaging (Produce)\\image_358.jpg\n",
      "Deleted: C:/Users/ADMIN/Desktop/Flask site with local storage/image csv/out_of_packaging (Produce)\\image_36.jpg\n",
      "Deleted: C:/Users/ADMIN/Desktop/Flask site with local storage/image csv/out_of_packaging (Produce)\\image_360.jpg\n",
      "Deleted: C:/Users/ADMIN/Desktop/Flask site with local storage/image csv/out_of_packaging (Produce)\\image_361.jpg\n",
      "Deleted: C:/Users/ADMIN/Desktop/Flask site with local storage/image csv/out_of_packaging (Produce)\\image_365.jpg\n",
      "Deleted: C:/Users/ADMIN/Desktop/Flask site with local storage/image csv/out_of_packaging (Produce)\\image_377.jpg\n",
      "Deleted: C:/Users/ADMIN/Desktop/Flask site with local storage/image csv/out_of_packaging (Produce)\\image_378.jpg\n",
      "Deleted: C:/Users/ADMIN/Desktop/Flask site with local storage/image csv/out_of_packaging (Produce)\\image_382.jpeg\n",
      "Deleted: C:/Users/ADMIN/Desktop/Flask site with local storage/image csv/out_of_packaging (Produce)\\image_385.jpeg\n",
      "Deleted: C:/Users/ADMIN/Desktop/Flask site with local storage/image csv/out_of_packaging (Produce)\\image_386.png\n",
      "Deleted: C:/Users/ADMIN/Desktop/Flask site with local storage/image csv/out_of_packaging (Produce)\\image_388.jpg\n",
      "Deleted: C:/Users/ADMIN/Desktop/Flask site with local storage/image csv/out_of_packaging (Produce)\\image_39.jpg\n",
      "Deleted: C:/Users/ADMIN/Desktop/Flask site with local storage/image csv/out_of_packaging (Produce)\\image_391.jpeg\n",
      "Deleted: C:/Users/ADMIN/Desktop/Flask site with local storage/image csv/out_of_packaging (Produce)\\image_392.jpg\n",
      "Deleted: C:/Users/ADMIN/Desktop/Flask site with local storage/image csv/out_of_packaging (Produce)\\image_394.png\n",
      "Deleted: C:/Users/ADMIN/Desktop/Flask site with local storage/image csv/out_of_packaging (Produce)\\image_396.png\n",
      "Deleted: C:/Users/ADMIN/Desktop/Flask site with local storage/image csv/out_of_packaging (Produce)\\image_398.jpg\n",
      "Deleted: C:/Users/ADMIN/Desktop/Flask site with local storage/image csv/out_of_packaging (Produce)\\image_4.jpg\n",
      "Deleted: C:/Users/ADMIN/Desktop/Flask site with local storage/image csv/out_of_packaging (Produce)\\image_402.jpg\n",
      "Deleted: C:/Users/ADMIN/Desktop/Flask site with local storage/image csv/out_of_packaging (Produce)\\image_403.jpg\n",
      "Deleted: C:/Users/ADMIN/Desktop/Flask site with local storage/image csv/out_of_packaging (Produce)\\image_408.png\n",
      "Deleted: C:/Users/ADMIN/Desktop/Flask site with local storage/image csv/out_of_packaging (Produce)\\image_409.jpg\n",
      "Deleted: C:/Users/ADMIN/Desktop/Flask site with local storage/image csv/out_of_packaging (Produce)\\image_411.jpg\n",
      "Deleted: C:/Users/ADMIN/Desktop/Flask site with local storage/image csv/out_of_packaging (Produce)\\image_412.jpg\n",
      "Deleted: C:/Users/ADMIN/Desktop/Flask site with local storage/image csv/out_of_packaging (Produce)\\image_414.jpeg\n",
      "Deleted: C:/Users/ADMIN/Desktop/Flask site with local storage/image csv/out_of_packaging (Produce)\\image_418.jpg\n",
      "Deleted: C:/Users/ADMIN/Desktop/Flask site with local storage/image csv/out_of_packaging (Produce)\\image_42.jpg\n",
      "Deleted: C:/Users/ADMIN/Desktop/Flask site with local storage/image csv/out_of_packaging (Produce)\\image_422.jpg\n",
      "Deleted: C:/Users/ADMIN/Desktop/Flask site with local storage/image csv/out_of_packaging (Produce)\\image_425.png\n",
      "Deleted: C:/Users/ADMIN/Desktop/Flask site with local storage/image csv/out_of_packaging (Produce)\\image_427.jpg\n",
      "Deleted: C:/Users/ADMIN/Desktop/Flask site with local storage/image csv/out_of_packaging (Produce)\\image_429.jpeg\n",
      "Deleted: C:/Users/ADMIN/Desktop/Flask site with local storage/image csv/out_of_packaging (Produce)\\image_430.jpg\n",
      "Deleted: C:/Users/ADMIN/Desktop/Flask site with local storage/image csv/out_of_packaging (Produce)\\image_431.jpg\n",
      "Deleted: C:/Users/ADMIN/Desktop/Flask site with local storage/image csv/out_of_packaging (Produce)\\image_435.jpg\n",
      "Deleted: C:/Users/ADMIN/Desktop/Flask site with local storage/image csv/out_of_packaging (Produce)\\image_438.jpg\n",
      "Deleted: C:/Users/ADMIN/Desktop/Flask site with local storage/image csv/out_of_packaging (Produce)\\image_441.jpeg\n",
      "Deleted: C:/Users/ADMIN/Desktop/Flask site with local storage/image csv/out_of_packaging (Produce)\\image_443.jpg\n",
      "Deleted: C:/Users/ADMIN/Desktop/Flask site with local storage/image csv/out_of_packaging (Produce)\\image_444.jpg\n",
      "Deleted: C:/Users/ADMIN/Desktop/Flask site with local storage/image csv/out_of_packaging (Produce)\\image_447.jpg\n",
      "Deleted: C:/Users/ADMIN/Desktop/Flask site with local storage/image csv/out_of_packaging (Produce)\\image_449.jpg\n",
      "Deleted: C:/Users/ADMIN/Desktop/Flask site with local storage/image csv/out_of_packaging (Produce)\\image_454.png\n",
      "Deleted: C:/Users/ADMIN/Desktop/Flask site with local storage/image csv/out_of_packaging (Produce)\\image_455.jpeg\n",
      "Deleted: C:/Users/ADMIN/Desktop/Flask site with local storage/image csv/out_of_packaging (Produce)\\image_457.png\n",
      "Deleted: C:/Users/ADMIN/Desktop/Flask site with local storage/image csv/out_of_packaging (Produce)\\image_459.jpg\n",
      "Deleted: C:/Users/ADMIN/Desktop/Flask site with local storage/image csv/out_of_packaging (Produce)\\image_460.jpg\n",
      "Deleted: C:/Users/ADMIN/Desktop/Flask site with local storage/image csv/out_of_packaging (Produce)\\image_462.jpg\n",
      "Deleted: C:/Users/ADMIN/Desktop/Flask site with local storage/image csv/out_of_packaging (Produce)\\image_463.png\n",
      "Deleted: C:/Users/ADMIN/Desktop/Flask site with local storage/image csv/out_of_packaging (Produce)\\image_467.jpg\n",
      "Deleted: C:/Users/ADMIN/Desktop/Flask site with local storage/image csv/out_of_packaging (Produce)\\image_468.jpg\n",
      "Deleted: C:/Users/ADMIN/Desktop/Flask site with local storage/image csv/out_of_packaging (Produce)\\image_469.jpg\n",
      "Deleted: C:/Users/ADMIN/Desktop/Flask site with local storage/image csv/out_of_packaging (Produce)\\image_47.jpg\n",
      "Deleted: C:/Users/ADMIN/Desktop/Flask site with local storage/image csv/out_of_packaging (Produce)\\image_477.jpg\n",
      "Deleted: C:/Users/ADMIN/Desktop/Flask site with local storage/image csv/out_of_packaging (Produce)\\image_487.jpg\n",
      "Deleted: C:/Users/ADMIN/Desktop/Flask site with local storage/image csv/out_of_packaging (Produce)\\image_491.jpg\n",
      "Deleted: C:/Users/ADMIN/Desktop/Flask site with local storage/image csv/out_of_packaging (Produce)\\image_492.jpg\n",
      "Deleted: C:/Users/ADMIN/Desktop/Flask site with local storage/image csv/out_of_packaging (Produce)\\image_494.jpg\n",
      "Deleted: C:/Users/ADMIN/Desktop/Flask site with local storage/image csv/out_of_packaging (Produce)\\image_495.png\n",
      "Deleted: C:/Users/ADMIN/Desktop/Flask site with local storage/image csv/out_of_packaging (Produce)\\image_497.jpg\n",
      "Deleted: C:/Users/ADMIN/Desktop/Flask site with local storage/image csv/out_of_packaging (Produce)\\image_498.jpeg\n",
      "Deleted: C:/Users/ADMIN/Desktop/Flask site with local storage/image csv/out_of_packaging (Produce)\\image_50.png\n",
      "Deleted: C:/Users/ADMIN/Desktop/Flask site with local storage/image csv/out_of_packaging (Produce)\\image_505.jpg\n",
      "Deleted: C:/Users/ADMIN/Desktop/Flask site with local storage/image csv/out_of_packaging (Produce)\\image_517.jpeg\n",
      "Deleted: C:/Users/ADMIN/Desktop/Flask site with local storage/image csv/out_of_packaging (Produce)\\image_52.jpg\n",
      "Deleted: C:/Users/ADMIN/Desktop/Flask site with local storage/image csv/out_of_packaging (Produce)\\image_529.webp\n",
      "Deleted: C:/Users/ADMIN/Desktop/Flask site with local storage/image csv/out_of_packaging (Produce)\\image_539.png\n",
      "Deleted: C:/Users/ADMIN/Desktop/Flask site with local storage/image csv/out_of_packaging (Produce)\\image_540.png\n",
      "Deleted: C:/Users/ADMIN/Desktop/Flask site with local storage/image csv/out_of_packaging (Produce)\\image_548.png\n",
      "Deleted: C:/Users/ADMIN/Desktop/Flask site with local storage/image csv/out_of_packaging (Produce)\\image_552.png\n",
      "Deleted: C:/Users/ADMIN/Desktop/Flask site with local storage/image csv/out_of_packaging (Produce)\\image_558.jpg\n",
      "Deleted: C:/Users/ADMIN/Desktop/Flask site with local storage/image csv/out_of_packaging (Produce)\\image_561.jpg\n",
      "Deleted: C:/Users/ADMIN/Desktop/Flask site with local storage/image csv/out_of_packaging (Produce)\\image_566.jpg\n",
      "Deleted: C:/Users/ADMIN/Desktop/Flask site with local storage/image csv/out_of_packaging (Produce)\\image_568.png\n",
      "Deleted: C:/Users/ADMIN/Desktop/Flask site with local storage/image csv/out_of_packaging (Produce)\\image_570.png\n",
      "Deleted: C:/Users/ADMIN/Desktop/Flask site with local storage/image csv/out_of_packaging (Produce)\\image_571.png\n",
      "Deleted: C:/Users/ADMIN/Desktop/Flask site with local storage/image csv/out_of_packaging (Produce)\\image_572.png\n",
      "Deleted: C:/Users/ADMIN/Desktop/Flask site with local storage/image csv/out_of_packaging (Produce)\\image_576.png\n",
      "Deleted: C:/Users/ADMIN/Desktop/Flask site with local storage/image csv/out_of_packaging (Produce)\\image_577.png\n",
      "Deleted: C:/Users/ADMIN/Desktop/Flask site with local storage/image csv/out_of_packaging (Produce)\\image_579.jpg\n",
      "Deleted: C:/Users/ADMIN/Desktop/Flask site with local storage/image csv/out_of_packaging (Produce)\\image_583.jpg\n",
      "Deleted: C:/Users/ADMIN/Desktop/Flask site with local storage/image csv/out_of_packaging (Produce)\\image_584.jpg\n",
      "Deleted: C:/Users/ADMIN/Desktop/Flask site with local storage/image csv/out_of_packaging (Produce)\\image_585.png\n",
      "Deleted: C:/Users/ADMIN/Desktop/Flask site with local storage/image csv/out_of_packaging (Produce)\\image_587.png\n",
      "Deleted: C:/Users/ADMIN/Desktop/Flask site with local storage/image csv/out_of_packaging (Produce)\\image_588.jpg\n",
      "Deleted: C:/Users/ADMIN/Desktop/Flask site with local storage/image csv/out_of_packaging (Produce)\\image_595.png\n",
      "Deleted: C:/Users/ADMIN/Desktop/Flask site with local storage/image csv/out_of_packaging (Produce)\\image_602.jpg\n",
      "Deleted: C:/Users/ADMIN/Desktop/Flask site with local storage/image csv/out_of_packaging (Produce)\\image_612.jpg\n",
      "Deleted: C:/Users/ADMIN/Desktop/Flask site with local storage/image csv/out_of_packaging (Produce)\\image_616.png\n",
      "Deleted: C:/Users/ADMIN/Desktop/Flask site with local storage/image csv/out_of_packaging (Produce)\\image_618.png\n",
      "Deleted: C:/Users/ADMIN/Desktop/Flask site with local storage/image csv/out_of_packaging (Produce)\\image_620.png\n",
      "Deleted: C:/Users/ADMIN/Desktop/Flask site with local storage/image csv/out_of_packaging (Produce)\\image_621.png\n",
      "Deleted: C:/Users/ADMIN/Desktop/Flask site with local storage/image csv/out_of_packaging (Produce)\\image_625.jpeg\n",
      "Deleted: C:/Users/ADMIN/Desktop/Flask site with local storage/image csv/out_of_packaging (Produce)\\image_628.jpg\n",
      "Deleted: C:/Users/ADMIN/Desktop/Flask site with local storage/image csv/out_of_packaging (Produce)\\image_629.jpg\n",
      "Deleted: C:/Users/ADMIN/Desktop/Flask site with local storage/image csv/out_of_packaging (Produce)\\image_63.jpg\n",
      "Deleted: C:/Users/ADMIN/Desktop/Flask site with local storage/image csv/out_of_packaging (Produce)\\image_630.jpg\n",
      "Deleted: C:/Users/ADMIN/Desktop/Flask site with local storage/image csv/out_of_packaging (Produce)\\image_634.png\n",
      "Deleted: C:/Users/ADMIN/Desktop/Flask site with local storage/image csv/out_of_packaging (Produce)\\image_635.png\n",
      "Deleted: C:/Users/ADMIN/Desktop/Flask site with local storage/image csv/out_of_packaging (Produce)\\image_636.png\n",
      "Deleted: C:/Users/ADMIN/Desktop/Flask site with local storage/image csv/out_of_packaging (Produce)\\image_637.png\n",
      "Deleted: C:/Users/ADMIN/Desktop/Flask site with local storage/image csv/out_of_packaging (Produce)\\image_638.png\n",
      "Deleted: C:/Users/ADMIN/Desktop/Flask site with local storage/image csv/out_of_packaging (Produce)\\image_639.png\n",
      "Deleted: C:/Users/ADMIN/Desktop/Flask site with local storage/image csv/out_of_packaging (Produce)\\image_646.jpg\n",
      "Deleted: C:/Users/ADMIN/Desktop/Flask site with local storage/image csv/out_of_packaging (Produce)\\image_651.jpg\n",
      "Deleted: C:/Users/ADMIN/Desktop/Flask site with local storage/image csv/out_of_packaging (Produce)\\image_654.jpg\n",
      "Deleted: C:/Users/ADMIN/Desktop/Flask site with local storage/image csv/out_of_packaging (Produce)\\image_655.jpg\n",
      "Deleted: C:/Users/ADMIN/Desktop/Flask site with local storage/image csv/out_of_packaging (Produce)\\image_656.png\n",
      "Deleted: C:/Users/ADMIN/Desktop/Flask site with local storage/image csv/out_of_packaging (Produce)\\image_657.png\n",
      "Deleted: C:/Users/ADMIN/Desktop/Flask site with local storage/image csv/out_of_packaging (Produce)\\image_662.png\n",
      "Deleted: C:/Users/ADMIN/Desktop/Flask site with local storage/image csv/out_of_packaging (Produce)\\image_663.png\n",
      "Deleted: C:/Users/ADMIN/Desktop/Flask site with local storage/image csv/out_of_packaging (Produce)\\image_664.jpg\n",
      "Deleted: C:/Users/ADMIN/Desktop/Flask site with local storage/image csv/out_of_packaging (Produce)\\image_668.jpg\n",
      "Deleted: C:/Users/ADMIN/Desktop/Flask site with local storage/image csv/out_of_packaging (Produce)\\image_67.jpg\n",
      "Deleted: C:/Users/ADMIN/Desktop/Flask site with local storage/image csv/out_of_packaging (Produce)\\image_672.jpg\n",
      "Deleted: C:/Users/ADMIN/Desktop/Flask site with local storage/image csv/out_of_packaging (Produce)\\image_678.jpg\n",
      "Deleted: C:/Users/ADMIN/Desktop/Flask site with local storage/image csv/out_of_packaging (Produce)\\image_680.jpg\n",
      "Deleted: C:/Users/ADMIN/Desktop/Flask site with local storage/image csv/out_of_packaging (Produce)\\image_681.png\n",
      "Deleted: C:/Users/ADMIN/Desktop/Flask site with local storage/image csv/out_of_packaging (Produce)\\image_685.jpeg\n",
      "Deleted: C:/Users/ADMIN/Desktop/Flask site with local storage/image csv/out_of_packaging (Produce)\\image_689.png\n",
      "Deleted: C:/Users/ADMIN/Desktop/Flask site with local storage/image csv/out_of_packaging (Produce)\\image_690.jpg\n",
      "Deleted: C:/Users/ADMIN/Desktop/Flask site with local storage/image csv/out_of_packaging (Produce)\\image_693.jpg\n",
      "Deleted: C:/Users/ADMIN/Desktop/Flask site with local storage/image csv/out_of_packaging (Produce)\\image_694.png\n",
      "Deleted: C:/Users/ADMIN/Desktop/Flask site with local storage/image csv/out_of_packaging (Produce)\\image_696.jpeg\n",
      "Deleted: C:/Users/ADMIN/Desktop/Flask site with local storage/image csv/out_of_packaging (Produce)\\image_699.png\n",
      "Deleted: C:/Users/ADMIN/Desktop/Flask site with local storage/image csv/out_of_packaging (Produce)\\image_700.jpg\n",
      "Deleted: C:/Users/ADMIN/Desktop/Flask site with local storage/image csv/out_of_packaging (Produce)\\image_704.png\n",
      "Deleted: C:/Users/ADMIN/Desktop/Flask site with local storage/image csv/out_of_packaging (Produce)\\image_705.png\n",
      "Deleted: C:/Users/ADMIN/Desktop/Flask site with local storage/image csv/out_of_packaging (Produce)\\image_706.jpg\n",
      "Deleted: C:/Users/ADMIN/Desktop/Flask site with local storage/image csv/out_of_packaging (Produce)\\image_707.jpg\n",
      "Deleted: C:/Users/ADMIN/Desktop/Flask site with local storage/image csv/out_of_packaging (Produce)\\image_709.jpg\n",
      "Deleted: C:/Users/ADMIN/Desktop/Flask site with local storage/image csv/out_of_packaging (Produce)\\image_71.jpg\n",
      "Deleted: C:/Users/ADMIN/Desktop/Flask site with local storage/image csv/out_of_packaging (Produce)\\image_710.jpg\n",
      "Deleted: C:/Users/ADMIN/Desktop/Flask site with local storage/image csv/out_of_packaging (Produce)\\image_712.jpg\n",
      "Deleted: C:/Users/ADMIN/Desktop/Flask site with local storage/image csv/out_of_packaging (Produce)\\image_716.jpg\n",
      "Deleted: C:/Users/ADMIN/Desktop/Flask site with local storage/image csv/out_of_packaging (Produce)\\image_718.png\n",
      "Deleted: C:/Users/ADMIN/Desktop/Flask site with local storage/image csv/out_of_packaging (Produce)\\image_72.jpeg\n",
      "Deleted: C:/Users/ADMIN/Desktop/Flask site with local storage/image csv/out_of_packaging (Produce)\\image_720.jpg\n",
      "Deleted: C:/Users/ADMIN/Desktop/Flask site with local storage/image csv/out_of_packaging (Produce)\\image_722.jpg\n",
      "Deleted: C:/Users/ADMIN/Desktop/Flask site with local storage/image csv/out_of_packaging (Produce)\\image_725.jpg\n",
      "Deleted: C:/Users/ADMIN/Desktop/Flask site with local storage/image csv/out_of_packaging (Produce)\\image_726.png\n",
      "Deleted: C:/Users/ADMIN/Desktop/Flask site with local storage/image csv/out_of_packaging (Produce)\\image_727.jpg\n",
      "Deleted: C:/Users/ADMIN/Desktop/Flask site with local storage/image csv/out_of_packaging (Produce)\\image_730.jpg\n",
      "Deleted: C:/Users/ADMIN/Desktop/Flask site with local storage/image csv/out_of_packaging (Produce)\\image_736.jpeg\n",
      "Deleted: C:/Users/ADMIN/Desktop/Flask site with local storage/image csv/out_of_packaging (Produce)\\image_737.jpg\n",
      "Deleted: C:/Users/ADMIN/Desktop/Flask site with local storage/image csv/out_of_packaging (Produce)\\image_738.png\n",
      "Deleted: C:/Users/ADMIN/Desktop/Flask site with local storage/image csv/out_of_packaging (Produce)\\image_743.jpg\n",
      "Deleted: C:/Users/ADMIN/Desktop/Flask site with local storage/image csv/out_of_packaging (Produce)\\image_745.jpg\n",
      "Deleted: C:/Users/ADMIN/Desktop/Flask site with local storage/image csv/out_of_packaging (Produce)\\image_747.jpg\n",
      "Deleted: C:/Users/ADMIN/Desktop/Flask site with local storage/image csv/out_of_packaging (Produce)\\image_748.png\n",
      "Deleted: C:/Users/ADMIN/Desktop/Flask site with local storage/image csv/out_of_packaging (Produce)\\image_753.png\n",
      "Deleted: C:/Users/ADMIN/Desktop/Flask site with local storage/image csv/out_of_packaging (Produce)\\image_756.png\n",
      "Deleted: C:/Users/ADMIN/Desktop/Flask site with local storage/image csv/out_of_packaging (Produce)\\image_757.jpeg\n",
      "Deleted: C:/Users/ADMIN/Desktop/Flask site with local storage/image csv/out_of_packaging (Produce)\\image_76.jpg\n",
      "Deleted: C:/Users/ADMIN/Desktop/Flask site with local storage/image csv/out_of_packaging (Produce)\\image_769.jpg\n",
      "Deleted: C:/Users/ADMIN/Desktop/Flask site with local storage/image csv/out_of_packaging (Produce)\\image_776.png\n",
      "Deleted: C:/Users/ADMIN/Desktop/Flask site with local storage/image csv/out_of_packaging (Produce)\\image_779.jpg\n",
      "Deleted: C:/Users/ADMIN/Desktop/Flask site with local storage/image csv/out_of_packaging (Produce)\\image_780.jpg\n",
      "Deleted: C:/Users/ADMIN/Desktop/Flask site with local storage/image csv/out_of_packaging (Produce)\\image_781.jpg\n",
      "Deleted: C:/Users/ADMIN/Desktop/Flask site with local storage/image csv/out_of_packaging (Produce)\\image_782.png\n",
      "Deleted: C:/Users/ADMIN/Desktop/Flask site with local storage/image csv/out_of_packaging (Produce)\\image_783.png\n",
      "Deleted: C:/Users/ADMIN/Desktop/Flask site with local storage/image csv/out_of_packaging (Produce)\\image_788.png\n",
      "Deleted: C:/Users/ADMIN/Desktop/Flask site with local storage/image csv/out_of_packaging (Produce)\\image_790.png\n",
      "Deleted: C:/Users/ADMIN/Desktop/Flask site with local storage/image csv/out_of_packaging (Produce)\\image_795.jpg\n",
      "Deleted: C:/Users/ADMIN/Desktop/Flask site with local storage/image csv/out_of_packaging (Produce)\\image_798.png\n",
      "Deleted: C:/Users/ADMIN/Desktop/Flask site with local storage/image csv/out_of_packaging (Produce)\\image_80.jpeg\n",
      "Deleted: C:/Users/ADMIN/Desktop/Flask site with local storage/image csv/out_of_packaging (Produce)\\image_805.png\n",
      "Deleted: C:/Users/ADMIN/Desktop/Flask site with local storage/image csv/out_of_packaging (Produce)\\image_810.jpg\n",
      "Deleted: C:/Users/ADMIN/Desktop/Flask site with local storage/image csv/out_of_packaging (Produce)\\image_812.jpg\n",
      "Deleted: C:/Users/ADMIN/Desktop/Flask site with local storage/image csv/out_of_packaging (Produce)\\image_814.jpg\n",
      "Deleted: C:/Users/ADMIN/Desktop/Flask site with local storage/image csv/out_of_packaging (Produce)\\image_815.png\n",
      "Deleted: C:/Users/ADMIN/Desktop/Flask site with local storage/image csv/out_of_packaging (Produce)\\image_816.jpg\n",
      "Deleted: C:/Users/ADMIN/Desktop/Flask site with local storage/image csv/out_of_packaging (Produce)\\image_817.png\n",
      "Deleted: C:/Users/ADMIN/Desktop/Flask site with local storage/image csv/out_of_packaging (Produce)\\image_821.jpg\n",
      "Deleted: C:/Users/ADMIN/Desktop/Flask site with local storage/image csv/out_of_packaging (Produce)\\image_824.png\n",
      "Deleted: C:/Users/ADMIN/Desktop/Flask site with local storage/image csv/out_of_packaging (Produce)\\image_825.jpg\n",
      "Deleted: C:/Users/ADMIN/Desktop/Flask site with local storage/image csv/out_of_packaging (Produce)\\image_829.png\n",
      "Deleted: C:/Users/ADMIN/Desktop/Flask site with local storage/image csv/out_of_packaging (Produce)\\image_831.jpg\n",
      "Deleted: C:/Users/ADMIN/Desktop/Flask site with local storage/image csv/out_of_packaging (Produce)\\image_835.jpeg\n",
      "Deleted: C:/Users/ADMIN/Desktop/Flask site with local storage/image csv/out_of_packaging (Produce)\\image_837.jpeg\n",
      "Deleted: C:/Users/ADMIN/Desktop/Flask site with local storage/image csv/out_of_packaging (Produce)\\image_846.jpg\n",
      "Deleted: C:/Users/ADMIN/Desktop/Flask site with local storage/image csv/out_of_packaging (Produce)\\image_848.jpg\n",
      "Deleted: C:/Users/ADMIN/Desktop/Flask site with local storage/image csv/out_of_packaging (Produce)\\image_85.jpg\n",
      "Deleted: C:/Users/ADMIN/Desktop/Flask site with local storage/image csv/out_of_packaging (Produce)\\image_853.jpg\n",
      "Deleted: C:/Users/ADMIN/Desktop/Flask site with local storage/image csv/out_of_packaging (Produce)\\image_856.jpg\n",
      "Deleted: C:/Users/ADMIN/Desktop/Flask site with local storage/image csv/out_of_packaging (Produce)\\image_860.jpg\n",
      "Deleted: C:/Users/ADMIN/Desktop/Flask site with local storage/image csv/out_of_packaging (Produce)\\image_868.jpg\n",
      "Deleted: C:/Users/ADMIN/Desktop/Flask site with local storage/image csv/out_of_packaging (Produce)\\image_871.png\n",
      "Deleted: C:/Users/ADMIN/Desktop/Flask site with local storage/image csv/out_of_packaging (Produce)\\image_872.jpg\n",
      "Deleted: C:/Users/ADMIN/Desktop/Flask site with local storage/image csv/out_of_packaging (Produce)\\image_875.png\n",
      "Deleted: C:/Users/ADMIN/Desktop/Flask site with local storage/image csv/out_of_packaging (Produce)\\image_880.jpg\n",
      "Deleted: C:/Users/ADMIN/Desktop/Flask site with local storage/image csv/out_of_packaging (Produce)\\image_884.webp\n",
      "Deleted: C:/Users/ADMIN/Desktop/Flask site with local storage/image csv/out_of_packaging (Produce)\\image_885.webp\n",
      "Deleted: C:/Users/ADMIN/Desktop/Flask site with local storage/image csv/out_of_packaging (Produce)\\image_89.jpg\n",
      "Deleted: C:/Users/ADMIN/Desktop/Flask site with local storage/image csv/out_of_packaging (Produce)\\image_890.webp\n",
      "Deleted: C:/Users/ADMIN/Desktop/Flask site with local storage/image csv/out_of_packaging (Produce)\\image_891.webp\n",
      "Deleted: C:/Users/ADMIN/Desktop/Flask site with local storage/image csv/out_of_packaging (Produce)\\image_892.webp\n",
      "Deleted: C:/Users/ADMIN/Desktop/Flask site with local storage/image csv/out_of_packaging (Produce)\\image_896.png\n",
      "Deleted: C:/Users/ADMIN/Desktop/Flask site with local storage/image csv/out_of_packaging (Produce)\\image_897.jpg\n",
      "Deleted: C:/Users/ADMIN/Desktop/Flask site with local storage/image csv/out_of_packaging (Produce)\\image_902.jpg\n",
      "Deleted: C:/Users/ADMIN/Desktop/Flask site with local storage/image csv/out_of_packaging (Produce)\\image_907.jpg\n",
      "Deleted: C:/Users/ADMIN/Desktop/Flask site with local storage/image csv/out_of_packaging (Produce)\\image_909.jpg\n",
      "Deleted: C:/Users/ADMIN/Desktop/Flask site with local storage/image csv/out_of_packaging (Produce)\\image_917.jpg\n",
      "Deleted: C:/Users/ADMIN/Desktop/Flask site with local storage/image csv/out_of_packaging (Produce)\\image_918.jpg\n",
      "Deleted: C:/Users/ADMIN/Desktop/Flask site with local storage/image csv/out_of_packaging (Produce)\\image_920.jpg\n",
      "Deleted: C:/Users/ADMIN/Desktop/Flask site with local storage/image csv/out_of_packaging (Produce)\\image_923.jpg\n",
      "Deleted: C:/Users/ADMIN/Desktop/Flask site with local storage/image csv/out_of_packaging (Produce)\\image_93.jpg\n",
      "Deleted: C:/Users/ADMIN/Desktop/Flask site with local storage/image csv/out_of_packaging (Produce)\\image_935.jpg\n",
      "Deleted: C:/Users/ADMIN/Desktop/Flask site with local storage/image csv/out_of_packaging (Produce)\\image_94.jpg\n",
      "Deleted: C:/Users/ADMIN/Desktop/Flask site with local storage/image csv/out_of_packaging (Produce)\\image_95.jpeg\n",
      "Deleted: C:/Users/ADMIN/Desktop/Flask site with local storage/image csv/out_of_packaging (Produce)\\image_97.jpg\n",
      "Deleted: C:/Users/ADMIN/Desktop/Flask site with local storage/image csv/out_of_packaging (Produce)\\image_98.jpg\n"
     ]
    }
   ],
   "source": [
    "import os\n",
    "import hashlib\n",
    "\n",
    "# Path to the directory containing the images\n",
    "directory = \"C:/Users/ADMIN/Desktop/Flask site with local storage/image csv/out_of_packaging (Produce)\"  # Replace with your directory\n",
    "\n",
    "# Function to generate hash of an image\n",
    "def get_image_hash(image_path):\n",
    "    hash_sha256 = hashlib.sha256()\n",
    "    with open(image_path, 'rb') as f:\n",
    "        # Read the image in chunks to avoid memory overload\n",
    "        while chunk := f.read(8192):\n",
    "            hash_sha256.update(chunk)\n",
    "    return hash_sha256.hexdigest()\n",
    "\n",
    "# Function to remove duplicate images\n",
    "def remove_duplicates(directory):\n",
    "    image_hashes = {}\n",
    "    duplicates = []\n",
    "\n",
    "    # Loop through all files in the directory\n",
    "    for filename in os.listdir(directory):\n",
    "        file_path = os.path.join(directory, filename)\n",
    "\n",
    "        # Only consider files (skip directories)\n",
    "        if os.path.isfile(file_path):\n",
    "            # Get the hash of the image\n",
    "            file_hash = get_image_hash(file_path)\n",
    "\n",
    "            # If the hash is already in the dictionary, it's a duplicate\n",
    "            if file_hash in image_hashes:\n",
    "                print(f\"Duplicate found: {file_path}\")\n",
    "                duplicates.append(file_path)\n",
    "            else:\n",
    "                # If it's not a duplicate, store the hash\n",
    "                image_hashes[file_hash] = file_path\n",
    "\n",
    "    # Delete duplicate images\n",
    "    for duplicate in duplicates:\n",
    "        try:\n",
    "            os.remove(duplicate)\n",
    "            print(f\"Deleted: {duplicate}\")\n",
    "        except Exception as e:\n",
    "            print(f\"Error deleting {duplicate}: {e}\")\n",
    "\n",
    "# Run the function to remove duplicates\n",
    "remove_duplicates(directory)\n"
   ]
  },
  {
   "cell_type": "code",
   "execution_count": null,
   "id": "a90b35c0-6423-46ca-add0-89e69df9e6d6",
   "metadata": {},
   "outputs": [],
   "source": []
  }
 ],
 "metadata": {
  "kernelspec": {
   "display_name": "Python 3 (ipykernel)",
   "language": "python",
   "name": "python3"
  },
  "language_info": {
   "codemirror_mode": {
    "name": "ipython",
    "version": 3
   },
   "file_extension": ".py",
   "mimetype": "text/x-python",
   "name": "python",
   "nbconvert_exporter": "python",
   "pygments_lexer": "ipython3",
   "version": "3.12.7"
  }
 },
 "nbformat": 4,
 "nbformat_minor": 5
}
